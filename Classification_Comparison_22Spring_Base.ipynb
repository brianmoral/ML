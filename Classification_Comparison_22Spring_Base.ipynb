{
  "cells": [
    {
      "cell_type": "code",
      "execution_count": null,
      "id": "8d7c8e8a",
      "metadata": {
        "id": "8d7c8e8a"
      },
      "outputs": [],
      "source": [
        "import sklearn.datasets\n",
        "import sklearn.neighbors\n",
        "\n",
        "data = sklearn.datasets.load_breast_cancer()\n",
        "\n",
        "data_X = data.data\n",
        "data_y = data.target\n",
        "\n",
        "print(data_X.shape)\n",
        "print(data_y.shape)\n",
        "\n",
        "print(data_X)\n",
        "print(data_y)\n",
        "\n",
        "#Need to define train and test splits\n",
        "\n",
        "neighbors_model = sklearn.neighbors.KNeighborsClassifier(n_neighbors=3)\n",
        "neighbors_model.fit(X_train, y_train)\n",
        "print(\"K Nearest Neighbors\")\n",
        "print(neighbors_model.score(X_test, y_test))\n"
      ]
    },
    {
      "cell_type": "code",
      "execution_count": null,
      "id": "b4b1a923",
      "metadata": {
        "id": "b4b1a923"
      },
      "outputs": [],
      "source": []
    }
  ],
  "metadata": {
    "kernelspec": {
      "display_name": "Python 3",
      "language": "python",
      "name": "python3"
    },
    "language_info": {
      "codemirror_mode": {
        "name": "ipython",
        "version": 3
      },
      "file_extension": ".py",
      "mimetype": "text/x-python",
      "name": "python",
      "nbconvert_exporter": "python",
      "pygments_lexer": "ipython3",
      "version": "3.8.8"
    },
    "colab": {
      "provenance": [],
      "collapsed_sections": []
    }
  },
  "nbformat": 4,
  "nbformat_minor": 5
}