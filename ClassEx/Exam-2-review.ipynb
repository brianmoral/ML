{
 "cells": [
  {
   "cell_type": "markdown",
   "metadata": {},
   "source": [
    "## Neural Nets and Recurrent Neural Nets\n",
    "\n",
    " - ### Feed-Forward Neural Nets\n",
    "     - Initialize weights \n",
    "    SGD Loop: \n",
    "    \n",
    "        - forward propagate for activations\n",
    "\n",
    "        - backward propagate for derivatives\n",
    "            1. Backpropagation: Compute $\\delta$ \n",
    "            2. Compute the weight derivatives\n",
    "            3. compute the bias derivatives\n",
    "            4. back propagate for different layer\n",
    "        \n",
    "        - update wieights\n",
    " - ### RNN vs LSTM \n",
    " "
   ]
  },
  {
   "cell_type": "markdown",
   "metadata": {},
   "source": [
    "## Convolutional Neural Nets\n",
    "\n",
    "1) Convolve the input\n",
    "    - start with an initial matrix, add an overlap convolution matrix to result in a new convolution matrix. \n",
    "    - Different type of convolution matrices: \n",
    "        1. Binary (Diagonal)\n",
    "        2. Sombreror (this catches edges)\n",
    "        3. Random\n",
    "2) Pool each convolation (Repeat 1 and 2 as desired)\n",
    "    - Reduce complexity by combining neighboring terms and find the max, average, or minimum value in pool \n",
    "3) Pass output inot a feed-forward neural net"
   ]
  },
  {
   "cell_type": "markdown",
   "metadata": {},
   "source": [
    "## Reinforcement Learning (AKA Q-Learning)\n",
    "\n",
    "1. A decision making entity (takes actions) \n",
    "2. the space in which the agent is making devisions (environment updates)\n",
    "3. change state or recieve reward.\n",
    "\n",
    "#### Developing Q: \n",
    "- Caclulate the probability of success or failure at each point\n",
    "\n",
    "#### Monte Carlo Estimation\n",
    " - Instead of mapping out the full probability space, lets generate a bunch of sample uses of our policy (to end state) and use the outcomes to determine the value. "
   ]
  },
  {
   "cell_type": "markdown",
   "metadata": {},
   "source": [
    "## Principle Component Analysis (PCA)\n",
    "\n",
    "Classification of the data and understand what makes these data unique. \n",
    "1. Build a linear model approximation\n",
    "    - Implementation details outlined in ESL textbook \n",
    "    - Gram-Schmidt Process\n",
    "2. Extract the $q$ principle components you seek \n",
    "3. "
   ]
  },
  {
   "cell_type": "markdown",
   "metadata": {},
   "source": [
    "## Dense Neural Nets\n",
    "\n",
    "Activation functions to be familiar with: (he will make us do this by hand in the exam) \n",
    " - ReLU\n",
    " - Sigmoid \n",
    " - Tanh "
   ]
  },
  {
   "cell_type": "markdown",
   "metadata": {},
   "source": []
  }
 ],
 "metadata": {
  "kernelspec": {
   "display_name": "Python 3.10.6 64-bit",
   "language": "python",
   "name": "python3"
  },
  "language_info": {
   "name": "python",
   "version": "3.10.6"
  },
  "orig_nbformat": 4,
  "vscode": {
   "interpreter": {
    "hash": "aee8b7b246df8f9039afb4144a1f6fd8d2ca17a180786b69acc140d282b71a49"
   }
  }
 },
 "nbformat": 4,
 "nbformat_minor": 2
}
