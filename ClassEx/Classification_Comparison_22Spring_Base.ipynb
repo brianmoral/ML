{
  "cells": [
    {
      "cell_type": "code",
      "execution_count": 20,
      "id": "8d7c8e8a",
      "metadata": {
        "id": "8d7c8e8a",
        "colab": {
          "base_uri": "https://localhost:8080/"
        },
        "outputId": "4c185a8e-bd46-4357-eb0d-287432184bb3"
      },
      "outputs": [
        {
          "output_type": "stream",
          "name": "stdout",
          "text": [
            "K Nearest Neighbors\n",
            "0.9298245614035088\n",
            "F1 Score\n",
            "0.9444444444444444\n",
            "\n",
            "Random Forest\n",
            "0.9649122807017544\n",
            "\n",
            "Boost Model\n",
            "0.9736842105263158\n"
          ]
        }
      ],
      "source": [
        "import sklearn.datasets\n",
        "import sklearn.neighbors\n",
        "import sklearn.ensemble\n",
        "\n",
        "data = sklearn.datasets.load_breast_cancer()\n",
        "\n",
        "data_X = data.data\n",
        "data_y = data.target\n",
        "\n",
        "# print(data_X.shape)\n",
        "# print(data_y.shape)\n",
        "\n",
        "# print(data_X)\n",
        "# print(data_y)\n",
        "\n",
        "#Need to define train and test splits\n",
        "\n",
        "# 80% train , 20% test\n",
        "X_train, X_test, y_train, y_test = sklearn.model_selection.train_test_split(data_X, data_y, test_size=0.2, random_state = 42, shuffle=True)\n",
        "\n",
        "# We represent a capital X as a matrix and a lower case y as a vector\n",
        "# print(X_train.shape)\n",
        "# print(X_test.shape)\n",
        "# print(y_train.shape)\n",
        "# print(y_test.shape)\n",
        "\n",
        "###############################################\n",
        "#\n",
        "# K-Nearest Neighbors \n",
        "#\n",
        "###############################################\n",
        "neighbors_model = sklearn.neighbors.KNeighborsClassifier(n_neighbors=3)\n",
        "neighbors_model.fit(X_train, y_train)\n",
        "print(\"K Nearest Neighbors\")\n",
        "print(neighbors_model.score(X_test, y_test))\n",
        "\n",
        "y_pred = neighbors_model.predict(X_test)\n",
        "print(\"F1 Score\")\n",
        "print(sklearn.metrics.f1_score(y_test, y_pred))\n",
        "\n",
        "\n",
        "###############################################\n",
        "#\n",
        "# Random Forest\n",
        "#\n",
        "###############################################\n",
        "forest_model = sklearn.ensemble.RandomForestClassifier(random_state = 42)\n",
        "forest_model.fit(X_train, y_train)\n",
        "print(\"\\nRandom Forest\")\n",
        "print(forest_model.score(X_test, y_test))\n",
        "\n",
        "\n",
        "\n",
        "###############################################\n",
        "#\n",
        "# AdaBoost\n",
        "#\n",
        "###############################################\n",
        "boost_model = sklearn.ensemble.AdaBoostClassifier()\n",
        "boost_model.fit(X_train, y_train)\n",
        "print(\"\\nBoost Model\")\n",
        "print(boost_model.score(X_test, y_test))\n",
        "\n",
        "\n",
        "\n",
        "\n"
      ]
    },
    {
      "cell_type": "code",
      "execution_count": 10,
      "id": "b4b1a923",
      "metadata": {
        "id": "b4b1a923"
      },
      "outputs": [],
      "source": []
    }
  ],
  "metadata": {
    "kernelspec": {
      "display_name": "Python 3",
      "language": "python",
      "name": "python3"
    },
    "language_info": {
      "codemirror_mode": {
        "name": "ipython",
        "version": 3
      },
      "file_extension": ".py",
      "mimetype": "text/x-python",
      "name": "python",
      "nbconvert_exporter": "python",
      "pygments_lexer": "ipython3",
      "version": "3.8.8"
    },
    "colab": {
      "provenance": [],
      "collapsed_sections": []
    }
  },
  "nbformat": 4,
  "nbformat_minor": 5
}