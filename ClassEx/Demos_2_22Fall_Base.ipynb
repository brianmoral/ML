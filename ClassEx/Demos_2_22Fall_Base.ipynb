{
 "cells": [
  {
   "cell_type": "code",
   "execution_count": 21,
   "id": "8d7c8e8a",
   "metadata": {
    "colab": {
     "base_uri": "https://localhost:8080/"
    },
    "id": "8d7c8e8a",
    "outputId": "6e82e6dc-17cf-4959-a0a6-61bbb1bd10ce"
   },
   "outputs": [
    {
     "name": "stdout",
     "output_type": "stream",
     "text": [
      "Linear Regression\n",
      "0.5308112981372266\n",
      "[-2.63392504e+01 -2.30974533e+02  5.11465549e+02  3.47162714e+02\n",
      " -6.84677092e+02  4.45560973e+02  6.56263886e+01  1.76478924e+02\n",
      "  6.86910884e+02  5.79003348e-01]\n",
      "151.495280882473\n",
      "Ridge Regression\n",
      "0.5165088914298352\n",
      "[ -14.39612641 -188.98595025  471.69039034  313.9000038   -40.72038716\n",
      "  -46.74199487 -186.3024001   121.29539619  395.86290046   36.06650049]\n",
      "151.43419997825228\n",
      "Lasso\n",
      "0.5079537862676818\n",
      "[  -0.         -144.29755986  508.26925315  289.03125334   -0.\n",
      "   -0.         -220.32925328    0.          429.11032284    0.        ]\n",
      "151.42750561311834\n",
      "Logistic Regression\n",
      "0.0\n"
     ]
    }
   ],
   "source": [
    "import sklearn.datasets\n",
    "import sklearn.model_selection\n",
    "import sklearn.linear_model\n",
    "import sklearn.preprocessing\n",
    "\n",
    "data = sklearn.datasets.load_diabetes()\n",
    "\n",
    "data_X = data.data\n",
    "data_y = data.target\n",
    "\n",
    "#print(data_X.shape)\n",
    "#print(data_y.shape)\n",
    "\n",
    "# print(data_X)\n",
    "# print(data_y)\n",
    "\n",
    "#Need to define train and test splits\n",
    "#select 80% for train, 20% for split\n",
    "X_train, X_test, y_train, y_test = sklearn.model_selection.train_test_split(data_X,data_y,random_state=5)\n",
    "\n",
    "# print(X_train.shape)\n",
    "# print(X_test.shape)\n",
    "# print(y_train.shape)\n",
    "# print(y_test.shape)\n",
    "\n",
    "####################################################\n",
    "#\n",
    "# Normalizing (Standardizing) Dataset\n",
    "#\n",
    "####################################################\n",
    "\n",
    "scaler = sklearn.preprocessing.StandardScaler()\n",
    "scaler.fit(X_train)\n",
    "X_train_scaled = scaler.transform(X_train)\n",
    "X_test_scaled = scaler.transform(X_test)\n",
    "\n",
    "\n",
    "print(\"Linear Regression\")\n",
    "linreg_model = sklearn.linear_model.LinearRegression()\n",
    "linreg_model.fit(X_train, y_train)\n",
    "print(linreg_model.score(X_test, y_test))\n",
    "print(linreg_model.coef_)\n",
    "print(linreg_model.intercept_)\n",
    "\n",
    "print(\"Ridge Regression\")\n",
    "ridge_model = sklearn.linear_model.Ridge(alpha = 0.1)\n",
    "ridge_model.fit(X_train, y_train)\n",
    "print(ridge_model.score(X_test, y_test))\n",
    "print(ridge_model.coef_)\n",
    "print(ridge_model.intercept_)\n",
    "\n",
    "\n",
    "print('Lasso')\n",
    "lass_model = sklearn.linear_model.Lasso(alpha = 0.1)\n",
    "lass_model.fit(X_train, y_train)\n",
    "print(lass_model.score(X_test, y_test))\n",
    "print(lass_model.coef_)\n",
    "print(lass_model.intercept_)\n",
    "\n",
    "print('Logistic Regression')\n",
    "logistic_model = sklearn.linear_model.LogisticRegression(random_state=42)\n",
    "logistic_model.fit(X_train, y_train)\n",
    "print(logistic_model.score(X_test, y_test))"
   ]
  },
  {
   "cell_type": "code",
   "execution_count": 2,
   "id": "b4b1a923",
   "metadata": {
    "colab": {
     "base_uri": "https://localhost:8080/"
    },
    "id": "b4b1a923",
    "outputId": "34333e55-6416-4072-9813-05a88dc73294"
   },
   "outputs": [
    {
     "name": "stdout",
     "output_type": "stream",
     "text": [
      "(426, 30)\n",
      "(143, 30)\n",
      "(426,)\n",
      "(143,)\n",
      "K Nearest Neighbors\n",
      "0.9370629370629371\n",
      "0.9508196721311476\n",
      "Random Forest\n",
      "0.972027972027972\n",
      "AdaBoost\n",
      "0.9790209790209791\n"
     ]
    }
   ],
   "source": [
    "import sklearn.datasets\n",
    "import sklearn.neighbors\n",
    "import sklearn.ensemble\n",
    "\n",
    "data = sklearn.datasets.load_breast_cancer()\n",
    "\n",
    "data_X = data.data\n",
    "#data_X[:,1] = data_X[:,1]*100000000000\n",
    "data_y = data.target\n",
    "\n",
    "#print(data_X.shape)\n",
    "#print(data_y.shape)\n",
    "\n",
    "#print(data_X)\n",
    "#print(data_y)\n",
    "\n",
    "#Need to define train and test splits\n",
    "#select 80% for train, 20% for split\n",
    "X_train, X_test, y_train, y_test = sklearn.model_selection.train_test_split(data_X,data_y,random_state=5)\n",
    "\n",
    "print(X_train.shape)\n",
    "print(X_test.shape)\n",
    "print(y_train.shape)\n",
    "print(y_test.shape)\n",
    "\n",
    "neighbors_model = sklearn.neighbors.KNeighborsClassifier(n_neighbors=3)\n",
    "neighbors_model.fit(X_train, y_train)\n",
    "print(\"K Nearest Neighbors\")\n",
    "print(neighbors_model.score(X_test, y_test))\n",
    "y_pred = neighbors_model.predict(X_test)\n",
    "print(sklearn.metrics.f1_score(y_test, y_pred))\n",
    "\n",
    "#forest\n",
    "forest_model = sklearn.ensemble.RandomForestClassifier(random_state=42)\n",
    "forest_model.fit(X_train, y_train)\n",
    "print(\"Random Forest\")\n",
    "print(forest_model.score(X_test, y_test))\n",
    "\n",
    "\n",
    "#boosting\n",
    "\n",
    "boost_model = sklearn.ensemble.AdaBoostClassifier(random_state=42)\n",
    "boost_model.fit(X_train, y_train)\n",
    "print(\"AdaBoost\")\n",
    "print(boost_model.score(X_test, y_test))"
   ]
  }
 ],
 "metadata": {
  "colab": {
   "collapsed_sections": [],
   "provenance": []
  },
  "kernelspec": {
   "display_name": "Python 3 (ipykernel)",
   "language": "python",
   "name": "python3"
  },
  "language_info": {
   "codemirror_mode": {
    "name": "ipython",
    "version": 3
   },
   "file_extension": ".py",
   "mimetype": "text/x-python",
   "name": "python",
   "nbconvert_exporter": "python",
   "pygments_lexer": "ipython3",
   "version": "3.9.12"
  }
 },
 "nbformat": 4,
 "nbformat_minor": 5
}
