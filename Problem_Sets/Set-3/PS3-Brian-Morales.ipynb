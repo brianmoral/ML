{
 "cells": [
  {
   "cell_type": "markdown",
   "metadata": {},
   "source": [
    "# Problem Set 3 - Linear Regression, Logistic Regression, and Feature Engineering\n",
    "## CSCI 5622 - Fall 2022\n",
    "***\n",
    "**Name**: Brian Morales\n",
    "***\n",
    "\n",
    "This assignment is due on Canvas by **11:59PM on October 28th**.\n",
    "\n",
    "Submit only this Jupyter notebook to Canvas with the name format `PS3_<yourname>.ipynb`. Do not compress it using tar, rar, zip, etc.\n",
    "Your solutions to analysis questions should be done in Markdown directly below the associated question. You can add a write-up markdown cell if it wasn't provided.\n",
    "\n",
    "Remember that you are encouraged to discuss the problems with your classmates and instructors, \n",
    "but **you must write all code and solutions on your own**, and list any people or sources consulted.\n",
    "The only exception to this rule is that you may copy code directly from your own solution to previous homeworks.\n",
    "***"
   ]
  },
  {
   "cell_type": "code",
   "execution_count": 1,
   "metadata": {
    "pycharm": {
     "name": "#%%\n"
    }
   },
   "outputs": [],
   "source": [
    "import numpy as np\n",
    "import matplotlib.pyplot as plt\n",
    "from sklearn.preprocessing import StandardScaler\n",
    "import data\n",
    "import tests\n",
    "%matplotlib inline"
   ]
  },
  {
   "cell_type": "markdown",
   "metadata": {
    "deletable": false,
    "editable": false,
    "nbgrader": {
     "cell_type": "markdown",
     "checksum": "4556561023dddce9b62a1f66e65c735e",
     "grade": false,
     "grade_id": "linreg",
     "locked": true,
     "schema_version": 3,
     "solution": false,
     "task": false
    }
   },
   "source": [
    "## Problem 1: Linear Regression (28 points)\n",
    "For this problem we will be using house price data from King County, Washington (Seattle area) for our linear regression implementations. We will be predicting house prices from the following features:\n",
    "\n",
    "| Feature | About |\n",
    "| --- | --- |\n",
    "| Bedrooms | Number of bedrooms |\n",
    "| Bathrooms | Number of bathrooms |\n",
    "| SQFT Living | Interior square footage |\n",
    "| SQFT Lot | Lot size |\n",
    "| Floors | Number of floors |\n",
    "| Waterfront | Whether the property overlooks water (1 if so, 0 otherwise) |\n",
    "| View | Rating of the quality of the view (0-4) |\n",
    "| Condition | Rating of the condition of the property (1-5) |\n",
    "| Grade | Rating of the quality of construction and design (1-13) | \n",
    "| SQFT Above | Square footage of interior space above ground level |\n",
    "| SQFT Basement | Square footage of interior space below ground level |\n",
    "| Year Built | Year first built |\n",
    "\n",
    "\n",
    "First, we want to scale the prices to the interval $[0, 1]$ using `MinMaxScaler`. Given an features matrix $X$, the scaling works as follows:\n",
    "\\begin{align}\n",
    "    X  \\leftarrow \\frac{X-min(X)}{max(X) - min(X)}\n",
    "\\end{align}\n",
    "\n",
    "this is performed as a column-wise operation (column = feature).\n",
    "\n",
    "As usual, $min(X)$ and $max(X)$ are computed on the training set."
   ]
  },
  {
   "cell_type": "markdown",
   "metadata": {
    "deletable": false,
    "editable": false,
    "nbgrader": {
     "cell_type": "markdown",
     "checksum": "70c3a1de57f97ec4920e6a6fa9ee23e5",
     "grade": false,
     "grade_id": "q11",
     "locked": true,
     "schema_version": 3,
     "solution": false,
     "task": false
    },
    "pycharm": {
     "name": "#%% md\n"
    }
   },
   "source": [
    "- 1.1.a **[2 points]** Complete `MinMaxScaler.fit` to compute and save the column-wise min and max.\n",
    "- 1.1.b **[1 points]** Complete `MinMaxScaler.transform` to apply the min-max scaling using the computed statistics."
   ]
  },
  {
   "cell_type": "code",
   "execution_count": 2,
   "metadata": {
    "deletable": false,
    "nbgrader": {
     "cell_type": "code",
     "checksum": "82e00c45744385ef3d336b873915df4e",
     "grade": true,
     "grade_id": "a11",
     "locked": false,
     "points": 3,
     "schema_version": 3,
     "solution": true,
     "task": false
    },
    "pycharm": {
     "name": "#%%\n"
    }
   },
   "outputs": [],
   "source": [
    "class MinMaxScaler:\n",
    "\n",
    "    def __init__(self):\n",
    "        self.min = None\n",
    "        self.max = None\n",
    "\n",
    "    def fit(self, X):\n",
    "        \"\"\"\n",
    "        Compute and save the features min and max of shape (num_features,)\n",
    "        (you can also save them with shape (1, num_features))\n",
    "        :param X: array of shape (num_samples, num_features)\n",
    "        :return: fitted scaler\n",
    "        \"\"\"\n",
    "        # Workspace 1.1.a\n",
    "        #BEGIN \n",
    "        self.max = np.amax(X, axis=0)\n",
    "        self.min = np.amin(X, axis = 0)\n",
    "        #END\n",
    "        return self\n",
    "\n",
    "    def transform(self, X):\n",
    "        \"\"\"\n",
    "        Transform the given samples using the precomputed min and max\n",
    "        :param X: np.array of shape (num_samples, num_features)\n",
    "        :return: MinMax scaled X, of shape (num_samples, num_features)\n",
    "        \"\"\"\n",
    "        # Workspace 1.1.b\n",
    "        #BEGIN \n",
    "        return (X - self.min)/(self.max - self.min)\n",
    "        #END\n",
    "\n",
    "    def fit_transform(self, X):\n",
    "        \"\"\"\n",
    "        Fit using X and then transform it. Useful when we need to scale just once.\n",
    "        \"\"\"\n",
    "        self.fit(X)\n",
    "        return self.transform(X)\n"
   ]
  },
  {
   "cell_type": "code",
   "execution_count": 3,
   "metadata": {
    "pycharm": {
     "name": "#%%\n"
    }
   },
   "outputs": [
    {
     "data": {
      "image/png": "[encoded data removed]",
      "text/plain": [
       "<Figure size 432x288 with 1 Axes>"
      ]
     },
     "metadata": {
      "needs_background": "light"
     },
     "output_type": "display_data"
    }
   ],
   "source": [
    "house_prices = data.HousePrices()\n",
    "minmax_scaler = MinMaxScaler()\n",
    "# MinMax works on 2-d arrays, so we just need to parse the prices as a single column/feature\n",
    "# and then squeeze it back to 1-d array\n",
    "house_prices.y_train = minmax_scaler.fit_transform(house_prices.y_train[:, None])[:, 0]\n",
    "house_prices.y_test = minmax_scaler.transform(house_prices.y_test[:, None])[:, 0]\n",
    "plt.hist(house_prices.y_train, bins=40)\n",
    "plt.title(\"Scaled prices distribution\")\n",
    "plt.show()"
   ]
  },
  {
   "cell_type": "markdown",
   "metadata": {
    "deletable": false,
    "editable": false,
    "nbgrader": {
     "cell_type": "markdown",
     "checksum": "d9bce035031f7376f293d880cd67fc00",
     "grade": false,
     "grade_id": "q12",
     "locked": true,
     "schema_version": 3,
     "solution": false,
     "task": false
    },
    "pycharm": {
     "name": "#%% md\n"
    }
   },
   "source": [
    "We have seen that Ridge regression adds a regularization term to the least square using the L2 norm.\n",
    "Ridge regression is part of scikit-learn package ([read more](https://scikit-learn.org/stable/modules/generated/sklearn.linear_model.Ridge.html)), but we will be building our own implementation.\n",
    "You can test your implementation against scikit's.\n",
    "\n",
    "The objective of Ridge regression is to minimize:\n",
    "\n",
    "\\begin{align}\n",
    "\\frac{1}{N}\\sum_{i=1}^{N} ||y_i-\\mathbf{w}^T \\mathbf{x_i}-\\mathbf{b}||^2 + \\alpha||\\mathbf{w}||^2\n",
    "\\end{align}\n",
    "\n",
    "where $\\mathbf{w}$ denotes the coefficients vector for the linear regression model,\n",
    "$\\mathbf{b}$ the intercept vector, $\\alpha$ the trade-off regularization parameter, and $N$ the number of samples.\n",
    "\n",
    "Luckily for us, Ridge regression admits a closed form solution for $\\mathbf w$ and $\\mathbf{b}$.\n",
    "\n",
    "Let $X$ be the $N\\times d$ matrix whose rows are the training samples $(\\mathbf{x_i})_{i\\leq N}$ and $Y=(y_i)_{i\\leq N}$ the target values.\n",
    "\n",
    "First, we start by centering the features (columns of X) by subtracting the mean of the column to get centered matrix $\\tilde{X}$. Then the solution for the minimization is (trust me):\n",
    "\n",
    "\\begin{align}\n",
    "&\\mathbf{w^*} = (\\tilde{X}^T\\tilde{X}+ \\alpha I)^{-1}\\tilde{X}^TY \\\\\n",
    "&\\mathbf{b^*} = \\frac{1}{N} \\sum_{i}^{i=N} (y_i - \\mathbf{w^*}^T \\mathbf{x_i})\n",
    "\\end{align}\n",
    "\n",
    "Note that:\n",
    "- The samples in $b^*$ are not centered.\n",
    "- The predicted targets would be $\\hat{y}_i = \\mathbf{w^*}^T \\mathbf{x_i}+\\mathbf{b^*} $\n",
    "- $\\tilde{X}$ is only needed in the `fit` method when we compute $\\mathbf{w^*}$ and $\\mathbf{b^*}$\n",
    "\n",
    "A common practice is to scale or normalize (usually normalize) the features before fitting the model. It allows a _fair_ treatment of different features.\n",
    "You are allowed to use scikit's `StandardScaler` to do the normalization (yes, a thing called scaler is normalizing. Don't @ me, @ sklearn). Do not forget to run the same transformation on the test data before running the prediction.\n",
    "\n",
    "- 1.2 **[5 points]** Complete the `fit` and `evaluate` methods following the provided descriptions."
   ]
  },
  {
   "cell_type": "code",
   "execution_count": 4,
   "metadata": {
    "deletable": false,
    "nbgrader": {
     "cell_type": "code",
     "checksum": "905d77fd318287c1acefa7b60df8615e",
     "grade": true,
     "grade_id": "a12",
     "locked": false,
     "points": 5,
     "schema_version": 3,
     "solution": true,
     "task": false
    },
    "pycharm": {
     "name": "#%%\n"
    }
   },
   "outputs": [],
   "source": [
    "class Ridge(object):\n",
    "\n",
    "    def __init__(self, alpha, normalize=False):\n",
    "        \"\"\"\n",
    "        :param alpha: regularization parameter\n",
    "        :param normalize: boolean whether to normalize the features or not\n",
    "        \"\"\"\n",
    "\n",
    "        self.alpha = alpha  # our tuning / regularization parameter\n",
    "        self.coefficients = None  # our weights vector, w (in formulae above)\n",
    "        self.intercept = None  # our intercept parameter, b (in formulae above)\n",
    "        self.normalize = normalize  # boolean whether to normalize the features or not\n",
    "        self.scaler = StandardScaler()  # method by which to normalize the features (depends on self.normalize)\n",
    "        \n",
    "    def standard_center(self, X, normalize: bool):\n",
    "        if normalize: \n",
    "            self.scaler.fit(X)\n",
    "            x_hat = self.scaler.transform(X)\n",
    "        else: \n",
    "            x_hat = X \n",
    "        \n",
    "        x_hat = x_hat - np.mean(x_hat, axis=0)\n",
    "        \n",
    "        return x_hat\n",
    "    \n",
    "    def b_intercept(self, X, y, coef): \n",
    "        if self.normalize:\n",
    "            self.scaler.fit(X)\n",
    "            x_hat = self.scaler.transform(X)\n",
    "        else:\n",
    "            x_hat = X\n",
    "        w_on_x = np.transpose(coef)*x_hat\n",
    "        intercept = 1/X.shape[0] * np.sum(y - np.sum(w_on_x,  axis = 1))\n",
    "        return intercept\n",
    "\n",
    "    def fit(self, X, y):\n",
    "        \"\"\"\n",
    "        Fit the ridge model, train it using the provided data\n",
    "        Calculate the number of non-zero coefficients in the model weights and the norm using np.linalg.norm\n",
    "        :param X: training features (num_samples, num_features)\n",
    "        :param y: target values (num_samples)\n",
    "        :return: tuple (number of non-zeros coefficients of w, norm of w)\n",
    "        \"\"\"\n",
    "        num_nonzero_coefs, coef_norm = 0, 0\n",
    "        # Workspace 1.2.a\n",
    "        # TO DO: compute w and b and store them in self.coef_ and self.intercept\n",
    "        # HINT: use self.scaler first, if and only if self.normalize is True\n",
    "        #BEGIN \n",
    "        x_hat  = self.standard_center(X, normalize=self.normalize) \n",
    "        \n",
    "        x_t = np.transpose(x_hat)\n",
    "        # this is the calculation in the paranthesis of w* \n",
    "        x_matrix = x_t @ x_hat + self.alpha * np.identity(X.shape[1])\n",
    "        x_inv = np.linalg.inv(x_matrix)\n",
    "        # storing w*\n",
    "        self.coefficients = x_inv @ x_t @ y\n",
    "        \n",
    "        num_nonzero_coefs = np.count_nonzero(self.coefficients)\n",
    "        coef_norm = np.linalg.norm(self.coefficients)\n",
    "        \n",
    "        # calculating b*\n",
    "        self.intercept = self.b_intercept(X, y, self.coefficients)\n",
    "        #END\n",
    "        return num_nonzero_coefs, coef_norm\n",
    "\n",
    "    def evaluate(self, X, y):\n",
    "        \"\"\"\n",
    "        Compute Root mean square error (RMSE) between the predicted values and the actual values of the test data\n",
    "        :param X: instances array of shape (num_samples, num_features)\n",
    "        :param y: the true targets, of shape (num_samples)\n",
    "        :return: RMSE\n",
    "        \"\"\"\n",
    "\n",
    "        # Workspace 1.2.b\n",
    "        # TO DO: predict based on the test features and return the root mean squared error\n",
    "        #BEGIN \n",
    "        w_on_x = np.transpose(self.coefficients) * X\n",
    "        y_pred = np.sum(w_on_x, axis= 1) + self.intercept\n",
    "        rmse = np.sqrt((np.sum((y - y_pred)**2))/len(y))\n",
    "        \n",
    "        #END\n",
    "        return rmse"
   ]
  },
  {
   "cell_type": "code",
   "execution_count": 5,
   "metadata": {
    "pycharm": {
     "name": "#%%\n"
    }
   },
   "outputs": [
    {
     "name": "stdout",
     "output_type": "stream",
     "text": [
      "Question 1.2.a: [PASS]\n",
      "Question 1.2.a: [PASS]\n",
      "Question 1.2.a: [PASS]\n",
      "Question 1.2.a: [PASS]\n"
     ]
    }
   ],
   "source": [
    "# Tests cells, do not remove\n",
    "# Should run without errors\n",
    "tests.test_ridge_coef(Ridge, normalize=False)\n",
    "tests.test_ridge_coef(Ridge, normalize=True)\n",
    "tests.test_ridge_intercept(Ridge, normalize=True)\n",
    "tests.test_ridge_intercept(Ridge, normalize=False)\n"
   ]
  },
  {
   "cell_type": "markdown",
   "metadata": {
    "deletable": false,
    "editable": false,
    "nbgrader": {
     "cell_type": "markdown",
     "checksum": "4b41a1efdc8c9b88c0be8ba2a7335354",
     "grade": false,
     "grade_id": "q13",
     "locked": true,
     "schema_version": 3,
     "solution": false,
     "task": false
    },
    "pycharm": {
     "name": "#%% md\n"
    }
   },
   "source": [
    "- 1.3 **[3 points]** Produce 3 plots as a function of $\\log_{10}(\\alpha)$ (logarithmic scale) that compare normalized versus non-normalized Ridge:\n",
    "    - The number of non-zero coefficients of $\\mathbf w$\n",
    "    - The norm of $\\mathbf w$\n",
    "    - The test RMSE (Root Mean Squared Error)\n",
    "\n",
    "Use the values of $\\alpha$ provided in the cell. What is the best `alpha` for each version of the two models?\n",
    "\n",
    "To produce multiple plots in the same figure, see the examples [here](https://matplotlib.org/devdocs/gallery/subplots_axes_and_figures/subplots_demo.html)"
   ]
  },
  {
   "cell_type": "code",
   "execution_count": 28,
   "metadata": {
    "deletable": false,
    "nbgrader": {
     "cell_type": "code",
     "checksum": "fe5a7f4ac64ab04983d323faa2db0662",
     "grade": true,
     "grade_id": "a13",
     "locked": false,
     "points": 3,
     "schema_version": 3,
     "solution": true,
     "task": false
    },
    "pycharm": {
     "name": "#%%\n"
    }
   },
   "outputs": [
    {
     "data": {
      "text/plain": [
       "[<matplotlib.lines.Line2D at 0x7fa641268c40>]"
      ]
     },
     "execution_count": 28,
     "metadata": {},
     "output_type": "execute_result"
    },
    {
     "data": {
      "image/png": "[encoded data removed]",
      "text/plain": [
       "<Figure size 1800x360 with 3 Axes>"
      ]
     },
     "metadata": {
      "needs_background": "light"
     },
     "output_type": "display_data"
    },
    {
     "data": {
      "image/png": "[encoded data removed]",
      "text/plain": [
       "<Figure size 1800x360 with 3 Axes>"
      ]
     },
     "metadata": {
      "needs_background": "light"
     },
     "output_type": "display_data"
    }
   ],
   "source": [
    "from matplotlib import markers\n",
    "\n",
    "\n",
    "alphas = [0.01, 0.05, 0.1, 0.2, 0.3, 1.0, 10.0, 100.0, 300.0, 500.0, 1e3, 1.5e3, 2e3, 5e3, 1e4]\n",
    "# Workspace 1.3\n",
    "#BEGIN \n",
    "# non zero coefficient arrays\n",
    "plt.rcParams['figure.figsize'] = [25, 5]\n",
    "num_nonzero_coef_arry = np.zeros(len(alphas))\n",
    "num_nonzero_coef_non_norm_arry = np.zeros(len(alphas))\n",
    "#normalized w arrays\n",
    "norm_w_arry = np.zeros(len(alphas))\n",
    "norm_w_non_norm_array = np.zeros(len(alphas))\n",
    "#rmse array \n",
    "rmse_arry = np.zeros(len(alphas))\n",
    "rmse_non_norm_arry = np.zeros(len(alphas))\n",
    "\n",
    "for _, alpha in enumerate(alphas):\n",
    "    norm_R = Ridge(alpha, normalize=True)\n",
    "    non_norm_R = Ridge(alpha, normalize = False)\n",
    "    num_coef, norm_w = norm_R.fit(house_prices.X_train, house_prices.y_train)\n",
    "    num_nonzer_coef_non_norm , norm_w_non_norm = non_norm_R.fit(house_prices.X_train, house_prices.y_train)\n",
    "    rmse = norm_R.evaluate(house_prices.X_test, house_prices.y_test)\n",
    "    rmse_non_norm = non_norm_R.evaluate(house_prices.X_test,house_prices.y_test)\n",
    "    \n",
    "    num_nonzero_coef_arry[_] = num_coef\n",
    "    norm_w_arry[_] = norm_w\n",
    "    \n",
    "    num_nonzero_coef_non_norm_arry[_] = num_nonzer_coef_non_norm\n",
    "    norm_w_non_norm_array[_] = norm_w_non_norm\n",
    "    \n",
    "    rmse_arry[_] = rmse\n",
    "    rmse_non_norm_arry[_] = rmse_non_norm\n",
    "\n",
    "fig, (ax1, ax2, ax3) = plt.subplots(1, 3)\n",
    "fig.suptitle(\"Normalized Ridge Regression\")\n",
    "ax1.set_xlabel('Alphas')\n",
    "ax1.set_xscale('log')\n",
    "ax1.set_ylabel('Number of Nonzero Coefficients')\n",
    "ax1.plot(alphas, num_nonzero_coef_arry)\n",
    "\n",
    "ax2.set_xlabel('Alphas')\n",
    "ax2.set_ylabel('Norm W')\n",
    "ax2.set_xscale('log')\n",
    "ax2.plot(alphas, norm_w_arry, marker = 'o')\n",
    "\n",
    "ax3.set_xlabel('Alphas')\n",
    "ax3.set_ylabel('RMSE')\n",
    "ax3.set_xscale('log')\n",
    "ax3.plot(alphas, rmse_arry, marker = 'o')\n",
    "ax3.plot(alphas[np.argmin(rmse_arry)], np.min(rmse_arry), '.', color = 'red')\n",
    "\n",
    "fig, (ax1, ax2, ax3) = plt.subplots(1, 3)\n",
    "fig.suptitle(\"Non-normalized Ridge Regression\")\n",
    "ax1.set_xlabel('Alphas')\n",
    "ax1.set_ylabel('Number of Nonzero Coefficients')\n",
    "ax1.set_xscale('log')\n",
    "ax1.plot(alphas, num_nonzero_coef_non_norm_arry)\n",
    "\n",
    "ax2.set_xlabel('Alphas')\n",
    "ax2.set_ylabel('Norm W')\n",
    "ax2.set_xscale('log')\n",
    "ax2.plot(alphas, norm_w_non_norm_array, marker = 'o')\n",
    "\n",
    "ax3.set_xlabel('Alphas')\n",
    "ax3.set_ylabel('RMSE')\n",
    "ax3.set_xscale('log')\n",
    "ax3.plot(alphas, rmse_non_norm_arry, marker = 'o')\n",
    "ax3.plot(alphas[np.argmin(rmse_non_norm_arry)], np.min(rmse_non_norm_arry), '.', color = 'red')\n",
    "\n",
    "    \n",
    "#END"
   ]
  },
  {
   "cell_type": "markdown",
   "metadata": {
    "deletable": false,
    "nbgrader": {
     "cell_type": "markdown",
     "checksum": "87e590454616cedacebd16e12fee8b16",
     "grade": true,
     "grade_id": "a13b",
     "locked": false,
     "points": 0,
     "schema_version": 3,
     "solution": true,
     "task": false
    },
    "pycharm": {
     "name": "#%% md\n"
    }
   },
   "source": [
    "#### Workspace 1.3b\n",
    "%BEGIN\n",
    "\n",
    "% YOUR ANSWER HERE\n",
    "\n",
    "%END"
   ]
  },
  {
   "cell_type": "markdown",
   "metadata": {
    "deletable": false,
    "editable": false,
    "nbgrader": {
     "cell_type": "markdown",
     "checksum": "b9fe7f5b0084b06469c94e83a8eb2ae1",
     "grade": false,
     "grade_id": "q14",
     "locked": true,
     "schema_version": 3,
     "solution": false,
     "task": false
    }
   },
   "source": [
    "Based on the results from previous questions, you should have noticed that the interpretation of Ridge regression is not an easy task.\n",
    "One way to solve that is to use a regularization that adds _sparsity_ to $\\mathbf w$ and excludes less important features.\n",
    "That's what Lasso regression is about.\n",
    "\n",
    "Lasso uses $l_1$ norm in the regularization term and minimizes:\n",
    "\\begin{align}\n",
    "\\frac{1}{2N}\\sum_i ||y_i-\\mathbf{w}^T \\mathbf{x}_i -\\mathbf{b}||^2 + \\alpha||\\mathbf{w}||_1\n",
    "\\end{align}\n",
    "\n",
    "It is part of scikit package ([more details](http://scikit-learn.org/stable/modules/generated/sklearn.linear_model.Lasso.html))\n",
    "and you're free to compare your implementation to scikit's.\n",
    "\n",
    "Unfortunately, there is no closed form solution for Lasso. Instead, we have powerful algorithms to optimize it.\n",
    "We will be using lasso-path solver from scikit-learn for our implementation to find $\\mathbf w^*$\n",
    "([see more](https://scikit-learn.org/stable/modules/generated/sklearn.linear_model.lasso_path.html#sklearn.linear_model.lasso_path)).\n",
    "(Note that `lasso_path` takes a list of $\\alpha$ in the argument `alphas` and not a scalar.)\n",
    "\n",
    "Similar to Ridge's, $ \\mathbf w^*_{lasso} $ is computed by feeding the centered $\\tilde{X}$ to `lasso_path`.\n",
    "Once $\\mathbf w^*$ is found, $\\mathbf{b}^*$ has the same formula from Ridge regression.\n",
    "\n",
    "- 1.4 **[4 points]** Complete the Lasso class in the same way Ridge class was created. (You're allowed to use inheritance for a more concise code, as long as the class has `coefficients` and `intercept` attributes.)"
   ]
  },
  {
   "cell_type": "code",
   "execution_count": 22,
   "metadata": {
    "deletable": false,
    "nbgrader": {
     "cell_type": "code",
     "checksum": "082eefa7cee4a116bad8797f18497236",
     "grade": true,
     "grade_id": "a14",
     "locked": false,
     "points": 4,
     "schema_version": 3,
     "solution": true,
     "task": false
    },
    "pycharm": {
     "name": "#%%\n"
    }
   },
   "outputs": [],
   "source": [
    "from sklearn.linear_model import lasso_path\n",
    "\n",
    "\n",
    "class Lasso(Ridge):\n",
    "    def __init__(self, alpha, normalize=False):\n",
    "        \"\"\"\n",
    "        :param alpha: regularization parameter\n",
    "        :param normalize: boolean whether to normalize the features or not\n",
    "        \"\"\"\n",
    "        Ridge.__init__ (self, alpha, normalize)\n",
    "\n",
    "    def fit(self, X, y):\n",
    "        \"\"\"\n",
    "        Fit the lasso model, train it using the provided data\n",
    "        Calculate the number of non-zero coefficients in the model weights and the norm using np.linalg.norm\n",
    "        :param X: training features (num_samples, num_features)\n",
    "        :param y: target values (num_samples)\n",
    "        :return: tuple (number of non-zeros coefficients of w: scalar, norm of w: scalar)\n",
    "        \"\"\"\n",
    "\n",
    "        num_nonzero_coefs, coef_norm = 0, 0\n",
    "        # Workspace 1.4.a\n",
    "        # TO DO: compute w and b and store then in self.coef_ and self.intercept\n",
    "        # TO DO: call lasso_path on the centered features to compute self.coef_\n",
    "        # HINT: use self.scaler first, if and only if self.normalize is True\n",
    "        #BEGIN \n",
    "        x_hat = self.standard_center(X, normalize=self.normalize)\n",
    "        _, coefs, _ = lasso_path(x_hat, y, alphas=[self.alpha])\n",
    "        self.coefficients = coefs.flatten()\n",
    "        \n",
    "        # calculate b*\n",
    "        self.intercept = self.b_intercept(X, y, self.coefficients)\n",
    "        \n",
    "        num_nonzero_coefs = np.count_nonzero(self.coefficients)\n",
    "        coef_norm = np.linalg.norm(self.coefficients)\n",
    "        #END\n",
    "        return num_nonzero_coefs, coef_norm\n",
    "\n",
    "\n",
    "    def evaluate(self, X, y):\n",
    "        \"\"\"\n",
    "        Compute Root mean square error (RMSE) between the predicted values and the actual values  of the test data\n",
    "        :param X: features array, shape (num_samples, num_features)\n",
    "        :param y: true targets, shape (num_samples)\n",
    "        :return: RMSE\n",
    "        \"\"\"\n",
    "        root_mean_squared_error = 0\n",
    "        # Workspace 1.4.b\n",
    "        # TO DO: predict based on the test features and return the mean_squared_error\n",
    "        #BEGIN \n",
    "        rmse = super(Lasso, self).evaluate(X, y)\n",
    "        #END\n",
    "        return rmse"
   ]
  },
  {
   "cell_type": "code",
   "execution_count": 23,
   "metadata": {
    "pycharm": {
     "name": "#%%\n"
    }
   },
   "outputs": [
    {
     "name": "stdout",
     "output_type": "stream",
     "text": [
      "Question 1.4.a: [PASS]\n",
      "Question 1.4.a: [PASS]\n",
      "Question 1.4.a: [PASS]\n",
      "Question 1.4.a: [PASS]\n"
     ]
    }
   ],
   "source": [
    "# Tests cell, do not remove\n",
    "# Test non-normalized Lasso\n",
    "tests.test_lasso_coef(Lasso, normalize=True)\n",
    "tests.test_lasso_coef(Lasso, normalize=False)\n",
    "tests.test_lasso_intercept(Lasso, normalize=True)\n",
    "tests.test_lasso_intercept(Lasso, normalize=False)"
   ]
  },
  {
   "cell_type": "markdown",
   "metadata": {
    "deletable": false,
    "editable": false,
    "nbgrader": {
     "cell_type": "markdown",
     "checksum": "8d98b0ff3a942b3ea4b00ca2b89eaa93",
     "grade": false,
     "grade_id": "q15",
     "locked": true,
     "schema_version": 3,
     "solution": false,
     "task": false
    },
    "pycharm": {
     "name": "#%% md\n"
    }
   },
   "source": [
    "- 1.5 **[3 points]** Produce 3 plots as a function of $\\log_{10}(\\alpha)$ (logarithmic scale) that compare normalized versus non-normalized Lasso:\n",
    "    - The number of non-zero coefficients of $\\mathbf w$\n",
    "    - The norm of $\\mathbf w$\n",
    "    - The test RMSE (Root Mean Squared Error)\n",
    "\n",
    "Use the values of $\\alpha$ provided in the cell. What is the best `alpha` for each version of the two models?\n",
    "\n",
    "Can you get all coefficients of $\\mathbf w$ to 0 for the non-normalized Lasso?\n"
   ]
  },
  {
   "cell_type": "code",
   "execution_count": 33,
   "metadata": {
    "deletable": false,
    "nbgrader": {
     "cell_type": "code",
     "checksum": "1023b8532f36cc21c11adeff6d52494b",
     "grade": true,
     "grade_id": "a15",
     "locked": false,
     "points": 3,
     "schema_version": 3,
     "solution": true,
     "task": false
    },
    "pycharm": {
     "name": "#%%\n"
    }
   },
   "outputs": [
    {
     "data": {
      "image/png": "[encoded data removed]",
      "text/plain": [
       "<Figure size 1800x360 with 3 Axes>"
      ]
     },
     "metadata": {
      "needs_background": "light"
     },
     "output_type": "display_data"
    },
    {
     "data": {
      "image/png": "[encoded data removed]",
      "text/plain": [
       "<Figure size 1800x360 with 3 Axes>"
      ]
     },
     "metadata": {
      "needs_background": "light"
     },
     "output_type": "display_data"
    }
   ],
   "source": [
    "alphas = [1e-3, 5e-3, 0.01, 0.05, 0.1, 0.2]\n",
    "# Workspace 1.5\n",
    "#BEGIN \n",
    "num_nonzero_coef_arry = np.zeros(len(alphas))\n",
    "num_nonzero_coef_non_norm_arry = np.zeros(len(alphas))\n",
    "#normalized w arrays\n",
    "norm_w_arry = np.zeros(len(alphas))\n",
    "norm_w_non_norm_array = np.zeros(len(alphas))\n",
    "#rmse array \n",
    "rmse_arry = np.zeros(len(alphas))\n",
    "rmse_non_norm_arry = np.zeros(len(alphas))\n",
    "\n",
    "for _, alpha in enumerate(alphas):\n",
    "    norm_lasso = Lasso(alpha, normalize=True)\n",
    "    non_norm_lasso = Lasso(alpha, normalize = False)\n",
    "    num_coef, norm_w = norm_lasso.fit(house_prices.X_train, house_prices.y_train)\n",
    "    num_nonzer_coef_non_norm , norm_w_non_norm = non_norm_lasso.fit(house_prices.X_train, house_prices.y_train)\n",
    "    rmse = norm_lasso.evaluate(house_prices.X_test, house_prices.y_test)\n",
    "    rmse_non_norm = non_norm_lasso.evaluate(house_prices.X_test,house_prices.y_test)\n",
    "    \n",
    "    num_nonzero_coef_arry[_] = num_coef\n",
    "    norm_w_arry[_] = norm_w\n",
    "    \n",
    "    num_nonzero_coef_non_norm_arry[_] = num_nonzer_coef_non_norm\n",
    "    norm_w_non_norm_array[_] = norm_w_non_norm\n",
    "    \n",
    "    rmse_arry[_] = rmse\n",
    "    rmse_non_norm_arry[_] = rmse_non_norm\n",
    "\n",
    "fig, (ax1, ax2, ax3) = plt.subplots(1, 3)\n",
    "fig.suptitle(\"Normalized Lasso Regression\")\n",
    "ax1.set_xlabel('Alphas')\n",
    "ax1.set_ylabel('Number of Nonzero Coefficients')\n",
    "ax1.set_xscale('log')\n",
    "ax1.plot(alphas, num_nonzero_coef_arry, marker = 'o')\n",
    "\n",
    "ax2.set_xlabel('Alphas')\n",
    "ax2.set_xscale('log')\n",
    "ax2.set_ylabel('Norm W')\n",
    "ax2.plot(alphas, norm_w_arry, marker = 'o')\n",
    "\n",
    "ax3.set_xlabel('Alphas')\n",
    "ax3.set_xscale('log')\n",
    "ax3.set_ylabel('RMSE')\n",
    "ax3.plot(alphas, rmse_arry, marker = 'o')\n",
    "ax3.plot(alphas[np.argmin(rmse_arry)], np.min(rmse_arry), '.', color = 'red')\n",
    "plt.show()\n",
    "\n",
    "fig, (ax1, ax2, ax3) = plt.subplots(1, 3)\n",
    "fig.suptitle(\"Non-normalized Lasso Regression\")\n",
    "ax1.set_xlabel('Alphas')\n",
    "ax1.set_xscale('log')\n",
    "ax1.set_ylabel('Number of Nonzero Coefficients')\n",
    "ax1.plot(alphas, num_nonzero_coef_non_norm_arry, marker = 'o')\n",
    "\n",
    "ax2.set_xlabel('Alphas')\n",
    "ax2.set_xscale('log')\n",
    "ax2.set_ylabel('Norm W')\n",
    "ax2.plot(alphas, norm_w_non_norm_array, marker = 'o')\n",
    "\n",
    "ax3.set_xlabel('Alphas')\n",
    "ax3.set_xscale('log')\n",
    "ax3.set_ylabel('RMSE')\n",
    "ax3.plot(alphas, rmse_non_norm_arry, marker = 'o')\n",
    "ax3.plot(alphas[np.argmin(rmse_non_norm_arry)], np.min(rmse_non_norm_arry), '.', color = 'red')\n",
    "plt.show()\n",
    "#END"
   ]
  },
  {
   "cell_type": "markdown",
   "metadata": {
    "deletable": false,
    "nbgrader": {
     "cell_type": "markdown",
     "checksum": "bf4a686b42cb9de59e65dca6ca442cb4",
     "grade": true,
     "grade_id": "a15b",
     "locked": false,
     "points": 0,
     "schema_version": 3,
     "solution": true,
     "task": false
    },
    "pycharm": {
     "name": "#%% md\n"
    }
   },
   "source": [
    "#### Workspace 1.5b\n",
    "%BEGIN\n",
    "\n",
    "% YOUR ANSWER HERE\n",
    "\n",
    "%END"
   ]
  },
  {
   "cell_type": "markdown",
   "metadata": {
    "deletable": false,
    "editable": false,
    "nbgrader": {
     "cell_type": "markdown",
     "checksum": "dbe2b8623c92d9fde890c4755a5fdc26",
     "grade": false,
     "grade_id": "q16",
     "locked": true,
     "schema_version": 3,
     "solution": false,
     "task": false
    }
   },
   "source": [
    "- 1.6 **[3 points]** (Write-up) Compare the two algorithms on the house prices dataset: compare the number of non-zero coordinates of Ridge vs Lasso and their RMSE on each dataset. Which type of regression is better? When does normalization improve the RMSE?"
   ]
  },
  {
   "cell_type": "markdown",
   "metadata": {
    "deletable": false,
    "nbgrader": {
     "cell_type": "markdown",
     "checksum": "16e3e96e6a8a736508c94894ba481731",
     "grade": true,
     "grade_id": "a16",
     "locked": false,
     "points": 3,
     "schema_version": 3,
     "solution": true,
     "task": false
    }
   },
   "source": [
    "#### Workspace 1.6\n",
    "\n",
    "%BEGIN\n",
    "\n",
    "% YOUR ANSWER HERE\n",
    "\n",
    "%END"
   ]
  },
  {
   "cell_type": "markdown",
   "metadata": {
    "deletable": false,
    "editable": false,
    "nbgrader": {
     "cell_type": "markdown",
     "checksum": "5e2eb13340eb36c410f8e1937598bd53",
     "grade": false,
     "grade_id": "q17",
     "locked": true,
     "schema_version": 3,
     "solution": false,
     "task": false
    },
    "pycharm": {
     "name": "#%% md\n"
    }
   },
   "source": [
    "Lasso is expected to have higher level of sparsity compared to Ridge. On the other hand, when the number of features is very large\n",
    "(larger than the sample size), Lasso can struggle at picking the right features.\n",
    "Elastic Net try to combine both types of regularization to get the best of both worlds by minimizing:\n",
    "\n",
    "\\begin{align}\n",
    "\\frac{1}{2N} \\sum_i ||y_i - \\mathbf{w}^T\\mathbf{x}_i -\\mathbf{b}||^2_2 + \\alpha\\beta||\\mathbf{w}||_1 + \\frac{\\alpha}{2}(1 - \\beta)||\\mathbf{w}||^2_2\n",
    "\\end{align}\n",
    "\n",
    "where $\\beta\\in[0,1]$ is the $l_1$ ratio ($\\beta=1$ for Lasso and $\\beta=0$ for Ridge).\n",
    "\n",
    "We'll be using [ElasticNet](https://scikit-learn.org/stable/modules/generated/sklearn.linear_model.ElasticNet.html) solver from scikit.\n",
    "\n",
    "- 1.7 **[2 points]** Complete ElasticNet regression class `Elastic` by implementing fit and evaluate methods with the same signature as Lasso and Ridge. (Again, you can use inheritance)"
   ]
  },
  {
   "cell_type": "code",
   "execution_count": 35,
   "metadata": {
    "deletable": false,
    "nbgrader": {
     "cell_type": "code",
     "checksum": "5dd6f5fc8561b82e7eee657f7d0c1f8b",
     "grade": true,
     "grade_id": "a17",
     "locked": false,
     "points": 2,
     "schema_version": 3,
     "solution": true,
     "task": false
    },
    "pycharm": {
     "name": "#%%\n"
    }
   },
   "outputs": [],
   "source": [
    "from sklearn.linear_model import ElasticNet\n",
    "\n",
    "\n",
    "class Elastic(Lasso):\n",
    "    def __init__(self, alpha, beta=0.7, normalize=False):\n",
    "        \"\"\"\n",
    "        :param alpha: regularization parameter\n",
    "        :param beta: l1_ratio for ElasticNet\n",
    "        :param normalize: normalization flag\n",
    "        \"\"\"\n",
    "        Lasso.__init__ (self, alpha, normalize)\n",
    "        self.alpha = alpha\n",
    "        self.beta = beta\n",
    "        self._model = ElasticNet(alpha=alpha, l1_ratio=beta)\n",
    "\n",
    "    def fit(self, X, y):\n",
    "        \"\"\"\n",
    "        fit self._model using the provided data and store the coef and intercept in self.coef_ and self.intercept\n",
    "        Calculate the number of non-zero coefficients in the model weights and the norm using np.linalg.norm\n",
    "        :param X: training features (n_samples, n_features)\n",
    "        :param y: target values (n_samples)\n",
    "        :return: tuple (number of non-zeros coefficients of w, norm of w)\n",
    "        \"\"\"\n",
    "\n",
    "        num_nonzero_coefs, coef_norm = 0, 0\n",
    "        # Workspace 1.7.a\n",
    "        # TO DO: Complete Elastic Net\n",
    "        # TO DO: save w and b in self.coef_ and self.intercept respectively\n",
    "        #BEGIN \n",
    "        if self.normalize: \n",
    "            self.scaler.fit(X)\n",
    "            x_hat = self.scaler.transform(X)\n",
    "        else: \n",
    "            x_hat = X \n",
    "        elastic = self._model.fit(x_hat, y)\n",
    "        self.coefficients = elastic.coef_\n",
    "        self.intercept = elastic.intercept_\n",
    "        \n",
    "        num_nonzero_coefs = np.count_nonzero(self.coefficients)\n",
    "        coef_norm = np.linalg.norm(self.coefficients)\n",
    "        #END\n",
    "        return num_nonzero_coefs, coef_norm\n",
    "\n",
    "    def evaluate(self, test_x, test_y):\n",
    "        \"\"\"\n",
    "        Compute Root mean square error (RMSE) between the predicted values and the actual values  of the test data\n",
    "        :param test_x: test features\n",
    "        :param test_y: test target\n",
    "        :return: RMSE\n",
    "        \"\"\"\n",
    "\n",
    "        root_mean_squared_error = 0\n",
    "        # TO DO: predict based on the test features and return the mean_squared_error\n",
    "        # Workspace 1.7.b\n",
    "        #BEGIN \n",
    "        \n",
    "        rmse = super(Elastic, self).evaluate(test_x, test_y)\n",
    "        #END\n",
    "        return rmse"
   ]
  },
  {
   "cell_type": "code",
   "execution_count": 36,
   "metadata": {
    "pycharm": {
     "name": "#%%\n"
    }
   },
   "outputs": [
    {
     "name": "stdout",
     "output_type": "stream",
     "text": [
      "Question 1.7.a: [PASS]\n",
      "Question 1.7.a: [PASS]\n",
      "Question 1.7.a: [PASS]\n",
      "Question 1.7.a: [PASS]\n"
     ]
    }
   ],
   "source": [
    "# Tests cell, do not remove\n",
    "tests.test_elastic_coef(Elastic, normalize=False)\n",
    "tests.test_elastic_coef(Elastic, normalize=True)\n",
    "tests.test_elastic_intercept(Elastic, normalize=False)\n",
    "tests.test_elastic_intercept(Elastic, normalize=False)"
   ]
  },
  {
   "cell_type": "markdown",
   "metadata": {
    "deletable": false,
    "editable": false,
    "nbgrader": {
     "cell_type": "markdown",
     "checksum": "fba05394f02cd7095d75bef208ddb355",
     "grade": false,
     "grade_id": "q18",
     "locked": true,
     "schema_version": 3,
     "solution": false,
     "task": false
    },
    "pycharm": {
     "name": "#%% md\n"
    }
   },
   "source": [
    "- 1.8 **[2 points]** Produce 3 plots as a function of $\\log_{10}(\\alpha)$ (logarithmic scale) that compare normalized versus non-normalized `Elastic`:\n",
    "    - The number of non-zero coefficients of $\\mathbf w$\n",
    "    - The norm of $\\mathbf w$\n",
    "    - The test RMSE (Root Mean Squared Error)\n",
    "\n",
    "Use the values of $\\alpha$ provided in the cell, and $\\beta= 0.3$. What is the best `alpha` for each version of the two models? How does it compare to the previous models.\n"
   ]
  },
  {
   "cell_type": "code",
   "execution_count": 40,
   "metadata": {
    "deletable": false,
    "nbgrader": {
     "cell_type": "code",
     "checksum": "bbf4146692776f2134d193594c623574",
     "grade": true,
     "grade_id": "a18",
     "locked": false,
     "points": 2,
     "schema_version": 3,
     "solution": true,
     "task": false
    },
    "pycharm": {
     "name": "#%%\n"
    }
   },
   "outputs": [
    {
     "data": {
      "image/png": "[encoded data removed]",
      "text/plain": [
       "<Figure size 1800x360 with 3 Axes>"
      ]
     },
     "metadata": {
      "needs_background": "light"
     },
     "output_type": "display_data"
    },
    {
     "data": {
      "image/png": "[encoded data removed]",
      "text/plain": [
       "<Figure size 1800x360 with 3 Axes>"
      ]
     },
     "metadata": {
      "needs_background": "light"
     },
     "output_type": "display_data"
    }
   ],
   "source": [
    "alphas = [1e-4, 1e-3, 1e-2, 0.02, 0.05, 0.1, 0.2, 0.3, 1.0, 2.0, 10.0]\n",
    "# Workspace 1.2\n",
    "#BEGIN\n",
    "num_nonzero_coef_arry = np.zeros(len(alphas))\n",
    "num_nonzero_coef_non_norm_arry = np.zeros(len(alphas))\n",
    "#normalized w arrays\n",
    "norm_w_arry = np.zeros(len(alphas))\n",
    "norm_w_non_norm_array = np.zeros(len(alphas))\n",
    "#rmse array \n",
    "rmse_arry = np.zeros(len(alphas))\n",
    "rmse_non_norm_arry = np.zeros(len(alphas))\n",
    "\n",
    "for _, alpha in enumerate(alphas):\n",
    "    norm_elastic = Elastic(alpha, beta = 0.3, normalize=True)\n",
    "    non_norm_elastic = Elastic(alpha, beta = 0.3, normalize = False)\n",
    "    num_coef, norm_w = norm_elastic.fit(house_prices.X_train, house_prices.y_train)\n",
    "    num_nonzer_coef_non_norm , norm_w_non_norm = non_norm_elastic.fit(house_prices.X_train, house_prices.y_train)\n",
    "    rmse = norm_elastic.evaluate(house_prices.X_test, house_prices.y_test)\n",
    "    rmse_non_norm = non_norm_elastic.evaluate(house_prices.X_test,house_prices.y_test)\n",
    "    \n",
    "    num_nonzero_coef_arry[_] = num_coef\n",
    "    norm_w_arry[_] = norm_w\n",
    "    \n",
    "    num_nonzero_coef_non_norm_arry[_] = num_nonzer_coef_non_norm\n",
    "    norm_w_non_norm_array[_] = norm_w_non_norm\n",
    "    \n",
    "    rmse_arry[_] = rmse\n",
    "    rmse_non_norm_arry[_] = rmse_non_norm\n",
    "\n",
    "fig, (ax1, ax2, ax3) = plt.subplots(1, 3)\n",
    "fig.suptitle(\"Normalized Elastic Regression\")\n",
    "ax1.set_xlabel('Alphas')\n",
    "ax1.set_xscale('log')\n",
    "ax1.set_ylabel('Number of Nonzero Coefficients')\n",
    "ax1.plot(alphas, num_nonzero_coef_arry, marker = 'o')\n",
    "\n",
    "ax2.set_xlabel('Alphas')\n",
    "ax2.set_xscale('log')\n",
    "ax2.set_ylabel('Norm W')\n",
    "ax2.plot(alphas, norm_w_arry, marker = 'o')\n",
    "\n",
    "ax3.set_xlabel('Alphas')\n",
    "ax3.set_xscale('log')\n",
    "ax3.set_ylabel('RMSE')\n",
    "ax3.plot(alphas, rmse_arry, marker = 'o')\n",
    "ax3.plot(alphas[np.argmin(rmse_arry)], np.min(rmse_arry), '.', color = 'red')\n",
    "plt.show()\n",
    "\n",
    "fig, (ax1, ax2, ax3) = plt.subplots(1, 3)\n",
    "fig.suptitle(\"Non-normalized Elastic Regression\")\n",
    "ax1.set_xlabel('Alphas')\n",
    "ax1.set_xscale('log')\n",
    "ax1.set_ylabel('Number of Nonzero Coefficients')\n",
    "ax1.plot(alphas, num_nonzero_coef_non_norm_arry, marker = 'o')\n",
    "\n",
    "ax2.set_xlabel('Alphas')\n",
    "ax2.set_xscale('log')\n",
    "ax2.set_ylabel('Norm W')\n",
    "ax2.plot(alphas, norm_w_non_norm_array, marker = 'o')\n",
    "\n",
    "ax3.set_xlabel('Alphas')\n",
    "ax3.set_xscale('log')\n",
    "ax3.set_ylabel('RMSE')\n",
    "ax3.plot(alphas, rmse_non_norm_arry, marker = 'o')\n",
    "ax3.plot(alphas[np.argmin(rmse_non_norm_arry)], np.min(rmse_non_norm_arry), '.', color = 'red')\n",
    "plt.show()\n",
    "#END"
   ]
  },
  {
   "cell_type": "markdown",
   "metadata": {
    "deletable": false,
    "nbgrader": {
     "cell_type": "markdown",
     "checksum": "08961fe33266754a6159026a7bece0f1",
     "grade": true,
     "grade_id": "a18b",
     "locked": false,
     "points": 0,
     "schema_version": 3,
     "solution": true,
     "task": false
    }
   },
   "source": [
    "#### Workspace 1.8.b\n",
    "\n",
    "%BEGIN\n",
    "\n",
    "% YOUR ANSWER HERE\n",
    "\n",
    "%END"
   ]
  },
  {
   "cell_type": "markdown",
   "metadata": {
    "deletable": false,
    "editable": false,
    "nbgrader": {
     "cell_type": "markdown",
     "checksum": "ef83a2a530c7d641569eb7e24a59be8b",
     "grade": false,
     "grade_id": "q19",
     "locked": true,
     "schema_version": 3,
     "solution": false,
     "task": false
    }
   },
   "source": [
    "1.9 **[3 points]** What are the cons and pros of each of the three types of regressions we have tested?"
   ]
  },
  {
   "cell_type": "markdown",
   "metadata": {
    "deletable": false,
    "nbgrader": {
     "cell_type": "markdown",
     "checksum": "09afc142fe1eac8c9194ebfec60a357a",
     "grade": true,
     "grade_id": "a19",
     "locked": false,
     "points": 3,
     "schema_version": 3,
     "solution": true,
     "task": false
    },
    "pycharm": {
     "name": "#%% md\n"
    }
   },
   "source": [
    "#### Workspace 1.9\n",
    "\n",
    "%BEGIN\n",
    "\n",
    "% YOUR ANSWER HERE\n",
    "\n",
    "%END"
   ]
  },
  {
   "cell_type": "markdown",
   "metadata": {
    "deletable": false,
    "editable": false,
    "nbgrader": {
     "cell_type": "markdown",
     "checksum": "121953e598fbe84a7427016f10b6935d",
     "grade": false,
     "grade_id": "problem2",
     "locked": true,
     "schema_version": 3,
     "solution": false,
     "task": false
    }
   },
   "source": [
    "***\n",
    "## Problem 2: Logistic Regression for Binary Classification (30 points)\n",
    "\n",
    "The second part of this assignment will be dealing with Logistic Regression.\n",
    "While the name \"regression\" suggests otherwise, Logistic Regression is actually used for classification.\n",
    "It's a regression problem because the targets are the continuous likelihoods of the outcomes.\n",
    "\n",
    "Our dataset is the same one we used in Problem Set 1. We'll start with a binary Logistic Regression. So our class label is `0` if the digit is even and 0 otherwise."
   ]
  },
  {
   "cell_type": "code",
   "execution_count": 14,
   "metadata": {
    "pycharm": {
     "name": "#%%\n"
    }
   },
   "outputs": [],
   "source": [
    "binary_digits = data.BinaryDigits()"
   ]
  },
  {
   "cell_type": "markdown",
   "metadata": {
    "deletable": false,
    "editable": false,
    "nbgrader": {
     "cell_type": "markdown",
     "checksum": "d5e218b3c7a406621501cd3432ebdd54",
     "grade": false,
     "grade_id": "nll",
     "locked": true,
     "schema_version": 3,
     "solution": false,
     "task": false
    },
    "pycharm": {
     "name": "#%% md\n"
    }
   },
   "source": [
    "Using the same notations from Problem 1 (this time with discrete targets $y_i$ in {0, 1}), _Logistic Regression_ is about minimizing the **N**egative **L**og **L**ikelihood objective defined as:\n",
    "\\begin{align}\n",
    "\\textrm{NLL}(\\mathbf{w}) = -\\frac{1}{N}\\sum_{i=1}^N \\left[y_i \\log \\sigma(\\mathbf{w}^T{\\mathbf{x_i}}) + (1-y_i)\\log(1 - \\sigma(\\mathbf{w}^T\\mathbf{x_i}))\\right]\n",
    "\\end{align}\n",
    "\n",
    "You might be wondering: where is the intercept?\n",
    "We're including the intercept in $(\\mathbf x_i)_i$ since we'll be adding a constant feature $\\mathbf x_{i,0} = 1$ to all samples $(\\mathbf x_i)_i$.\n",
    "We will call it the zero-th column and the intercept will be $\\mathbf{w}_0$.\n",
    "This zero-th column will be appended to the training samples in `fit` method and the test samples in `predict` method. $\\sigma$ is the sigmoid function seen in class.\n",
    "\n",
    "The gradient of **NLL** w.r.t $\\mathbf{w}$ is:\n",
    "\n",
    "\\begin{align}\n",
    "\\frac{\\partial \\textrm{NLL}}{\\partial \\mathbf{w}} = \\frac{1}{N} \\sum_i \\left[\\sigma(\\mathbf{w}^T\\mathbf{x}_i)-y_i)\\right]\\mathbf{x}_i\n",
    "\\end{align}"
   ]
  },
  {
   "cell_type": "markdown",
   "metadata": {
    "deletable": false,
    "editable": false,
    "nbgrader": {
     "cell_type": "markdown",
     "checksum": "8f95c51d954665df0971edef4cafcf0f",
     "grade": false,
     "grade_id": "q21_25",
     "locked": true,
     "schema_version": 3,
     "solution": false,
     "task": false
    },
    "pycharm": {
     "name": "#%% md\n"
    }
   },
   "source": [
    "- 2.1 **[3 points]** Complete the `sigmoid` function to return the sigmoid values $\\sigma(\\mathbf{w}^T{\\mathbf{x_i}})$ given features array. You have to truncate the score $\\mathbf{w}^T{\\mathbf{x_i}}$ to the interval $[-25, 25]$ to avoid overflow of `np.exp`\n",
    "\n",
    "\n",
    "- 2.2 **[3 points]** Finish the `compute_gradient` function to return the derivative of the cost w.r.t. the weights\n",
    "\n",
    "- 2.3 **[3 points]** Finish the `batch_update` function so that it performs batch gradient descent using the provided batch data\n",
    "\n",
    "- 2.4 **[4 points]** Finish the `fit` function so that it performs several training epochs and returns the Recall score on the validation data at the end of each epoch. Initialize $\\mathbf{w}$ so that $\\mathbf{w}_j = \\frac{1}{d}$\n",
    "\n",
    "- 2.5 **[2 points]** Finish the `predict` method to return the predicted labels (either 0 or 1)\n"
   ]
  },
  {
   "cell_type": "code",
   "execution_count": 15,
   "metadata": {},
   "outputs": [],
   "source": [
    "X = np.array([[1,-32,23],\n",
    "            [14,5,26],\n",
    "            [27,18,19,],\n",
    "            [24,-31,11]])\n",
    "Y = np.array([0, 1, 1, 0])"
   ]
  },
  {
   "cell_type": "code",
   "execution_count": 30,
   "metadata": {
    "deletable": false,
    "nbgrader": {
     "cell_type": "code",
     "checksum": "2caf5fc6ded761f14377970f1a5b6455",
     "grade": true,
     "grade_id": "a21_25",
     "locked": false,
     "points": 15,
     "schema_version": 3,
     "solution": true,
     "task": false
    },
    "pycharm": {
     "name": "#%%\n"
    }
   },
   "outputs": [
    {
     "name": "stdout",
     "output_type": "stream",
     "text": [
      "[ 0.99966465 -1.         -1.          0.01798621]\n"
     ]
    },
    {
     "data": {
      "text/plain": [
       "array([0., 0., 0.])"
      ]
     },
     "execution_count": 30,
     "metadata": {},
     "output_type": "execute_result"
    }
   ],
   "source": [
    "from sklearn.metrics import recall_score\n",
    "\n",
    "class LogisticRegression:\n",
    "\n",
    "    def __init__(self, eta=0.1, alpha=0):\n",
    "        \"\"\"\n",
    "        Create a logistic regression classifier\n",
    "        :param eta: Learning rate\n",
    "        :param alpha: We will use this parameter later (IN BONUS)\n",
    "        \"\"\"\n",
    "\n",
    "        self.w = None  # uninitialized w\n",
    "        self.eta = eta  # learning rate\n",
    "        self.initialized = False # flag used to initialize w only once, it allows calling fit multiple times\n",
    "        self.alpha = alpha  # regularization / penalty term (USED IN BONUS)\n",
    "\n",
    "    def sigmoid(self, x, threshold=25.0):\n",
    "        \"\"\"\n",
    "\n",
    "        :param x: features array of shape (num_samples, num_features + 1) (zero-th column appended)\n",
    "        :param threshold: the truncating threshold for np.exp, default to 25.0\n",
    "        :return: sigmoid values , of shape (num_samples,)\n",
    "        \"\"\"\n",
    "        # Workspace 2.1\n",
    "        # TO DO: Complete this function to return the output of applying the sigmoid function to the score\n",
    "        #BEGIN \n",
    "        x = np.sum(-x, axis=1)\n",
    "        x[x < -threshold] = -threshold\n",
    "        x[x > threshold] = threshold\n",
    "        return 1/(1 + np. exp(-x))\n",
    "        #END\n",
    "\n",
    "    def compute_gradient(self, x, y):\n",
    "        \"\"\"\n",
    "        Return the derivative of the cost w.r.t to the weights. Don't forget to average by batch_size\n",
    "        :param x:  Feature vector, shape (batch_size, num_features +1), with zero-th column appended\n",
    "        :param y: real binary class label, shape (batch_size)\n",
    "        :return: gradient of shape (num_features + 1,)\n",
    "        \"\"\"\n",
    "\n",
    "        # Workspace 2.2\n",
    "        # TO DO: Finish this function to compute the gradient\n",
    "        gradient = np.zeros((x.shape[1], ))\n",
    "        #BEGIN \n",
    "        self.w = [1, 1, 1]\n",
    "        w_on_x = np.transpose(self.w) * x\n",
    "        sig = self.sigmoid(w_on_x)\n",
    "        print(sig - y)\n",
    "        \n",
    "        #END\n",
    "        return gradient\n",
    "\n",
    "    def batch_update(self, batch_x, batch_y):\n",
    "        \"\"\"\n",
    "        Single self.w update using the batch.\n",
    "        :param batch_x: array of features (includes the constant feature at column 0), of shape (batch_size, num_features + 1)\n",
    "        :param batch_y: array of target values, shape (batch_size,)\n",
    "        :return: nothing\n",
    "        \"\"\"\n",
    "\n",
    "        # Workspace 2.3\n",
    "        #BEGIN \n",
    "        # code here\n",
    "        #END\n",
    "\n",
    "    def fit(self, X, y, epochs=1, batch_size=1, validation_X=None, validation_y=None):\n",
    "        \"\"\"\n",
    "        train the LogisticRegression\n",
    "        :param X: training features, shape (num_samples, num_features)\n",
    "        :param y: training labels, shape (num_samples,)\n",
    "        :param epochs: number of epochs, integer\n",
    "        :param batch_size: size of batch for gradient update, 1 for SGD\n",
    "        :param validation_X: validation rows, should default to training data if not provided\n",
    "        :param validation_y: validation labels\n",
    "        :return: recall score at the end of each epoch on validation data\n",
    "        \"\"\"\n",
    "\n",
    "        if validation_X is None:\n",
    "            validation_X, validation_y = X, y\n",
    "        metrics = []\n",
    "        # Workspace  2.4\n",
    "        # TO DO: Process X to append the zero-th constant column and call self.optimize\n",
    "        # TO DO: Compute average recall on the validation data at the end of each epoch\n",
    "        # HINT: make sure to initialize w\n",
    "        #BEGIN \n",
    "        # code here\n",
    "        #END\n",
    "        return np.array(metrics)\n",
    "\n",
    "    def predict(self, X):\n",
    "        \"\"\"\n",
    "        :param X: features array, shape (num_samples, num_features) (without the constant column)\n",
    "        :return: predicted binary label, shape (num_samples,)\n",
    "        \"\"\"\n",
    "        # Workspace 2.5\n",
    "        y_hat = np.zeros((X.shape[0],))\n",
    "        X = np.concatenate([np.ones((X.shape[0], 1)), X], axis=1)  # We append zero-th column\n",
    "        #BEGIN \n",
    "        # code here\n",
    "        #END\n",
    "        return y_hat\n",
    "\n",
    "    def optimize(self, X, y, batch_size):\n",
    "        \"\"\"\n",
    "        Perform one epoch batch gradient on shuffled data\n",
    "        :param X: np.array of shape (num_samples, num_features +1), The training data with zero-th column appended\n",
    "        :param y: target values of shape (num_samples,)\n",
    "        :param batch_size: batch_size of the batch_update\n",
    "        :return: None\n",
    "        \"\"\"\n",
    "        indices = np.random.permutation(len(X))\n",
    "        for i in range(0, X.shape[0], batch_size):\n",
    "            batch_x = X[indices[i:i + batch_size]]\n",
    "            batch_y = y[indices[i:i + batch_size]]\n",
    "            self.batch_update(batch_x, batch_y)\n",
    "LogisticRegression().compute_gradient(X, Y)"
   ]
  },
  {
   "cell_type": "markdown",
   "metadata": {
    "deletable": false,
    "editable": false,
    "nbgrader": {
     "cell_type": "markdown",
     "checksum": "5b966586e4d91d8169a392bbd579bc05",
     "grade": false,
     "grade_id": "q26",
     "locked": true,
     "schema_version": 3,
     "solution": false,
     "task": false
    }
   },
   "source": [
    "After completing the class above, loop over the training data and perform batch training with `batch_size=1`(Stochastic Gradient Descent) for 50 epochs, and different values of eta ( see `etas`). Train your model and do the following:\n",
    "\n",
    "- 2.6 **[5 points]** Plot the recall trend for the different values of eta on the training data (epoch vs recall). (reset random seed for each loop to mitigate the randomness effect)\n",
    "\n",
    "Use the values provided below"
   ]
  },
  {
   "cell_type": "code",
   "execution_count": null,
   "metadata": {
    "deletable": false,
    "nbgrader": {
     "cell_type": "code",
     "checksum": "44a06f9b3d581c2badaea070909732bd",
     "grade": true,
     "grade_id": "a26",
     "locked": false,
     "points": 5,
     "schema_version": 3,
     "solution": true,
     "task": false
    },
    "pycharm": {
     "name": "#%%\n"
    }
   },
   "outputs": [],
   "source": [
    "etas = [.001, .01, 0.1, 1]\n",
    "\n",
    "for eta in etas:\n",
    "    np.random.seed(2022)  # Reset randomness\n",
    "    # Workspace 2.6\n",
    "    #BEGIN \n",
    "    # code here\n",
    "    #END\n",
    "plt.legend()\n",
    "plt.show()"
   ]
  },
  {
   "cell_type": "markdown",
   "metadata": {
    "deletable": false,
    "editable": false,
    "nbgrader": {
     "cell_type": "markdown",
     "checksum": "81ea96b6a187d0092f518679285de42b",
     "grade": false,
     "grade_id": "q27",
     "locked": true,
     "schema_version": 3,
     "solution": false,
     "task": false
    }
   },
   "source": [
    "- 2.7 **[3 points]** Plot the recall trend for the different values of eta on the test data.\n",
    "(reset random seed for each loop to mitigate the randomness effect)"
   ]
  },
  {
   "cell_type": "code",
   "execution_count": null,
   "metadata": {
    "deletable": false,
    "nbgrader": {
     "cell_type": "code",
     "checksum": "e1ea471ead529000013910a78764246a",
     "grade": true,
     "grade_id": "a27",
     "locked": false,
     "points": 3,
     "schema_version": 3,
     "solution": true,
     "task": false
    },
    "pycharm": {
     "name": "#%%\n"
    }
   },
   "outputs": [],
   "source": [
    "etas = [.0001, .001, .01, 1]\n",
    "\n",
    "for eta in etas:\n",
    "    np.random.seed(2022)\n",
    "    # Workspace 2.7\n",
    "    #BEGIN \n",
    "    # code here\n",
    "    #END\n",
    "plt.legend()\n",
    "plt.show()"
   ]
  },
  {
   "cell_type": "markdown",
   "metadata": {
    "deletable": false,
    "editable": false,
    "nbgrader": {
     "cell_type": "markdown",
     "checksum": "2a1226541d770401670fbd26ee0c1892",
     "grade": false,
     "grade_id": "q28",
     "locked": true,
     "schema_version": 3,
     "solution": false,
     "task": false
    }
   },
   "source": [
    "This time we want to analyze the effect of varying the batch size. We fix `eta=0.01` and `epochs=50` and we want to\n",
    "examine the recall on the test set at the end of the training.\n",
    "\n",
    "- 2.8 **[4 points]** Produce a plot of the recall on the test data at the end of the training as a function of the batch size. Reset the random generator for each iteration.\n",
    "\n",
    "Use batch sizes provided below"
   ]
  },
  {
   "cell_type": "code",
   "execution_count": null,
   "metadata": {
    "deletable": false,
    "nbgrader": {
     "cell_type": "code",
     "checksum": "591e3a4fcdfda30e94bc59fb554e2159",
     "grade": true,
     "grade_id": "a28",
     "locked": false,
     "points": 4,
     "schema_version": 3,
     "solution": true,
     "task": false
    },
    "pycharm": {
     "name": "#%%\n"
    }
   },
   "outputs": [],
   "source": [
    "batch_sizes = list(range(1, 40))\n",
    "recalls = []\n",
    "\n",
    "for b_size in batch_sizes:\n",
    "    np.random.seed(2022)\n",
    "    # Workspace 2.8\n",
    "    #BEGIN \n",
    "    # code here\n",
    "    #END\n",
    "plt.plot(batch_sizes, recalls)\n",
    "plt.show()"
   ]
  },
  {
   "cell_type": "markdown",
   "metadata": {
    "deletable": false,
    "editable": false,
    "nbgrader": {
     "cell_type": "markdown",
     "checksum": "43f43647e5ecd1ec7b57d98ba19b9529",
     "grade": false,
     "grade_id": "q29",
     "locked": true,
     "schema_version": 3,
     "solution": false,
     "task": false
    }
   },
   "source": [
    "2.9 **[3 points]** How does the learning rate (eta) and the number of epochs affect the performance of the classifier."
   ]
  },
  {
   "cell_type": "markdown",
   "metadata": {
    "deletable": false,
    "nbgrader": {
     "cell_type": "markdown",
     "checksum": "0792329373f012c1f7c952dd938b67b6",
     "grade": true,
     "grade_id": "a29",
     "locked": false,
     "points": 3,
     "schema_version": 3,
     "solution": true,
     "task": false
    }
   },
   "source": [
    "#### Workspace 2.9\n",
    "\n",
    "%BEGIN\n",
    "\n",
    "% YOUR ANSWER HERE\n",
    "\n",
    "%END"
   ]
  },
  {
   "cell_type": "markdown",
   "metadata": {
    "deletable": false,
    "editable": false,
    "nbgrader": {
     "cell_type": "markdown",
     "checksum": "9fb2f573735bec6ae5c54a6f2382dc94",
     "grade": false,
     "grade_id": "q210",
     "locked": true,
     "schema_version": 3,
     "solution": false,
     "task": false
    },
    "pycharm": {
     "name": "#%% md\n"
    }
   },
   "source": [
    "2.10 (**Bonus**) **[4 points]** Since we're done with the binary regression, we will try to add Ridge regularization:\n",
    "\\begin{align}\n",
    "\\textrm{NLL}(\\mathbf{w}) = -\\frac{1}{N}\\sum_{i=1}^N \\left[y_i \\log \\sigma(\\mathbf{w}^T{\\mathbf{x}_i}) + (1-y_i)\\log(1 - \\sigma(\\mathbf{w}^T\\mathbf{x}_i))\\right] + \\alpha {||\\mathbf{w}||^2}_{\\geq1}\n",
    "\\end{align}\n",
    "\n",
    "This is exactly what we will be using the `alpha` parameter in `LogisticRegression` for.\n",
    "First, write the gradient formula in the cell below and edit your `compute_gradient` to account for the regularization term. Note that the regularization $||\\mathbf{w}||^2$ does not apply to the intercept $\\mathbf{w}_0$"
   ]
  },
  {
   "cell_type": "markdown",
   "metadata": {
    "deletable": false,
    "nbgrader": {
     "cell_type": "markdown",
     "checksum": "c714d2e2a69be974365824a9558760bd",
     "grade": true,
     "grade_id": "a210",
     "locked": false,
     "points": 0,
     "schema_version": 3,
     "solution": true,
     "task": false
    }
   },
   "source": [
    "#### Workspace 2.10\n",
    "\n",
    "%BEGIN\n",
    "\n",
    "% YOUR ANSWER HERE\n",
    "\n",
    "%END\n",
    "\n"
   ]
  },
  {
   "cell_type": "markdown",
   "metadata": {
    "deletable": false,
    "editable": false,
    "nbgrader": {
     "cell_type": "markdown",
     "checksum": "67c9dc01cb019a680f2d971dbc5da8c5",
     "grade": false,
     "grade_id": "cell-2b53d5d40987324e",
     "locked": true,
     "schema_version": 3,
     "solution": false,
     "task": false
    }
   },
   "source": [
    "## Problem 3: Logistic Regression for Multiclass Classification (24)\n",
    "\n",
    "You will now create a classifier that is commonly referred to as _One Versus All_ Logistic Regression,\n",
    "where a binary classifier will be trained to identify a single class. The prediction is performed by assigning the label\n",
    "of the classifier that is most confident in its prediction (the highest score/sigmoid value).\n",
    "\n",
    "The dataset will be the same one we use in Problem Set 1's KNNClassifier"
   ]
  },
  {
   "cell_type": "code",
   "execution_count": null,
   "metadata": {
    "deletable": false,
    "editable": false,
    "nbgrader": {
     "cell_type": "code",
     "checksum": "303f1aecde55d7dc0f46626cc6887659",
     "grade": false,
     "grade_id": "digits",
     "locked": true,
     "schema_version": 3,
     "solution": false,
     "task": false
    },
    "pycharm": {
     "name": "#%%\n"
    }
   },
   "outputs": [],
   "source": [
    "from sklearn.preprocessing import StandardScaler\n",
    "digits = data.Digits()\n",
    "scaler = StandardScaler()\n",
    "digits.X_train = scaler.fit_transform(digits.X_train)\n",
    "digits.X_test = scaler.transform(digits.X_test)"
   ]
  },
  {
   "cell_type": "markdown",
   "metadata": {
    "deletable": false,
    "editable": false,
    "nbgrader": {
     "cell_type": "markdown",
     "checksum": "1fa990a93b4df2da524da310c7facadf",
     "grade": false,
     "grade_id": "q31_32",
     "locked": true,
     "schema_version": 3,
     "solution": false,
     "task": false
    },
    "pycharm": {
     "name": "#%% md\n"
    }
   },
   "source": [
    "- 3.1 **[3 points]** Complete `one_hot_encoding` to transform your integer labels into a set of binary features via one-hot encoding.\n",
    "You can assume that it's called after `label_to_index` and `index_to_label` have been defined.\n",
    "\n",
    "\n",
    "- 3.2 **[2 points]** Complete `normalize_data` to normalize your features. You can use `StandardScaler`\n",
    "- 3.3 **[4 points]** Complete `predict` method to return the predicted label using the scores from each class classifier.\n",
    "You might be tempted to call `LogisticRegression.predict`, but you need the sigmoid values to determine the most likely label (and hence have to add the zero-th column in OneVersusAll).\n",
    "\n",
    "- 3.4 **[2 points]** Complete `evaluate` to return the weighted average recall (WAR) on the validation data (use `recall_score`)\n",
    "- 3.5 **[6 points]** Complete `fit` function to fit all classifiers with their corresponding labels and compute the WAR at the end of each epoch\n",
    "\n",
    "Reminder: make no assumption about the number of features/classes in the data."
   ]
  },
  {
   "cell_type": "code",
   "execution_count": null,
   "metadata": {
    "deletable": false,
    "nbgrader": {
     "cell_type": "code",
     "checksum": "bc67e8cd7de1323ccab8f6a298779b82",
     "grade": true,
     "grade_id": "a31_32",
     "locked": false,
     "points": 17,
     "schema_version": 3,
     "solution": true,
     "task": false
    },
    "pycharm": {
     "name": "#%%\n"
    }
   },
   "outputs": [],
   "source": [
    "class OneVersusAll(object):\n",
    "\n",
    "    def __init__(self, eta=0.1, alpha=0):\n",
    "        self.eta = eta  # Learning Rate\n",
    "        self.classifiers = []  # Array of LogisticRegression classifiers\n",
    "        self.alpha = alpha  # regularization / penalty rate (USED IN BONUS)\n",
    "        self.scaler = StandardScaler()\n",
    "        self.fitted = False  # Flag to store whether the model is already fitted to avoid fitting scaler more than once\n",
    "\n",
    "    def one_hot_encoding(self, y):\n",
    "        \"\"\"\n",
    "        Create one-hot encoding of y\n",
    "        :param y: shape (num_samples,)\n",
    "        :return: one hot encoding (num_samples, C) where C is the number of classes in the training labels\n",
    "        \"\"\"\n",
    "        one_hot_encode = np.zeros((y.shape[0], len(self.label_to_index)), dtype=int)\n",
    "        # Workspace 3.1\n",
    "        # TO DO: Represent the output vector y as a one hot encoding. Create a matrix M of dimensions (n X C)\n",
    "        # where n = number of samples, and C for number of classes\n",
    "        # If y[i] = class j, then M[i] is equal to 1 at position j and 0 elsewhere\n",
    "        #BEGIN \n",
    "        # code here\n",
    "        #END\n",
    "        return one_hot_encode\n",
    "\n",
    "    def normalize_data(self, X):\n",
    "        \"\"\"\n",
    "        Fit scaler if it hasn't been done yet and normalize X\n",
    "        :param X: Raw features, shape (num_samples, num_features)\n",
    "        :return: Normalized features,  shape (num_samples, num_features)\n",
    "        \"\"\"\n",
    "        # Workspace 3.2\n",
    "        # TO DO: Normalize the feature values of dataset X, you have to keep track of the mean and variance\n",
    "        #BEGIN \n",
    "        # code here\n",
    "        #END\n",
    "        return X\n",
    "\n",
    "    def predict(self, X):\n",
    "        \"\"\"\n",
    "        The usual predict method\n",
    "        \"\"\"\n",
    "        # Workspace 3.3\n",
    "        # TO DO: Normalize X, process it and return the predicted label using the scores from classifiers\n",
    "        #BEGIN \n",
    "        # code here\n",
    "        #END\n",
    "\n",
    "    def evaluate(self, test_x, test_y):\n",
    "        # Workspace 3.4\n",
    "        #BEGIN \n",
    "        # code here\n",
    "        #END\n",
    "\n",
    "    def fit(self, X, y, batch_size=1, epochs=10, validation_X=None, validation_y=None):\n",
    "        \"\"\"\n",
    "        Similar to LogisticRegression, but for multiclass case\n",
    "        :return: metrics, containing WAR score at the end of each epoch on the validation data\n",
    "        \"\"\"\n",
    "        self.label_to_index = dict(zip(np.unique(y), range(len(np.unique(y)))))\n",
    "        self.index_to_label = {v: k for k, v in self.label_to_index.items()}\n",
    "\n",
    "        metrics = []\n",
    "        if validation_X is None:\n",
    "            validation_X, validation_y = X, y\n",
    "        # Workspace 3.5\n",
    "        # TO DO: Compute Weighted Average Recall at the end of each epoch\n",
    "        # TO DO: Process training data and use it to fit self.classifiers and compute the metrics every epoch\n",
    "        #BEGIN \n",
    "        # code here\n",
    "        #END\n",
    "        return metrics\n",
    "\n"
   ]
  },
  {
   "cell_type": "markdown",
   "metadata": {
    "deletable": false,
    "editable": false,
    "nbgrader": {
     "cell_type": "markdown",
     "checksum": "cd3a3693333028fa76f5d2df5e6b638d",
     "grade": false,
     "grade_id": "q36",
     "locked": true,
     "schema_version": 3,
     "solution": false,
     "task": false
    },
    "pycharm": {
     "name": "#%% md\n"
    }
   },
   "source": [
    "- 3.6 **[4 points]** Train `OneVersusAll` for 100 epochs using eta=0.1 and batch_size = 64. In the same figure, plot:\n",
    "    - The WAR metric on the digits training data at the end of each epoch\n",
    "    - The WAR metric on the digits test data at the end of each epoch\n",
    "You should also print the best score on each if the partitions.\n",
    "You might need to adapt LogisticRegression so that fit method can be called multiple times without losing the weights from previous epoch.\n",
    "\n",
    "For a fair comparison, call `np.random.seed(42)` before each `fit` to reset the random generator."
   ]
  },
  {
   "cell_type": "code",
   "execution_count": null,
   "metadata": {
    "deletable": false,
    "nbgrader": {
     "cell_type": "code",
     "checksum": "40fb5965a3d38e191d3e38e3ca640c2c",
     "grade": true,
     "grade_id": "a36",
     "locked": false,
     "points": 4,
     "schema_version": 3,
     "solution": true,
     "task": false
    },
    "pycharm": {
     "name": "#%%\n"
    }
   },
   "outputs": [],
   "source": [
    "epochs = 100\n",
    "eta = 0.1\n",
    "batch_size = 64\n",
    "# Workspace 3.6\n",
    "#BEGIN \n",
    "# code here\n",
    "#END"
   ]
  },
  {
   "cell_type": "markdown",
   "metadata": {
    "deletable": false,
    "editable": false,
    "nbgrader": {
     "cell_type": "markdown",
     "checksum": "1a78fad40c4dce28db009c65ef7fa01b",
     "grade": false,
     "grade_id": "q37",
     "locked": true,
     "schema_version": 3,
     "solution": false,
     "task": false
    },
    "pycharm": {
     "name": "#%% md\n"
    }
   },
   "source": [
    "- 3.7 **[3 points]** Does the WAR improve as we train for more epochs on the two data partitions (train, test)? Why? How does it compare to KNNClassifier? How do you explain the difference?"
   ]
  },
  {
   "cell_type": "markdown",
   "metadata": {
    "deletable": false,
    "nbgrader": {
     "cell_type": "markdown",
     "checksum": "98d60925a54a8c60fb20b065886b8f85",
     "grade": true,
     "grade_id": "a37",
     "locked": false,
     "points": 3,
     "schema_version": 3,
     "solution": true,
     "task": false
    },
    "pycharm": {
     "name": "#%%\n"
    }
   },
   "source": [
    "% Workspace 3.7\n",
    "\n",
    "%BEGIN\n",
    "\n",
    "% YOUR ANSWER HERE\n",
    "\n",
    "%END"
   ]
  },
  {
   "cell_type": "markdown",
   "metadata": {
    "deletable": false,
    "editable": false,
    "nbgrader": {
     "cell_type": "markdown",
     "checksum": "d2aae0ab222bcd47033ed6adebee0df7",
     "grade": false,
     "grade_id": "q38",
     "locked": true,
     "schema_version": 3,
     "solution": false,
     "task": false
    }
   },
   "source": [
    "- 3.8 **(Bonus)** **[3 points]** Repeat 3.6 and 3.7 using Ridge regularization for the LogisticRegression classifiers with alpha=0.01. How does the regularization affect the performance on train VS test sets?\n",
    "\n",
    "You have to answer 2.10 before you attempt this question."
   ]
  },
  {
   "cell_type": "code",
   "execution_count": null,
   "metadata": {
    "deletable": false,
    "nbgrader": {
     "cell_type": "code",
     "checksum": "009492acfacf8cbc85eddfce91dd73ae",
     "grade": true,
     "grade_id": "a38",
     "locked": false,
     "points": 0,
     "schema_version": 3,
     "solution": true,
     "task": false
    },
    "pycharm": {
     "name": "#%%\n"
    }
   },
   "outputs": [],
   "source": [
    "epochs = 100\n",
    "eta = 0.1\n",
    "batch_size = 64\n",
    "alpha = 1e-2\n",
    "# Workspace 3.8 (code)\n",
    "#BEGIN \n",
    "# code here\n",
    "#END"
   ]
  },
  {
   "cell_type": "markdown",
   "metadata": {
    "deletable": false,
    "nbgrader": {
     "cell_type": "markdown",
     "checksum": "7b3622c38cddf15acd78e79c344bd300",
     "grade": true,
     "grade_id": "a38b",
     "locked": false,
     "points": 0,
     "schema_version": 3,
     "solution": true,
     "task": false
    }
   },
   "source": [
    "#### Workspace 3.8 (write up)\n",
    "\n",
    "%BEGIN\n",
    "\n",
    "% YOUR ANSWER HERE\n",
    "\n",
    "%END"
   ]
  },
  {
   "cell_type": "markdown",
   "metadata": {
    "deletable": false,
    "editable": false,
    "nbgrader": {
     "cell_type": "markdown",
     "checksum": "a480252677e8fdd3a4579ddfc0590f54",
     "grade": false,
     "grade_id": "P4",
     "locked": true,
     "schema_version": 3,
     "solution": false,
     "task": false
    }
   },
   "source": [
    "## Problem 4: Feature Engineering (18 points)\n",
    "So far in all previous problems, we didn't have to worry about creating the features, that is our `X`. We always relied on having it handed to us.\n",
    "In practical machine learning problems, however, you will have to do some feature engineering yourself in order to get the features matrix `X` before feeding it to the classifier.\n",
    "\n",
    "For this problem you will work on extracting features from raw data. You will then use scikit-learn [`SGDClassifier`](https://scikit-learn.org/stable/modules/generated/sklearn.linear_model.SGDClassifier.html) to complete the classification task.\n",
    "\n",
    "We will start by importing some libraries and loading our data which contains 2,000 reviews from IMDB along with their sentiment, either positive (`1`) or negative (`0`).\n"
   ]
  },
  {
   "cell_type": "code",
   "execution_count": null,
   "metadata": {},
   "outputs": [],
   "source": [
    "import nltk\n",
    "from nltk.tokenize import word_tokenize\n",
    "from sklearn.feature_extraction.text import CountVectorizer, TfidfVectorizer\n",
    "from sklearn.linear_model import SGDClassifier\n",
    "from sklearn.base import BaseEstimator, TransformerMixin\n",
    "from sklearn.pipeline import FeatureUnion, Pipeline\n",
    "from sklearn.metrics import accuracy_score\n",
    "from sklearn.preprocessing import StandardScaler\n",
    "\n",
    "nltk.download('punkt')"
   ]
  },
  {
   "cell_type": "code",
   "execution_count": null,
   "metadata": {},
   "outputs": [],
   "source": [
    "imdb = data.IMDB()\n",
    "print(f\"[Example: {imdb.X_train[1][:157]}], label:{imdb.y_train[1]}\")"
   ]
  },
  {
   "attachments": {
    "Pipeline.png": {
     "image/png": "[encoded data removed]"
    },
    "Union.png": {
     "image/png": "[encoded data removed]"
    }
   },
   "cell_type": "markdown",
   "metadata": {},
   "source": [
    "Let's call _Featurizer_ any class that is implemented like `StandardScaler` and our initial `MinMaxScaler`. It has:\n",
    "- a `fit` method that computes any necessary statistics based on our training data (like mean, min or max)\n",
    "- a `transform` method that generates new features based on given input and the pre-computed statistics\n",
    "- a `fit_transform` method that combines the two previous methods\n",
    "\n",
    "We can also combine multiple _Featurizers_ either in a series using [`Pipeline`](https://scikit-learn.org/stable/modules/generated/sklearn.pipeline.Pipeline.html):\n",
    "![Pipeline.png](attachment:Pipeline.png)\n",
    "\n",
    "Or in parallel using [`FeatureUnion`](https://scikit-learn.org/stable/modules/generated/sklearn.pipeline.FeatureUnion.html)\n",
    "![Union.png](attachment:Union.png)\n",
    "\n",
    "`Pipeline` and `FeatureUnion` are also _Featurizers_.\n",
    "\n",
    "Both `Pipeline` and `FeatureUnion` take a list of tuples formated as `(features_name: str, featurizer_instance: object)`."
   ]
  },
  {
   "cell_type": "markdown",
   "metadata": {
    "deletable": false,
    "editable": false,
    "nbgrader": {
     "cell_type": "markdown",
     "checksum": "6959d629e661cdbbaa7346a21602d58c",
     "grade": false,
     "grade_id": "q41",
     "locked": true,
     "schema_version": 3,
     "solution": false,
     "task": false
    }
   },
   "source": [
    "Let's start by extracting some simple features such as the number of sentences in each review.\n",
    "To do that, we will create a custom scikit-learn feature transformer which will take data as input and returns a feature vector as output.\n",
    "\n",
    "The feature transformer class has a constructor, a `fit` method. The constructor can be used to store any words or other data that we might need during the feature extraction process.\n",
    "Feature transformers usually don't need to be fitted, so we will leave that as it is. Most of the work will be done inside the `transform` function.\n",
    "\n",
    "- 4.1 **[3 points]** Complete the `SentenceCounter` class to extract the number of sentences in each review. \n",
    "- 4.2 **[3 points]** Complete the `PunctCounter` class to count the number of \"!\" and \"?\" in each review\n"
   ]
  },
  {
   "cell_type": "code",
   "execution_count": null,
   "metadata": {
    "deletable": false,
    "nbgrader": {
     "cell_type": "code",
     "checksum": "e5175aa8874a97ceb9af162cb681490e",
     "grade": true,
     "grade_id": "a41",
     "locked": false,
     "points": 6,
     "schema_version": 3,
     "solution": true,
     "task": false
    }
   },
   "outputs": [],
   "source": [
    "class SentenceCounter(BaseEstimator, TransformerMixin):\n",
    "    \"\"\"\n",
    "    A custom feature transformer to extract the number of sentences\n",
    "    \"\"\"\n",
    "    def fit(self, data):\n",
    "        return self\n",
    "\n",
    "    def transform(self, data):\n",
    "        \"\"\"\n",
    "        :param data: raw data, of length (num_samples,), where each element is a string \n",
    "        :return: features array of shape (num_samples, 1)\n",
    "        \"\"\"\n",
    "        features = np.zeros((len(data), 1))\n",
    "        # Workspace 3.1\n",
    "        # TODO: Transform reviews into the feature (number of sentences)  \n",
    "        #BEGIN \n",
    "        # code here\n",
    "        #END\n",
    "        return features\n",
    "\n",
    "\n",
    "class PunctCounter(SentenceCounter):\n",
    "    \"\"\"\n",
    "    A custom feature transformer to extract the number of \"!\" and \"?\"\n",
    "    \"\"\"\n",
    "\n",
    "    def transform(self, data):\n",
    "        \"\"\"\n",
    "        :param data: raw data, of length (num_samples,), where each element is a string \n",
    "        :return: features array of shape (num_samples, 1)\n",
    "        \"\"\"\n",
    "        features = np.zeros((len(data), 1))\n",
    "        # Workspace 3.2\n",
    "        # TODO: Transform reviews into the feature (number of \"!\" and \"?\")  \n",
    "        #BEGIN \n",
    "        # code here\n",
    "        #END\n",
    "        return features"
   ]
  },
  {
   "cell_type": "markdown",
   "metadata": {},
   "source": [
    "The `featurizer` instance below combines `FeatureUnion` and `Pipeline` operations. First, we extract the number of punctuations, then normalize the two features.\n"
   ]
  },
  {
   "cell_type": "code",
   "execution_count": null,
   "metadata": {},
   "outputs": [],
   "source": [
    "featurizer = Pipeline([(\"counts\", FeatureUnion([('sentences_count', SentenceCounter()),\n",
    "                                                ('punct_count', PunctCounter())])),\n",
    "                       (\"normalizer\", StandardScaler())])\n",
    "X_train = featurizer.fit_transform(imdb.X_train)\n",
    "X_test = featurizer.transform(imdb.X_test)\n",
    "print(f\"means:{np.mean(X_train,axis=0)}, Standard deviations:{np.std(X_train, axis=0)}\")\n",
    "print(X_train.shape, X_test.shape)"
   ]
  },
  {
   "cell_type": "markdown",
   "metadata": {},
   "source": [
    "Let's see how well this simple feature would help us distinguish positive reviews from negative ones. "
   ]
  },
  {
   "cell_type": "code",
   "execution_count": null,
   "metadata": {
    "pycharm": {
     "name": "#%%\n"
    }
   },
   "outputs": [],
   "source": [
    "# Train the classifier and find the accuracy on the test dataset\n",
    "lr = SGDClassifier(loss='log', penalty='l2', alpha=0.001, max_iter=2000, shuffle=True, verbose=0, random_state=42)\n",
    "lr.fit(X_train, imdb.y_train)\n",
    "y_pred = lr.predict(X_test)\n",
    "accuracy = accuracy_score(y_pred, imdb.y_test)\n",
    "print(\"Accuracy on testing set: \", accuracy)"
   ]
  },
  {
   "cell_type": "markdown",
   "metadata": {},
   "source": [
    "Not that helpful!"
   ]
  },
  {
   "cell_type": "markdown",
   "metadata": {
    "deletable": false,
    "editable": false,
    "nbgrader": {
     "cell_type": "markdown",
     "checksum": "78850abfab8723fca912d015faf934cf",
     "grade": false,
     "grade_id": "q43",
     "locked": true,
     "schema_version": 3,
     "solution": false,
     "task": false
    }
   },
   "source": [
    "Well, that was expected! let's create more transformers to extract more valuable features.  \n",
    "\n",
    "- 4.3 **[3 points]** Complete the `NegativeCounter` feature transformer to extract the number of negative words (vocabulary is provided) \n",
    "\n",
    "- 4.4 **[3 points]** Complete the `PositiveCounter` feature transformer to extract the number of positive words (vocabulary is provided)\n",
    "\n",
    "HINT: Before you match the vocabulary words to the review text, use [`word_tokenize`](https://www.nltk.org/api/nltk.tokenize.html) from `nltk` to convert reviews into tokens. "
   ]
  },
  {
   "cell_type": "code",
   "execution_count": null,
   "metadata": {
    "deletable": false,
    "nbgrader": {
     "cell_type": "code",
     "checksum": "2e0b55e99f4ad85c38ed1bf0f074cdd6",
     "grade": true,
     "grade_id": "a43",
     "locked": false,
     "points": 6,
     "schema_version": 3,
     "solution": true,
     "task": false
    }
   },
   "outputs": [],
   "source": [
    "class NegativeCounter(SentenceCounter):\n",
    "    \"\"\"\n",
    "    A custom feature transformer to extract the feature \"number of negative words\" \n",
    "    \"\"\"\n",
    "\n",
    "    def __init__(self):\n",
    "        self.neg_words = [\"second-rate\", \"violent\", \"moronic\", \"third-rate\", \"flawed\", \"juvenile\", \"boring\",\n",
    "                          \"distasteful\", \"ordinary\", \"disgusting\", \"senseless\", \"static\", \"brutal\", \"confused\",\n",
    "                          \"disappointing\", \"bloody\", \"silly\", \"tired\", \"predictable\", \"stupid\", \"uninteresting\",\n",
    "                          \"weak\", \"incredibly tiresome\", \"trite\", \"uneven\", \"cliché ridden\", \"outdated\",\n",
    "                          \"dreadful\", \"bland\", \"bad\", \"worst\", \"waste\"]\n",
    "\n",
    "    def transform(self, data):\n",
    "        \"\"\"\n",
    "        :param data: raw data\n",
    "        :return: features array of shape (n_samples, 1)\n",
    "        \"\"\"\n",
    "        features = np.zeros((len(data), 1))\n",
    "\n",
    "        # Workspace 4.3\n",
    "        # TODO: Transform reviews into the feature (number of negative words)  \n",
    "        #BEGIN \n",
    "        # code here\n",
    "        #END\n",
    "\n",
    "        return features\n",
    "\n",
    "\n",
    "class PositiveCounter(NegativeCounter):\n",
    "    \"\"\"\n",
    "    A custom feature transformer to extract the feature \"number of positive words\"\n",
    "    \"\"\"\n",
    "\n",
    "    def __init__(self):\n",
    "        self.pos_words = [\"first-rate\", \"insightful\", \"clever\", \"charming\", \"comical\", \"charismatic\", \"enjoyable\",\n",
    "                          \"uproarious\", \"original\", \"tender\", \"hilarious\", \"absorbing\", \"sensitive\", \"riveting\",\n",
    "                          \"intriguing\", \"powerful\", \"fascinating\", \"pleasant\", \"surprising\", \"dazzling\",\n",
    "                          \"imaginative\", \"legendary\", \"unpretentious\", \"love\", \"wonderful\",\n",
    "                          \"best\", \"great\", \"superb\", \"still\", \"beautiful\"]\n",
    "\n",
    "    def transform(self, data):\n",
    "        \"\"\"\n",
    "        :param data: raw data\n",
    "        :return: features array of shape (n_samples, 1)\n",
    "        \"\"\"\n",
    "        features = np.zeros((len(data), 1))\n",
    "\n",
    "        # Workspace 4.4\n",
    "        # TODO: Transform reviews into the feature (number of positive words)  \n",
    "        #BEGIN \n",
    "        # code here\n",
    "        #END\n",
    "        return features"
   ]
  },
  {
   "cell_type": "markdown",
   "metadata": {
    "deletable": false,
    "editable": false,
    "nbgrader": {
     "cell_type": "markdown",
     "checksum": "e4505608a30af5dd68819f5d0abb18a7",
     "grade": false,
     "grade_id": "q45",
     "locked": true,
     "schema_version": 3,
     "solution": false,
     "task": false
    }
   },
   "source": [
    "Let's see now how well the classifier would perform with these features that we just engineered. \n",
    "\n",
    "- 4.5 **[3 points]** Define `second_featurizer` to combine:`num_of_sentences`, `num_of_negative_words`, `num_of_positive_words`, respectively. "
   ]
  },
  {
   "cell_type": "code",
   "execution_count": null,
   "metadata": {
    "deletable": false,
    "nbgrader": {
     "cell_type": "code",
     "checksum": "0bd2b682bcc533f051453765f98855cc",
     "grade": true,
     "grade_id": "a45",
     "locked": false,
     "points": 3,
     "schema_version": 3,
     "solution": true,
     "task": false
    }
   },
   "outputs": [],
   "source": [
    "# Workspace 4.5\n",
    "#BEGIN \n",
    "# code here\n",
    "#END"
   ]
  },
  {
   "cell_type": "code",
   "execution_count": null,
   "metadata": {},
   "outputs": [],
   "source": [
    "X_train = second_featurizer.fit_transform(imdb.X_train)\n",
    "X_test = second_featurizer.transform(imdb.X_test)\n",
    "print(X_train.shape, X_test.shape)\n",
    "# Train the classifier and find the accuracy on the test dataset\n",
    "lr = SGDClassifier(loss='log', penalty='l2', alpha=0.001, max_iter=2000, shuffle=True, verbose=0, random_state=42)\n",
    "lr.fit(X_train, imdb.y_train)\n",
    "y_pred = lr.predict(X_test)\n",
    "accuracy = accuracy_score(y_pred, imdb.y_test)\n",
    "print(\"Accuracy on testing set: \", accuracy)"
   ]
  },
  {
   "cell_type": "markdown",
   "metadata": {
    "deletable": false,
    "editable": false,
    "nbgrader": {
     "cell_type": "markdown",
     "checksum": "b690b16cf4701b9d321911443261e35e",
     "grade": false,
     "grade_id": "q46",
     "locked": true,
     "schema_version": 3,
     "solution": false,
     "task": false
    }
   },
   "source": [
    "That's an improvement! Let's try now to include `n-grams` to the list of features.\n",
    "\n",
    "`N-grams` are all combinations of n-length tokens in a given text. This can be at word level (`word n-grams`) or character level (`char n-grams`) \n",
    "\n",
    "For example, if you have the text: `\"The movie was great\"` , then for this text:\n",
    "\n",
    "- `unigrams` (`n=1`) at the word level would be `[\"The\", \"movie\", \"was\", \"great\"]` and \n",
    "- `bigrams` (`n=2`) at the word level would be `[\"The movie\", \"movie was\", \"was great\"]`\n",
    "\n",
    "and you can generalize this to `n-grams`.\n",
    "\n",
    "- 4.6 **[3 points]** Define `third_featurizer` to add include an N-gram extractor at the word level.\n",
    "\n",
    "HINT: use the scikit-learn transformer [`CountVectorizer`](\n",
    "https://scikit-learn.org/stable/modules/generated/sklearn.feature_extraction.text.CountVectorizer.html)\n"
   ]
  },
  {
   "cell_type": "code",
   "execution_count": null,
   "metadata": {
    "deletable": false,
    "nbgrader": {
     "cell_type": "code",
     "checksum": "793ec8f8073a62d83afeb94272444609",
     "grade": true,
     "grade_id": "a46",
     "locked": false,
     "points": 3,
     "schema_version": 3,
     "solution": true,
     "task": false
    }
   },
   "outputs": [],
   "source": [
    "third_featurizer = FeatureUnion([\n",
    "    # Workspace 4.6\n",
    "    # TODO: Add the three feature transformers from 4.5 and a fourth one to extract word n-grams of range 1 to 3\n",
    "    #BEGIN \n",
    "    # code here\n",
    "    #END\n",
    "])\n"
   ]
  },
  {
   "cell_type": "markdown",
   "metadata": {},
   "source": [
    "Let's now see if adding n-grams helped boost the classifier performance. "
   ]
  },
  {
   "cell_type": "code",
   "execution_count": null,
   "metadata": {},
   "outputs": [],
   "source": [
    "X_train = third_featurizer.fit_transform(imdb.X_train)\n",
    "X_test = third_featurizer.transform(imdb.X_test)\n",
    "print(X_train.shape, X_test.shape)"
   ]
  },
  {
   "cell_type": "code",
   "execution_count": null,
   "metadata": {},
   "outputs": [],
   "source": [
    "# Train the classifier and find the accuracy on the test dataset\n",
    "lr = SGDClassifier(loss='log', penalty='l2', alpha=0.001, max_iter=2000, shuffle=True, verbose=0, random_state=42)\n",
    "lr.fit(X_train, imdb.y_train)\n",
    "y_pred = lr.predict(X_test)\n",
    "accuracy = accuracy_score(y_pred, imdb.y_test)\n",
    "print(\"Accuracy on testing set: \", accuracy)"
   ]
  },
  {
   "cell_type": "markdown",
   "metadata": {
    "deletable": false,
    "editable": false,
    "nbgrader": {
     "cell_type": "markdown",
     "checksum": "b843660c35862d9bdf477327d7a7a466",
     "grade": false,
     "grade_id": "q47",
     "locked": true,
     "schema_version": 3,
     "solution": false,
     "task": false
    }
   },
   "source": [
    "N-grams definitely helped enhance the classifier performance!\n",
    "\n",
    "- 4.7 **(Bonus)** Try to a achieve better accuracy on IMDB dataset. You're restricted to using SGDClassifier, but you're free to tweak its parameters. You'll get 1 bonus point for each 1% accuracy above 82% that you achieve (rounded-up)!"
   ]
  },
  {
   "cell_type": "code",
   "execution_count": null,
   "metadata": {
    "deletable": false,
    "nbgrader": {
     "cell_type": "code",
     "checksum": "cb0715e07dbab22b28b159d5f876ebd4",
     "grade": true,
     "grade_id": "a47",
     "locked": false,
     "points": 0,
     "schema_version": 3,
     "solution": true,
     "task": false
    }
   },
   "outputs": [],
   "source": [
    "# Workspace 4.7\n",
    "#BEGIN \n",
    "# code here\n",
    "#END"
   ]
  }
 ],
 "metadata": {
  "kernelspec": {
   "display_name": "Python 3.9.12",
   "language": "python",
   "name": "python3"
  },
  "language_info": {
   "codemirror_mode": {
    "name": "ipython",
    "version": 3
   },
   "file_extension": ".py",
   "mimetype": "text/x-python",
   "name": "python",
   "nbconvert_exporter": "python",
   "pygments_lexer": "ipython3",
   "version": "3.9.12"
  },
  "vscode": {
   "interpreter": {
    "hash": "40d3a090f54c6569ab1632332b64b2c03c39dcf918b08424e98f38b5ae0af88f"
   }
  }
 },
 "nbformat": 4,
 "nbformat_minor": 4
}
