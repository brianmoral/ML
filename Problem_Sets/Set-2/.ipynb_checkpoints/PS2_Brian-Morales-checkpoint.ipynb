{
 "cells": [
  {
   "cell_type": "markdown",
   "metadata": {},
   "source": [
    "# Problem Set 2 - Decision Trees, Model Selection, and Ensemble Methods\n",
    "## CSCI 5622 - Fall 2022\n",
    "***\n",
    "**Name**: Brian Morales \n",
    "***\n",
    "\n",
    "This assignment is due on Canvas by **11:59PM on October 10**.\n",
    "\n",
    "Submit only this Jupyter notebook to Canvas with the name format `PS2_Brian-Morales.ipynb`. Do not compress it using tar, rar, zip, etc.\n",
    "Your solutions to analysis questions should be done in Markdown directly below the associated question.\n",
    "\n",
    "Remember that you are encouraged to discuss the problems with your classmates and instructors, \n",
    "but **you must write all code and solutions on your own**, and list any people or sources consulted.\n",
    "The only exception to this rule is that you may copy code directly from your own solution to homework 1.\n",
    "***"
   ]
  },
  {
   "cell_type": "markdown",
   "metadata": {
    "deletable": false,
    "editable": false,
    "nbgrader": {
     "cell_type": "markdown",
     "checksum": "294a69c5d0f0d0badb468c04285acd74",
     "grade": false,
     "grade_id": "overview",
     "locked": true,
     "schema_version": 3,
     "solution": false,
     "task": false
    }
   },
   "source": [
    "## Overview \n",
    "\n",
    "Your task for this homework is to build a decision tree classifier from scratch. Of course, we provide some initial classes\n",
    "that you'll be editing. Since last two problems will use the scikit-learn's DecisionTreeClassifier, your solution\n",
    "does not have to be efficient as long as it passes the sanity checks in a reasonable time (typically less than ~1min).\n",
    "\n",
    "We will run a small comparison between our implementation and Scikit's in Problem 2 to make sure we didn't miss anything.\n",
    "\n",
    "The third part will introduce k-fold cross validation to find out how deep is the best decision tree classifier. The last problem\n",
    "requires a _weak learner_, so we'll use a decision tree that yields lower performance. But with _Ensemble Methods_,\n",
    "we will be able to improve the performance by aggregating predictions from multiple weak learners.\n",
    "For the ensemble methods, we'll explore bagging, Random Forest, and boosting (AdaBoost).\n",
    "\n",
    "Any Machine Learning interview will almost certainly have a question or two about decision trees and how they're trained.\n",
    "So understanding the code and trying to implement everything on your own will be the best way to prepare for such interviews.\n",
    "\n",
    "Also remember, if your code is correct then the sanity checks should pass without any major issue.\n",
    "But if the sanity checks pass that does not necessarily imply your code is 100% correct.\n",
    "\n",
    "Happy coding!"
   ]
  },
  {
   "cell_type": "code",
   "execution_count": 1,
   "metadata": {
    "deletable": false,
    "editable": false,
    "nbgrader": {
     "cell_type": "code",
     "checksum": "1b665692ac38f1b9fa4c6f3112b828d5",
     "grade": false,
     "grade_id": "imports_p1",
     "locked": true,
     "schema_version": 3,
     "solution": false,
     "task": false
    },
    "pycharm": {
     "name": "#%%\n"
    }
   },
   "outputs": [],
   "source": [
    "import numpy as np\n",
    "import matplotlib.pylab as plt\n",
    "import tests\n",
    "import data\n",
    "from sklearn.tree import DecisionTreeClassifier\n",
    "%matplotlib inline"
   ]
  },
  {
   "cell_type": "markdown",
   "metadata": {
    "deletable": false,
    "editable": false,
    "nbgrader": {
     "cell_type": "markdown",
     "checksum": "776f8265e4a8630385ee2d3e9af6d654",
     "grade": false,
     "grade_id": "datatable",
     "locked": true,
     "schema_version": 3,
     "solution": false,
     "task": false
    }
   },
   "source": [
    "### Problem 1 - Decision Trees [30 points]\n",
    "***\n",
    "The goal of this problem is to implement the core elements of the Decision Tree classifier.\n",
    "We do not expect a highly efficient implementation of the functions since the ensemble methods will\n",
    "use the implementation from scikit-learn.\n",
    "\n",
    "We'll be testing our implementation on the same dataset we used for Naive Bayes.\n",
    "\n",
    "|Age|Salary|Colorado Resident| Has Siblings | College degree|\n",
    "|:------:|:-----------:| :----------:| :----------:|--:|\n",
    "| 37 | 44,000 | Yes | No  | Yes|\n",
    "| 61 | 52,000 | Yes | No  | No |\n",
    "| 23 | 44,000 | No  | No  | Yes|\n",
    "| 39 | 38,000 | No  | Yes | Yes|\n",
    "| 48 | 49,000 | No  | No  | Yes|\n",
    "| 57 | 92,000 | No  | Yes | No |\n",
    "| 38 | 41,000 | No  | Yes | Yes|\n",
    "| 27 | 35,000 | Yes | No  | No |\n",
    "| 23 | 26,000 | Yes | No  | No |\n",
    "| 38 | 45,000 | No  | No  | No |\n",
    "| 32 | 50,000 | No  | No  | Yes|\n",
    "| 25 | 52,000 | Yes | No  | Yes|\n"
   ]
  },
  {
   "cell_type": "code",
   "execution_count": 2,
   "metadata": {
    "deletable": false,
    "editable": false,
    "nbgrader": {
     "cell_type": "code",
     "checksum": "a5422b36081e4897de4a7e2b898124e5",
     "grade": false,
     "grade_id": "p1_data",
     "locked": true,
     "schema_version": 3,
     "solution": false,
     "task": false
    },
    "pycharm": {
     "name": "#%%\n"
    }
   },
   "outputs": [],
   "source": [
    "features = np.array([\n",
    "    [37, 44000, 1, 0],\n",
    "    [61, 52000, 1, 0],\n",
    "    [23, 44000, 0, 0],\n",
    "    [39, 38000, 0, 1],\n",
    "    [48, 49000, 0, 0],\n",
    "    [57, 92000, 0, 1],\n",
    "    [38, 41000, 0, 1],\n",
    "    [27, 35000, 1, 0],\n",
    "    [23, 26000, 1, 0],\n",
    "    [38, 45000, 0, 0],\n",
    "    [32, 50000, 0, 0],\n",
    "    [25, 52000, 1, 0]\n",
    "])\n",
    "labels = np.array([1, 0, 1, 1, 1, 0, 1, 0, 0, 0, 1, 1])"
   ]
  },
  {
   "cell_type": "markdown",
   "metadata": {
    "deletable": false,
    "editable": false,
    "nbgrader": {
     "cell_type": "markdown",
     "checksum": "46d6cd24f0ff95644b497fc06917e821",
     "grade": false,
     "grade_id": "q11_12",
     "locked": true,
     "schema_version": 3,
     "solution": false,
     "task": false
    },
    "pycharm": {
     "name": "#%% md\n"
    }
   },
   "source": [
    "Each leaf node (terminal node) in a decision tree has a label value assigned to it. The same label will be assigned\n",
    "to all samples that reach the leaf node.\n",
    "- 1.1 [2 pts] What is the best accuracy for a baseline classifier that predicts one label for all rows on the dataset above?\n",
    "which label should it predict?\n",
    "- 1.2 [3 pts] Complete `compute_label` to return the label that should be assigned to the leaf node based on training labels in `y`.\n",
    "\n",
    "If more than one label are possible, choose the one with the lowest value (e.g, if both `0` and `1` are possible,\n",
    "choose `0`)"
   ]
  },
  {
   "cell_type": "markdown",
   "metadata": {
    "deletable": false,
    "nbgrader": {
     "cell_type": "markdown",
     "checksum": "ece7cf4df488ac69fd5a2ae22baadcb5",
     "grade": true,
     "grade_id": "a11",
     "locked": false,
     "points": 2,
     "schema_version": 3,
     "solution": true,
     "task": false
    },
    "pycharm": {
     "name": "#%% md\n"
    }
   },
   "source": [
    "% Write-up for 1.1 <br>\n",
    "%BEGIN\n",
    "\n",
    "The best accuracy for a baseline classifier that predicts one label for all rows is $58.3\\%$. `1` is the most fequent label totallying $7$ out of the $12$ label samples. Therefore its should predict label `1`. \n",
    "\n",
    "%END"
   ]
  },
  {
   "cell_type": "code",
   "execution_count": 3,
   "metadata": {
    "deletable": false,
    "nbgrader": {
     "cell_type": "code",
     "checksum": "88fc6910e475902184ca6f14b63253b7",
     "grade": true,
     "grade_id": "a12",
     "locked": false,
     "points": 3,
     "schema_version": 3,
     "solution": true,
     "task": false
    },
    "pycharm": {
     "name": "#%%\n"
    }
   },
   "outputs": [],
   "source": [
    "class Node:\n",
    "    \"\"\"Base class for LeafNode and ParentNode\"\"\"\n",
    "    left_child = None\n",
    "    right_child = None\n",
    "    def feature_importance(self, importance_dict):\n",
    "        return importance_dict\n",
    "\n",
    "class LeafNode(Node):\n",
    "    def __init__(self, y):\n",
    "        \"\"\"\n",
    "        :param y: 1-d array containing labels, of shape (num_points,)\n",
    "        \"\"\"\n",
    "        self.label = self.compute_label(y)\n",
    "\n",
    "    @staticmethod\n",
    "    def compute_label(y):\n",
    "        \"\"\"\n",
    "        return the label that yields best performance if predicted of all instances in y\n",
    "        :param y:  1-d array containing labels\n",
    "        :return: single label, integer\n",
    "        \"\"\"\n",
    "        node_label = None\n",
    "        #Workspace 1.2\n",
    "        #TODO: Return the label that should be assigned to the leaf node\n",
    "        #In case of multiple possible labels, choose the one with the lowest value\n",
    "        #Make no assumptions about the number of class labels\n",
    "        #BEGIN \n",
    "        values, counts = np.unique(y, return_counts=True)\n",
    "        tie = np.argwhere(counts == np.amax(counts)).shape \n",
    "        if tie != (1,1):\n",
    "            # if a tie, return the lowest value of the tie \n",
    "            return min(values[counts == counts.max()])\n",
    "        node_label = values[counts == counts.max()]\n",
    "        #END\n",
    "        return node_label\n",
    "\n",
    "\n",
    "    def predict(self, x):\n",
    "        \"\"\"\n",
    "        return the label for one obervation x\n",
    "        :param x: one sample, of shape (num_features)\n",
    "        :return: label, integer\n",
    "        \"\"\"\n",
    "        return self.label"
   ]
  },
  {
   "cell_type": "code",
   "execution_count": 4,
   "metadata": {},
   "outputs": [
    {
     "name": "stdout",
     "output_type": "stream",
     "text": [
      "Question 1.2: [PASS]\n"
     ]
    }
   ],
   "source": [
    "# Test cell, uncomment to run the tests\n",
    "tests.test_leaf(LeafNode)"
   ]
  },
  {
   "cell_type": "markdown",
   "metadata": {
    "deletable": false,
    "editable": false,
    "nbgrader": {
     "cell_type": "markdown",
     "checksum": "b0cfdf2ce84fa7ad34134b6a7f56b4be",
     "grade": false,
     "grade_id": "q13",
     "locked": true,
     "schema_version": 3,
     "solution": false,
     "task": false
    },
    "pycharm": {
     "name": "#%% md\n"
    }
   },
   "source": [
    "The tree also contains _parent nodes_. They can either be parents of: leaf nodes, parent nodes, or a combination of the two.\n",
    "Each parent node has a left and a right child. A parent node is used when we can reduce the impurity of the labels by splitting\n",
    "the training instances based on a certain threshold.\n",
    "\n",
    "First, we'll need to choose an impurity measure. For classification,\n",
    "there are two mainstream measures: _gini index_ and _entropy_. We'll be using the former for our implementation.\n",
    "\n",
    "\\begin{align}\n",
    "\\text{Gini}(y) = 1 - \\sum_{c}  (p_c)^2 \\text{  and  Entropy}(y) = -\\sum_{c}  p_c . \\log p_c ,\n",
    "\\end{align}\n",
    "\n",
    "where $p_c$ is the probability of occurrence (ratio)  of class $c$ among the labels in $y$\n",
    "\n",
    "- 1.3 [3 pts] Complete the function `gini` that returns the gini index of labels in `y`.\n",
    "\n",
    "_Hint: Make sure you handle multi-class labels\n",
    "(not just binary)._"
   ]
  },
  {
   "cell_type": "code",
   "execution_count": 5,
   "metadata": {
    "deletable": false,
    "nbgrader": {
     "cell_type": "code",
     "checksum": "8eaef16d6f6787c42a214a242f4a2876",
     "grade": true,
     "grade_id": "a13",
     "locked": false,
     "points": 3,
     "schema_version": 3,
     "solution": true,
     "task": false
    },
    "pycharm": {
     "name": "#%%\n"
    }
   },
   "outputs": [],
   "source": [
    "def gini(y):\n",
    "    \"\"\"\n",
    "    :param y: 1-d array contains labels, of shape (num_points,)\n",
    "    :return: float, entropy measure of the labels\n",
    "    \"\"\"\n",
    "    gini_index = 0\n",
    "    # Workspace 1.3\n",
    "    #TODO: Compute the gini index of the labels\n",
    "    #BEGIN \n",
    "    values, occ = np.unique(y ,return_counts=True)\n",
    "    _, index = np.unique(values, return_index=True)\n",
    "    p_c_sum = sum((occ[index]/len(y))**2)\n",
    "    gini_index = 1 - p_c_sum\n",
    "    #END\n",
    "    return gini_index"
   ]
  },
  {
   "cell_type": "code",
   "execution_count": 6,
   "metadata": {},
   "outputs": [
    {
     "name": "stdout",
     "output_type": "stream",
     "text": [
      "Question 1.3: [PASS]\n"
     ]
    }
   ],
   "source": [
    "# Test cell, uncomment to run the tests\n",
    "tests.test_gini(gini)"
   ]
  },
  {
   "cell_type": "markdown",
   "metadata": {
    "deletable": false,
    "editable": false,
    "nbgrader": {
     "cell_type": "markdown",
     "checksum": "7c1f72fb399ad136eeae14a21d5ba616",
     "grade": false,
     "grade_id": "q14",
     "locked": true,
     "schema_version": 3,
     "solution": false,
     "task": false
    },
    "pycharm": {
     "name": "#%% md\n"
    }
   },
   "source": [
    "Now that we're at a parent node, we decide to partition our label instances in $S$ to two parts indexed by $P_1$ and $P_2$,\n",
    "and we want to compute how much this split reduces the impurity.\n",
    "\n",
    "Using the impurity measure $\\mathcal{M}$, this impurity reduction is computed as follows:\n",
    "\\begin{align}\n",
    "\\text{Reduction}(S, {P_1, P_2}) = \\mathcal{M}(S) - \\big[\n",
    "    \\frac{|P_1|}{|S|} .\\mathcal{M}(S[P_1]) + \\frac{|P_2|}{|S|}.\\mathcal{M}(S[P_2])\n",
    "    \\big],\n",
    "\\end{align}\n",
    "\n",
    "where $|A|$ denotes the size of the set $A$.\n",
    "\n",
    "The main questions will be based on the entropy measure, in which case the `Reduction` is also called _information gain_\n",
    "(reducing the entropy implies that the partitioning decision variable and the labels have a higher mutual information).\n",
    "\n",
    "-  1.4 [3 pts] Complete the `impurity_reduction` function to return the impurity reduction of the split using the provided measure."
   ]
  },
  {
   "cell_type": "code",
   "execution_count": 7,
   "metadata": {
    "deletable": false,
    "nbgrader": {
     "cell_type": "code",
     "checksum": "e8d9a87a3208587bd0d8b352a094346e",
     "grade": true,
     "grade_id": "a14",
     "locked": false,
     "points": 3,
     "schema_version": 3,
     "solution": true,
     "task": false
    },
    "pycharm": {
     "name": "#%%\n"
    }
   },
   "outputs": [],
   "source": [
    "def impurity_reduction(y, left_indices, right_indices, impurity_measure=gini):\n",
    "    \"\"\"\n",
    "    :param y: all labels\n",
    "    :param left_indices: the indices of the elements of y that belong to the left child\n",
    "    :param right_indices: the indices of the elements of y that belong to the right child\n",
    "    :param impurity_measure: function that takes 1d-array of labels and returns the impurity measure, defaults to gini\n",
    "    :return: impurity reduction of the split\n",
    "    \"\"\"\n",
    "    impurity_reduce = 0\n",
    "    # Workspace 1.4\n",
    "    #BEGIN \n",
    "    gini_s = impurity_measure(y)\n",
    "    size_y = len(y)\n",
    "    p_1    = len(left_indices)\n",
    "    p_2    = len(right_indices)\n",
    "    imprty_s_p1 = impurity_measure(y[left_indices])\n",
    "    imprty_s_p2 = impurity_measure(y[right_indices])\n",
    "    \n",
    "    impurity_reduce = gini_s - [(p_1 / size_y)*imprty_s_p1 + (p_2 / size_y)*imprty_s_p2]\n",
    "    \n",
    "    #END\n",
    "    return impurity_reduce"
   ]
  },
  {
   "cell_type": "code",
   "execution_count": 8,
   "metadata": {},
   "outputs": [
    {
     "name": "stdout",
     "output_type": "stream",
     "text": [
      "Question 1.4: [PASS]\n"
     ]
    }
   ],
   "source": [
    "# Test cell, uncomment to run the tests\n",
    "tests.test_information_gain(impurity_reduction, gini)"
   ]
  },
  {
   "cell_type": "markdown",
   "metadata": {
    "deletable": false,
    "editable": false,
    "nbgrader": {
     "cell_type": "markdown",
     "checksum": "56760878d20b0568d67c7aeb77471248",
     "grade": false,
     "grade_id": "q15",
     "locked": true,
     "schema_version": 3,
     "solution": false,
     "task": false
    },
    "pycharm": {
     "name": "#%% md\n"
    }
   },
   "source": [
    "We'll use `best_partition` to look up for the feature and threshold that yields the partition with the best impurity reduction.\n",
    "\n",
    "For each feature:\n",
    " - Compute all possible thresholds (use `split_values`)\n",
    " - For each threshold:\n",
    "    - Split to `(left_indices, right_indices)` based on the threshold\n",
    "    - Compute the impurity reduction of the split\n",
    "\n",
    "The function then returns the feature and the threshold that yield the best impurity reduction (and the reduction value)\n",
    "\n",
    " - 1.5 [5 pts] Complete `best_partition`.\n",
    " \n",
    " _Hint: `split_values` is provided as a helper function. It takes the feature column and returns\n",
    "the set of thresholds_"
   ]
  },
  {
   "cell_type": "code",
   "execution_count": 9,
   "metadata": {
    "deletable": false,
    "nbgrader": {
     "cell_type": "code",
     "checksum": "5d9787709bde545d2117cf2f2c116417",
     "grade": true,
     "grade_id": "a15",
     "locked": false,
     "points": 5,
     "schema_version": 3,
     "solution": true,
     "task": false
    },
    "pycharm": {
     "name": "#%%\n"
    }
   },
   "outputs": [],
   "source": [
    "def split_values(feature_values):\n",
    "    \"\"\"\n",
    "    Helper function to return the split values. if feature consists of the values f1 < f2 < f3 then\n",
    "    this returns [(f2 + f1)/2, (f3 + f2)/2]\n",
    "    :param feature_values: 1-d array of shape (num_points)\n",
    "    :return: array of shape (max(m-1, 1),) where m is the number of unique values in feature_values\n",
    "    \"\"\"\n",
    "    unique_values = np.unique(feature_values)\n",
    "    if unique_values.shape[0] == 1:\n",
    "        return unique_values\n",
    "    return (unique_values[1:] + unique_values[:-1]) / 2\n",
    "\n",
    "\n",
    "def best_partition(X, y, impurity_measure=gini):\n",
    "    \"\"\"\n",
    "    :param X: features array, shape (num_samples, num_features)\n",
    "    :param y: labels of instances in X, shape (num_samples)\n",
    "    :param impurity_measure: function that takes 1d-array of labels and returns the impurity measure\n",
    "    :return: Return the best value and its corresponding threshold by splitting based on the different features.\n",
    "    \"\"\"\n",
    "\n",
    "    best_feature, best_threshold, best_reduction = 0, 0, -np.inf\n",
    "\n",
    "    #Workspace 1.5\n",
    "    #TODO: Complete the function as detailed in the question and return description\n",
    "    #BEGIN \n",
    "    list_imp_red = []\n",
    "    list_feature = []\n",
    "    list_threshold = []\n",
    "    for col in range(X.shape[1]): \n",
    "        # retrieve threshold list for feature column\n",
    "        threshold_list = split_values(X[:, col])\n",
    "        for i in range(len(threshold_list)):\n",
    "            #split based on current threshold\n",
    "            left = np.where(X[:, col] < threshold_list[i])[0]\n",
    "            right = np.where(X[:, col] >= threshold_list[i])[0]\n",
    "            \n",
    "            # append all features, thresholds, and impurity reductions in order\n",
    "            list_feature.append(col)\n",
    "            list_threshold.append(threshold_list[i])\n",
    "            list_imp_red.append(impurity_reduction(y, left, right, impurity_measure)[0])\n",
    "\n",
    "    best_feature   = list_feature[np.argmax(list_imp_red)] \n",
    "    best_threshold = list_threshold[np.argmax(list_imp_red)] \n",
    "    best_reduction = list_imp_red[np.argmax(list_imp_red)]\n",
    "    #END\n",
    "    return best_feature, best_threshold, best_reduction"
   ]
  },
  {
   "cell_type": "code",
   "execution_count": 10,
   "metadata": {},
   "outputs": [
    {
     "name": "stdout",
     "output_type": "stream",
     "text": [
      "Question 1.5: [PASS]\n"
     ]
    }
   ],
   "source": [
    "# Test cell, uncomment to run the tests\n",
    "# If you chose to not use split_values, then this test will likely fail\n",
    "tests.test_best_partition(best_partition, gini)"
   ]
  },
  {
   "cell_type": "markdown",
   "metadata": {
    "deletable": false,
    "editable": false,
    "nbgrader": {
     "cell_type": "markdown",
     "checksum": "62c52953bd532bb6a14a4ed3b1dc2de6",
     "grade": false,
     "grade_id": "parent_intro",
     "locked": true,
     "schema_version": 3,
     "solution": false,
     "task": false
    },
    "pycharm": {
     "name": "#%% md\n"
    }
   },
   "source": [
    "We provide the implementation of the parent node below. Note that the `left_child` will take instance for which\n",
    "`feature_id` value is < `feature_threshold`. We should construct our decision tree as such."
   ]
  },
  {
   "cell_type": "code",
   "execution_count": 11,
   "metadata": {
    "deletable": false,
    "nbgrader": {
     "cell_type": "code",
     "checksum": "2ee7501059904c4a686b5236adde493a",
     "grade": true,
     "grade_id": "a25a",
     "locked": false,
     "points": 0,
     "schema_version": 3,
     "solution": true,
     "task": false
    },
    "pycharm": {
     "name": "#%%\n"
    }
   },
   "outputs": [],
   "source": [
    "class ParentNode:\n",
    "\n",
    "    def __init__(self, feature_id, feature_threshold, left_child: Node, right_child: Node, weighted_impurity=0):\n",
    "        \"\"\"\n",
    "        Initialize a parent node.\n",
    "        :param feature_id: the feature index on which the splitting will be done\n",
    "        :param feature_threshold: the feature threshold. Left child takes item with features[features_id] < threshold\n",
    "        :param left_child: left child node\n",
    "        :param right_child: right child node\n",
    "        :param weighted_impurity: weighted impurity reduction, optional (used for the bonus question)\n",
    "        \"\"\"\n",
    "        self.feature_id = feature_id\n",
    "        self.threshold = feature_threshold\n",
    "        self.left_child = left_child\n",
    "        self.right_child = right_child\n",
    "        self.weighted_impurity = weighted_impurity\n",
    "\n",
    "    def feature_importance(self, importance_dict):\n",
    "        \"\"\"\n",
    "        :param importance_dict: dictionary, keys are features indices and value are feature importances\n",
    "        :return: updated feature importrances dictionary\n",
    "        \"\"\"\n",
    "        #Workspace 2.5.a\n",
    "        #BEGIN \n",
    "        # code here\n",
    "        #END\n",
    "        return importance_dict\n",
    "\n",
    "    def predict(self, x):\n",
    "        \"\"\"\n",
    "        Predict the label of row x. If we're a leaf node, return the value of the leaf. Otherwise, call predict\n",
    "        of the left/right child (depending on x[feature_index).\n",
    "        This will be called by DecisionTree.predict\n",
    "        :param x: 1-d array of shape (num_features)\n",
    "        :return: integer, the label for x\n",
    "        \"\"\"\n",
    "        if x[self.feature_id] < self.threshold:\n",
    "            label = self.left_child.predict(x)\n",
    "        else:\n",
    "            label = self.right_child.predict(x)\n",
    "        return label"
   ]
  },
  {
   "cell_type": "markdown",
   "metadata": {
    "deletable": false,
    "editable": false,
    "nbgrader": {
     "cell_type": "markdown",
     "checksum": "9a136ad8e62d303bc69f292b2216f102",
     "grade": false,
     "grade_id": "q16_17",
     "locked": true,
     "schema_version": 3,
     "solution": false,
     "task": false
    },
    "pycharm": {
     "name": "#%% md\n"
    }
   },
   "source": [
    "Now we tackle the core of a decision tree. The tree is built in a recursive way. The recursion in `DecisionTree.build` works as follows:\n",
    "- Parameters: `min_samples_split`, `impurity_measure`\n",
    "- Inputs: `features`, `labels`, `depth`\n",
    "- Base case of the recursion, return a leaf node if either:\n",
    "    - `depth` is 0\n",
    "    - `labels` contains less than `min_samples_split` elements\n",
    "    - There is no impurity reduction (reduction<=0 for all splits)\n",
    "- Recursion (there is a split with impurity reduction > 0):\n",
    "    - create the left and right child nodes with `depth - 1`\n",
    "    - return the parent node\n",
    "\n",
    "The left child node will contain instances for which the feature with index `best_feature` is strictly lower than\n",
    "`best_threshold` of the partition. The right child takes the remaining instances.\n",
    "\n",
    "- 1.6 [6 pts] Complete `build` method of `DecisionTree`\n",
    "- 1.7 [2 pts] Complete the `score` method that returns the accuracy on the given data"
   ]
  },
  {
   "cell_type": "code",
   "execution_count": 12,
   "metadata": {
    "deletable": false,
    "nbgrader": {
     "cell_type": "code",
     "checksum": "8c8fb3a06f40ba8a05c09793bf9d957b",
     "grade": true,
     "grade_id": "a16_17",
     "locked": false,
     "points": 8,
     "schema_version": 3,
     "solution": true,
     "task": false
    },
    "pycharm": {
     "name": "#%%\n"
    }
   },
   "outputs": [],
   "source": [
    "class DecisionTree:\n",
    "\n",
    "    def __init__(self, max_depth=-1, min_samples_split=2, impurity_measure=gini):\n",
    "        \"\"\"\n",
    "        Initialize the decision tree\n",
    "        :param max_depth: maximum depth of the tree\n",
    "        :param min_samples_split: minimum number of samples required for a split\n",
    "        :param impurity_measure: impurity measure function to use for best_partition, default to entropy\n",
    "        \"\"\"\n",
    "        self.max_depth = max_depth\n",
    "        self.min_samples_split = min_samples_split\n",
    "        self.impurity_measure = impurity_measure\n",
    "        self.root = None\n",
    "        self.num_features = None\n",
    "\n",
    "    def build(self, X, y, depth) -> Node:\n",
    "        \"\"\"\n",
    "        Recursive method used to build the decision tree nodes\n",
    "        :param X: data that are used to build the tree, of shape (num_samples, num_features)\n",
    "        :param y: labels of the samples in features, of shape (num_samples)\n",
    "        :param depth: depth of the tree to create\n",
    "        :return: the root node of the tree\n",
    "        \"\"\"\n",
    "        # Workspace 1.6\n",
    "        #BEGIN\n",
    "        \n",
    "        # best partition\n",
    "        best_feature, best_threshold, best_reduction = best_partition(X, y, self.impurity_measure)\n",
    "        #print('depth: ', depth)\n",
    "        if depth == 0 or (len(y) < self.min_samples_split) or best_reduction <= 0:\n",
    "            return LeafNode(y)\n",
    "        else:\n",
    "            # indices for left child\n",
    "            left_indices = np.where(X[:,best_feature] < best_threshold)[0]\n",
    "\n",
    "            # remove left child instances and keep remaining instances in right child\n",
    "            right_indices = np.where(X[:, best_feature] > best_threshold)[0]\n",
    "\n",
    "            # get the values at the index\n",
    "            left_values  = X[left_indices, :]\n",
    "            right_values = X[right_indices, :]\n",
    "            \n",
    "            # y values corresponding to node\n",
    "            y_left = y[left_indices]\n",
    "            y_right = y[right_indices]\n",
    "\n",
    "            return ParentNode(best_feature, best_threshold, \n",
    "                                self.build(left_values, y_left, depth - 1), \n",
    "                                self.build(right_values, y_right, depth -1),\n",
    "                                weighted_impurity=0)\n",
    "        #END\n",
    "\n",
    "    def fit(self, X, y):\n",
    "        \"\"\"\n",
    "        :param X: Training samples\n",
    "        :param y: training labels\n",
    "        :return: trained classifier\n",
    "        \"\"\"\n",
    "        self.num_features = X.shape[1]\n",
    "        self.root = self.build(X, y, self.max_depth)\n",
    "        return self\n",
    "\n",
    "    def compute_importance(self, features_names=None):\n",
    "        \"\"\"\n",
    "        Compute the normalized feature importances\n",
    "        :param features_names: Name of features to use, defaults to integers\n",
    "        :return: Dictionary with feature_name: feature_importance\n",
    "        \"\"\"\n",
    "        if features_names is None:\n",
    "            features_names = [\"feat_%i\" % i for i in range(self.num_features)]\n",
    "        feats_importances = {i:0.0 for i in range(self.num_features)} # to include\n",
    "        # Workspace 2.5.b\n",
    "        # ToDo: Call the root's feature and importance and scale values in feats_importance to sum to 1\n",
    "        total_importances = 1\n",
    "        #BEGIN \n",
    "        # code here\n",
    "        #END\n",
    "        return {features_names[k] :v for k,v in feats_importances.items() if v>0}\n",
    "\n",
    "    def predict(self, X):\n",
    "        \"\"\"\n",
    "        Loops through rows of X and predicts the labels one row at a time\n",
    "        \"\"\"\n",
    "        y_hat = np.zeros((X.shape[0],), int)\n",
    "        for i in range(X.shape[0]):\n",
    "            y_hat[i] = self.root.predict(X[i])\n",
    "        return y_hat\n",
    "\n",
    "    def score(self, X, y):\n",
    "        \"\"\"\n",
    "        Return the mean accuracy on the given test data and labels.\n",
    "        :param X: Test samples, shape (num_points, num_features)\n",
    "        :param y: true labels for X, shape (num_points,)\n",
    "        :return: mean accuracy\n",
    "        \"\"\"\n",
    "        accuracy = 0\n",
    "        # Workspace 1.7\n",
    "        #BEGIN \n",
    "        y_hat = self.predict(X)\n",
    "        accuracy =  len(y[y_hat == y])/len(y)\n",
    "        #END\n",
    "        return accuracy"
   ]
  },
  {
   "cell_type": "code",
   "execution_count": 13,
   "metadata": {
    "pycharm": {
     "name": "#%%\n"
    },
    "scrolled": false
   },
   "outputs": [
    {
     "name": "stdout",
     "output_type": "stream",
     "text": [
      "Question 1.6: [PASS]\n"
     ]
    }
   ],
   "source": [
    "# Test cell, uncomment to run the tests\n",
    "# If you chose to not use split_values, then this test will likely fail\n",
    "tests.test_tree_build(DecisionTree, gini)"
   ]
  },
  {
   "cell_type": "markdown",
   "metadata": {
    "deletable": false,
    "editable": false,
    "nbgrader": {
     "cell_type": "markdown",
     "checksum": "bd5a3c587c8ec35f8f9c702f84d29933",
     "grade": false,
     "grade_id": "q18",
     "locked": true,
     "schema_version": 3,
     "solution": false,
     "task": false
    }
   },
   "source": [
    "- 1.8 [2 pts] We want to compare our `DecisionTree(max_depth=3, min_samples_split=2` to our NaiveBayes.\n",
    "What's the accuracy we achieve on the training data using the tree? ( we train and evaluate using `(features, labels)`)"
   ]
  },
  {
   "cell_type": "code",
   "execution_count": 14,
   "metadata": {
    "deletable": false,
    "nbgrader": {
     "cell_type": "code",
     "checksum": "4015467f2f89548d668cbd7393e9a4cf",
     "grade": true,
     "grade_id": "a18",
     "locked": false,
     "points": 2,
     "schema_version": 3,
     "solution": true,
     "task": false
    },
    "pycharm": {
     "name": "#%%\n"
    }
   },
   "outputs": [
    {
     "data": {
      "text/plain": [
       "0.9166666666666666"
      ]
     },
     "execution_count": 14,
     "metadata": {},
     "output_type": "execute_result"
    }
   ],
   "source": [
    "# Workspace 1.8\n",
    "#BEGIN \n",
    "dt = DecisionTree(max_depth=3, min_samples_split=2).fit(features, labels)\n",
    "dt.score(features,labels)\n",
    "#END"
   ]
  },
  {
   "cell_type": "markdown",
   "metadata": {
    "deletable": false,
    "editable": false,
    "nbgrader": {
     "cell_type": "markdown",
     "checksum": "38756b9794ee2734fba840eeca4da2ab",
     "grade": false,
     "grade_id": "q19",
     "locked": true,
     "schema_version": 3,
     "solution": false,
     "task": false
    },
    "pycharm": {
     "name": "#%% md\n"
    }
   },
   "source": [
    "- 1.9 [2 pts] Using `min_samples_split=2`, what is the minimum depth so that our `DecisionTree` fits perfectly our\n",
    "training data `(labels, features)`."
   ]
  },
  {
   "cell_type": "code",
   "execution_count": 15,
   "metadata": {
    "deletable": false,
    "nbgrader": {
     "cell_type": "code",
     "checksum": "a67bc7261215441b222be45948125d92",
     "grade": true,
     "grade_id": "a19",
     "locked": false,
     "points": 2,
     "schema_version": 3,
     "solution": true,
     "task": false
    },
    "pycharm": {
     "name": "#%%\n"
    },
    "scrolled": false
   },
   "outputs": [
    {
     "name": "stdout",
     "output_type": "stream",
     "text": [
      "1 :  0.75\n",
      "2 :  0.9166666666666666\n",
      "3 :  0.9166666666666666\n",
      "4 :  0.9166666666666666\n",
      "5 :  1.0\n"
     ]
    }
   ],
   "source": [
    "# Workspace 1.9\n",
    "# To show that the minimum required depth is n, you can provide the accuracy for depth = (n-1) and depth = n\n",
    "#BEGIN \n",
    "for n in range(1,6):\n",
    "    dt = DecisionTree(max_depth=n, min_samples_split=2).fit(features, labels)\n",
    "    print(n, ': ', dt.score(features,labels))\n",
    "#END"
   ]
  },
  {
   "cell_type": "markdown",
   "metadata": {},
   "source": [
    "The minimum depth to achieve a perfect score is $5$. "
   ]
  },
  {
   "cell_type": "markdown",
   "metadata": {
    "deletable": false,
    "editable": false,
    "nbgrader": {
     "cell_type": "markdown",
     "checksum": "5ac784f19dbd195c8c502ecf11891fd7",
     "grade": false,
     "grade_id": "q110",
     "locked": true,
     "schema_version": 3,
     "solution": false,
     "task": false
    },
    "pycharm": {
     "name": "#%% md\n"
    }
   },
   "source": [
    "We provide an example below to display the structure of a decision tree. Look at print_tree() in tests.\\_\\_init\\_\\_.py to understand how this visualization is working.\n",
    "- 1.10 (2pts) Edit it to show the tree for the required minimum depth found in 1.8"
   ]
  },
  {
   "cell_type": "code",
   "execution_count": 16,
   "metadata": {
    "deletable": false,
    "nbgrader": {
     "cell_type": "code",
     "checksum": "d30ddb7d50cc5b1bed552b1e0dd66de7",
     "grade": true,
     "grade_id": "a110",
     "locked": false,
     "points": 2,
     "schema_version": 3,
     "solution": true,
     "task": false
    },
    "pycharm": {
     "name": "#%%\n"
    }
   },
   "outputs": [
    {
     "name": "stdout",
     "output_type": "stream",
     "text": [
      "                  ┌│label: 0\n",
      "       ┌|salary  │┘\n",
      "       │|36500.00│┐\n",
      "       │          │       ┌│label: 1\n",
      "       │          └|age  │┘\n",
      "       │           |37.50│┐\n",
      "       │                  └│label: 1\n",
      "|age  │┘\n",
      "|52.50│┐\n",
      "       └│label: 0\n",
      "                  ┌│label: 0\n",
      "       ┌|salary  │┘\n",
      "       │|36500.00│┐\n",
      "       │          │       ┌│label: 1\n",
      "       │          └|age  │┘\n",
      "       │           |37.50│┐\n",
      "       │                  │                  ┌│label: 1\n",
      "       │                  │       ┌|salary  │┘\n",
      "       │                  │       │|43000.00│┐\n",
      "       │                  │       │          └│label: 0\n",
      "       │                  └|age  │┘\n",
      "       │                   |38.50│┐\n",
      "       │                          └│label: 1\n",
      "|age  │┘\n",
      "|52.50│┐\n",
      "       └│label: 0\n"
     ]
    }
   ],
   "source": [
    "#BEGIN \n",
    "# change here\n",
    "tree = DecisionTree(max_depth=3, min_samples_split=2).fit(features, labels)\n",
    "tests.print_tree(tree, [\"age\", \"salary\", \"resident\", \"siblings\"])\n",
    "#END#BEGIN \n",
    "tree = DecisionTree(max_depth=5, min_samples_split=2).fit(features, labels)\n",
    "tests.print_tree(tree, [\"age\", \"salary\", \"resident\", \"siblings\"])\n",
    "\n",
    "#END"
   ]
  },
  {
   "cell_type": "markdown",
   "metadata": {
    "deletable": false,
    "editable": false,
    "nbgrader": {
     "cell_type": "markdown",
     "checksum": "c314d39fc2cc0d572aefaea63e78c669",
     "grade": false,
     "grade_id": "q21",
     "locked": true,
     "schema_version": 3,
     "solution": false,
     "task": false
    },
    "pycharm": {
     "name": "#%% md\n"
    }
   },
   "source": [
    "### Problem 2: DecisionTree vs DecisionTreeClassifier [6 points]\n",
    "\n",
    "We've just showed that our decision tree is better than the naive NaiveBayes! Let see how it compares to scikit's\n",
    "DecisionTreeClassifier.\n",
    "\n",
    "First, we'll need a fancier dataset. We are going to predict the level of usage of a bike sharing system in Washington, DC using the decision trees.\n",
    "\n",
    "We start by loading preprocessed data that we'll use. Since the original Bike Sharing\n",
    " [dataset](https://archive.ics.uci.edu/ml/datasets/bike+sharing+dataset)\n",
    " is for regression, we have to transform `BikeSharing.y_train` and `BikeSharing.y_test` to discrete values reflecting the level of usage.\n",
    "We have included this dataset with the homework -- you can find it in the data directory.\n",
    "\n",
    "|Bike Rentals| Label|\n",
    "|:----------:|--:|\n",
    "| $ P < $2000|0|\n",
    "|2000$\\leq P < $ 4000| 1 |\n",
    "|4000$ \\leq P < $ 6000| 2 |\n",
    "|6000$ \\leq P $ | 3 |\n",
    "\n",
    "- 2.1 [3 pts] Start by transforming `y_train` and `y_test` of `bike_sharing` to discrete values using the provided ranges"
   ]
  },
  {
   "cell_type": "code",
   "execution_count": 17,
   "metadata": {
    "deletable": false,
    "nbgrader": {
     "cell_type": "code",
     "checksum": "17d7a5fce728e39b29c0cb3591cf8f7f",
     "grade": true,
     "grade_id": "a21",
     "locked": false,
     "points": 3,
     "schema_version": 3,
     "solution": true,
     "task": false
    },
    "pycharm": {
     "name": "#%%\n"
    }
   },
   "outputs": [
    {
     "name": "stdout",
     "output_type": "stream",
     "text": [
      "[0. 1. 2. 3.] (584, 12)\n",
      "[0. 1. 2. 3.] (147, 12)\n"
     ]
    }
   ],
   "source": [
    "np.set_printoptions(suppress=True)\n",
    "bike_sharing = data.BikeSharing()\n",
    "#Workspace 2.1\n",
    "#TODO: Discretize y_train and y_test\n",
    "#BEGIN\n",
    "# training set\n",
    "bike_sharing.y_train[bike_sharing.y_train < 2000] = 0\n",
    "bike_sharing.y_train[(2000 <= bike_sharing.y_train) & ( bike_sharing.y_train < 4000)] = 1\n",
    "bike_sharing.y_train[(4000 <= bike_sharing.y_train) & (bike_sharing.y_train < 6000)] = 2\n",
    "bike_sharing.y_train[6000 <= bike_sharing.y_train] = 3\n",
    "# testing set\n",
    "bike_sharing.y_test[bike_sharing.y_test < 2000] = 0\n",
    "bike_sharing.y_test[(2000 <= bike_sharing.y_test) & (bike_sharing.y_test < 4000)] = 1\n",
    "bike_sharing.y_test[(4000 <= bike_sharing.y_test) & (bike_sharing.y_test < 6000)] = 2\n",
    "bike_sharing.y_test[6000 <= bike_sharing.y_test] = 3\n",
    "\n",
    "#END\n",
    "\n",
    "print(np.unique(bike_sharing.y_train), bike_sharing.X_train.shape)\n",
    "print(np.unique(bike_sharing.y_test), bike_sharing.X_test.shape)"
   ]
  },
  {
   "cell_type": "markdown",
   "metadata": {
    "deletable": false,
    "editable": false,
    "nbgrader": {
     "cell_type": "markdown",
     "checksum": "648343ab4012a08c34fd86a7eeadaf2b",
     "grade": false,
     "grade_id": "q22",
     "locked": true,
     "schema_version": 3,
     "solution": false,
     "task": false
    },
    "pycharm": {
     "name": "#%% md\n"
    }
   },
   "source": [
    "- 2.2 [3 pts] Compare our `DecisionTree` and scikit's `DecisionTreeClassifier` on the bike sharing dataset by reporting the accuracies on the test data.\n",
    "\n",
    " [scikit's `DecisionTreeClassifier`](https://scikit-learn.org/stable/modules/generated/sklearn.tree.DecisionTreeClassifier.html)\n",
    "uses Gini Index by default and shuffles the features before each split. Refer to the documentation for more information about how to change the impurity measure if you are curious.\n",
    "\n",
    "Use `max_depth = 5, min_samples_split=2, random_state=11` for the comparison."
   ]
  },
  {
   "cell_type": "code",
   "execution_count": 18,
   "metadata": {
    "deletable": false,
    "nbgrader": {
     "cell_type": "code",
     "checksum": "9c8023ee992a7a22b7c1c8a0a6c5d6e5",
     "grade": true,
     "grade_id": "a22a",
     "locked": false,
     "points": 3,
     "schema_version": 3,
     "solution": true,
     "task": false
    },
    "pycharm": {
     "name": "#%%\n"
    }
   },
   "outputs": [
    {
     "name": "stdout",
     "output_type": "stream",
     "text": [
      "My Decision Tree Accucacy:  0.7074829931972789\n",
      "Sklearn Accuracy:  0.7074829931972789\n"
     ]
    }
   ],
   "source": [
    "# Workspace 2.2.a\n",
    "#BEGIN \n",
    "X_bike = bike_sharing.X_train\n",
    "y_bike = bike_sharing.y_train\n",
    "x_test = bike_sharing.X_test\n",
    "y_test  = bike_sharing.y_test\n",
    "my_DT = DecisionTree(max_depth=5, min_samples_split=2).fit(X_bike, y_bike)\n",
    "print(\"My Decision Tree Accucacy: \", my_DT.score(x_test, y_test))\n",
    "\n",
    "sklearn_DT = DecisionTreeClassifier(max_depth=5, min_samples_split = 2, random_state = 11).fit(X_bike, y_bike)\n",
    "print('Sklearn Accuracy: ', sklearn_DT.score(x_test, y_test))\n",
    "\n",
    "#END"
   ]
  },
  {
   "cell_type": "markdown",
   "metadata": {
    "deletable": false,
    "nbgrader": {
     "cell_type": "markdown",
     "checksum": "93d9f093912aeaef77d0e03e3f5c0d83",
     "grade": true,
     "grade_id": "a22b",
     "locked": false,
     "points": 0,
     "schema_version": 3,
     "solution": true,
     "task": false
    },
    "pycharm": {
     "name": "#%% md\n"
    }
   },
   "source": [
    "%BEGIN\n",
    "\n",
    "The reported accuracy for both classifiers are the same. My Decision Tree does as well as scikit learns decision tree. \n",
    "\n",
    "%END"
   ]
  },
  {
   "cell_type": "markdown",
   "metadata": {
    "deletable": false,
    "editable": false,
    "nbgrader": {
     "cell_type": "markdown",
     "checksum": "6834fe9c195045f4b03a06cb2c4b78c1",
     "grade": false,
     "grade_id": "q23",
     "locked": true,
     "schema_version": 3,
     "solution": false,
     "task": false
    },
    "pycharm": {
     "name": "#%% md\n"
    }
   },
   "source": [
    "### Bonus questions\n",
    "We've implemented `DecisionTree` to handle different measures of impurity. We want now to compare our implementation\n",
    "to the standard `DecisionTreeClassifier` using Gini index.\n",
    "- **(Bonus)** 2.3  [2 pts] Complete `entropy` function\n",
    "_hint: for the log function, use `np.log` and the convention `0 * log(0) = 0`._"
   ]
  },
  {
   "cell_type": "code",
   "execution_count": 19,
   "metadata": {
    "deletable": false,
    "nbgrader": {
     "cell_type": "code",
     "checksum": "ecfb6ce406d6bf8be72a260413be5bc1",
     "grade": true,
     "grade_id": "a23",
     "locked": false,
     "points": 0,
     "schema_version": 3,
     "solution": true,
     "task": false
    },
    "pycharm": {
     "name": "#%%\n"
    }
   },
   "outputs": [],
   "source": [
    "def entropy(y):\n",
    "    \"\"\"\n",
    "    :param y: 1-d array contains labels, of shape (num_points,)\n",
    "    :return: float, gini index the labels\n",
    "    \"\"\"\n",
    "    entropy_value = 0\n",
    "    # Workspace 2.3\n",
    "    #TODO: Compute the gini index of the labels in y\n",
    "    #BEGIN \n",
    "    values, occ = np.unique(y ,return_counts=True)\n",
    "    _, index = np.unique(values, return_index=True)\n",
    "    pc = (occ[index]/len(y))\n",
    "    log_pc = np.log(pc) \n",
    "    entropy_value = -sum(pc * log_pc)\n",
    "    #END\n",
    "    return entropy_value"
   ]
  },
  {
   "cell_type": "markdown",
   "metadata": {
    "deletable": false,
    "editable": false,
    "nbgrader": {
     "cell_type": "markdown",
     "checksum": "29019ac7127cbcc8a348aa710f88bb7b",
     "grade": false,
     "grade_id": "q24",
     "locked": true,
     "schema_version": 3,
     "solution": false,
     "task": false
    },
    "pycharm": {
     "name": "#%% md\n"
    }
   },
   "source": [
    "- **(Bonus)** 2.4 [2 pts] Perform the same comparison as in 2.2 with entropy but without setting the random state.\n",
    "How do you explain the result?"
   ]
  },
  {
   "cell_type": "code",
   "execution_count": 20,
   "metadata": {
    "deletable": false,
    "nbgrader": {
     "cell_type": "code",
     "checksum": "5d9411484d9bac971d2b86f534f236f9",
     "grade": true,
     "grade_id": "a24a",
     "locked": false,
     "points": 0,
     "schema_version": 3,
     "solution": true,
     "task": false
    },
    "pycharm": {
     "name": "#%%\n"
    }
   },
   "outputs": [
    {
     "name": "stdout",
     "output_type": "stream",
     "text": [
      "My Decision Tree Accucacy (Impurity Measure: Entropy):  0.7142857142857143\n",
      "Sklearn Accuracy (Impurity Measure: Entropy):  0.7074829931972789\n"
     ]
    }
   ],
   "source": [
    "np.random.seed(2) # to fix the randomness in DecisionTreeClassifier\n",
    "# Workspace 2.4.a\n",
    "#BEGIN \n",
    "my_DT = DecisionTree(max_depth=5, min_samples_split=2, impurity_measure=entropy).fit(X_bike, y_bike)\n",
    "print(\"My Decision Tree Accucacy (Impurity Measure: Entropy): \", my_DT.score(x_test, y_test))\n",
    "\n",
    "sklearn_DT = DecisionTreeClassifier(max_depth=5, min_samples_split = 2, criterion='entropy').fit(X_bike, y_bike)\n",
    "print('Sklearn Accuracy (Impurity Measure: Entropy): ', sklearn_DT.score(x_test, y_test))\n",
    "#END"
   ]
  },
  {
   "cell_type": "markdown",
   "metadata": {
    "deletable": false,
    "nbgrader": {
     "cell_type": "markdown",
     "checksum": "4c6bd07d28bca6cede8aea31ecf1872d",
     "grade": true,
     "grade_id": "a24b",
     "locked": false,
     "points": 0,
     "schema_version": 3,
     "solution": true,
     "task": false
    },
    "pycharm": {
     "name": "#%% md\n"
    }
   },
   "source": [
    "##### Write-up for 2.4.b\n",
    "%BEGIN\n",
    "\n",
    "My `DecisionTree` classifier performs better than `scikit learns` decision tree classifier. According to `scikit learns` website, entropy is calculated with consideration of 'the class frequencies of the training data points that reached a given leaf  $m$ as their probability.' If I understand correctly, we calculate the given `y` corresponding to each lead. \n",
    "\n",
    "%END"
   ]
  },
  {
   "cell_type": "markdown",
   "metadata": {
    "deletable": false,
    "editable": false,
    "nbgrader": {
     "cell_type": "markdown",
     "checksum": "1d042609e13d7e090dbfbc1a3afdea36",
     "grade": false,
     "grade_id": "q25",
     "locked": true,
     "schema_version": 3,
     "solution": false,
     "task": false
    }
   },
   "source": [
    "**(Bonus)**\n",
    "\n",
    "Now we can be a bit more ambitious and compute the importance of each feature in our decision tree. The importance of feature $f$\n",
    "is the sum of the weighted impurity reduction of parent nodes that are split based on the feature $f$.\n",
    "\n",
    "The weighted impurity reduction of $node_i$ is the following:\n",
    "\n",
    "\\begin{align}\n",
    "\\frac{N_{\\text{node}_i}}{N_\\text{total}} \\times \\text{impurity reduction}({\\text{node}_i}),\n",
    "\\end{align}\n",
    "\n",
    "where $N$ is the total number of training samples, and $N_{\\text{node}_i}$ is the number of training samples that at $node_i$.\n",
    "\n",
    "Since we scale the feature importances in `DecisionTree` to sum to 1, we don't have to divide by $N_\\text{total}$\n",
    "and we can simply use:\n",
    "\n",
    "\\begin{align}\n",
    "\\text{weighted impurity}(\\text{node}_i) = N_{\\text{node}_i} \\times \\text{impurity reduction}({\\text{node}_i}),\n",
    "\\end{align}\n",
    "\n",
    "Practically, we use a dictionary `feats_importances` that maps feature indices to their importances.\n",
    "- Start with `feats_importance[f]=0` for all `f`\n",
    "- Start the recursion from the root node:\n",
    "    - Current node is split based on feature `i`\n",
    "    - add weighted impurity reduction to `feature_importance[i]`\n",
    "    - ask right and left child to do the same\n",
    "- Scale the values in `feats_importance` to sum to 1   \n",
    "- return `feats_importance`\n",
    "\n",
    "You can provide `weighted_impurity` directly when initializing the parent nodes in `DecisionTree.build`.\n",
    "\n",
    "- **(Bonus)** 2.5 [4 pts] Complete `ParentNode`'s `feature_importance`, `DecisionTree`'s `compute_importance`, and \n",
    "compare our implementation to that of scikits on bike sharing data.\n",
    "\n",
    "Use `random_state=0, splitter=\"best\"` for scikit and `max_depth=3`, `min_samples_split=2`, gini index for both.\n",
    "Note that scikit's DecisonTreeClassifier always uses Gini for the feature importance computation (even if `criterion` is set to Entropy)."
   ]
  },
  {
   "cell_type": "code",
   "execution_count": 21,
   "metadata": {
    "deletable": false,
    "nbgrader": {
     "cell_type": "code",
     "checksum": "e16b9cafda3c1f57441eed63955da1ea",
     "grade": true,
     "grade_id": "a25c",
     "locked": false,
     "points": 0,
     "schema_version": 3,
     "solution": true,
     "task": false
    },
    "pycharm": {
     "name": "#%%\n"
    }
   },
   "outputs": [],
   "source": [
    "# Workspace 2.5\n",
    "# Compare feature importances of DecisionTree(gini) to DecisionTreeClassifier\n",
    "# Exclude features with 0 importance from both\n",
    "#BEGIN \n",
    "# code here\n",
    "#END"
   ]
  },
  {
   "cell_type": "markdown",
   "metadata": {
    "deletable": false,
    "editable": false,
    "nbgrader": {
     "cell_type": "markdown",
     "checksum": "eea9daf8bcc8578d8dd9a2590bf4b4f0",
     "grade": false,
     "grade_id": "q31",
     "locked": true,
     "schema_version": 3,
     "solution": false,
     "task": false
    },
    "pycharm": {
     "name": "#%% md\n"
    }
   },
   "source": [
    "### Problem 3 - Model Selection via Cross Validation [16 points]\n",
    "***\n",
    "In this problem, we will be working with scikit-learn `DecisionTreeClassifier`. We want to figure out the best `max_depth`\n",
    " for our dataset.\n",
    "\n",
    "In the bike sharing dataset, we only have a training set and a test set. The question then is how do we perform the model\n",
    " selection seen in Problem Set 1?\n",
    "\n",
    "One way to do so is via **the cross validation set approach** which basically means setting aside a portion of\n",
    "our training data to use as a validation set. The goal is to use the validation set to find the best hyperparameters\n",
    "for our model (`max_depth` in the case of decision trees).\n",
    "\n",
    "- 3.1 [3 points] complete the `cross_validate` function to train the classifier on the training set and\n",
    "return the accuracy on the validation set based on provided indices."
   ]
  },
  {
   "cell_type": "code",
   "execution_count": 22,
   "metadata": {
    "deletable": false,
    "nbgrader": {
     "cell_type": "code",
     "checksum": "fb9b6096d9f2ecbcd8d9c331ea8467ee",
     "grade": true,
     "grade_id": "a31",
     "locked": false,
     "points": 3,
     "schema_version": 3,
     "solution": true,
     "task": false
    },
    "pycharm": {
     "name": "#%%\n"
    }
   },
   "outputs": [],
   "source": [
    "def cross_validate(classifier, X, y, train_indices, valid_indices):\n",
    "    \"\"\"\n",
    "    Train classifier on training set and validate on the validation set\n",
    "    :param classifier: the classifier to use\n",
    "    :param X: all data of shape (num_samples, num_features)\n",
    "    :param y: all labels of shape (num_samples)\n",
    "    :param train_indices:  indices to be used for training the model\n",
    "    :param valid_indices:  indices to be used for validating the model\n",
    "    :return: he accuracy of the classifier on the validation set\n",
    "    \"\"\"\n",
    "    valid_accuracy = 0\n",
    "    #Workspace 3.1\n",
    "    #TODO: train and validate the model based on provided indices\n",
    "    #Hint: use score method of the classifier\n",
    "    #BEGIN \n",
    "    \n",
    "    x_train = X[ :train_indices, :  ]\n",
    "    y_train = y[:train_indices]\n",
    "    x_valid = X[-valid_indices :, :]\n",
    "    y_valid = y[-valid_indices:]\n",
    "    model = classifier.fit(x_train, y_train)\n",
    "    valid_accuracy = model.score(x_valid, y_valid)\n",
    "    #END\n",
    "    \n",
    "    return valid_accuracy"
   ]
  },
  {
   "cell_type": "markdown",
   "metadata": {
    "deletable": false,
    "editable": false,
    "nbgrader": {
     "cell_type": "markdown",
     "checksum": "cea5adf3217a3118305ca599da8ad723",
     "grade": false,
     "grade_id": "q32",
     "locked": true,
     "schema_version": 3,
     "solution": false,
     "task": false
    }
   },
   "source": [
    "- 3.2 [2 points] Report the validation accuracy using the validation set approach for scikit-learn `DecisionTreeClassifier` with `max_depth=3`\n",
    " when using the last 100 training points as a validation set and the rest as training set."
   ]
  },
  {
   "cell_type": "code",
   "execution_count": 23,
   "metadata": {
    "deletable": false,
    "nbgrader": {
     "cell_type": "code",
     "checksum": "736c9be3f2b43025375649f8426c5eb6",
     "grade": true,
     "grade_id": "a32",
     "locked": false,
     "points": 2,
     "schema_version": 3,
     "solution": true,
     "task": false
    },
    "pycharm": {
     "name": "#%%\n"
    }
   },
   "outputs": [
    {
     "data": {
      "text/plain": [
       "0.76"
      ]
     },
     "execution_count": 23,
     "metadata": {},
     "output_type": "execute_result"
    }
   ],
   "source": [
    "#Workspace 3.2\n",
    "#TODO: Report the cross validation accuracy using the last 100 training points as validation set\n",
    "#and the rest of the training points as training\n",
    "#BEGIN \n",
    "cross_validate(DecisionTreeClassifier(max_depth=3, min_samples_split=2, random_state = 11), \n",
    "               X_bike, y_bike, train_indices=484, valid_indices=100)\n",
    "#END"
   ]
  },
  {
   "cell_type": "markdown",
   "metadata": {
    "deletable": false,
    "editable": false,
    "nbgrader": {
     "cell_type": "markdown",
     "checksum": "d439516863ed619dc20b0f36f39aca16",
     "grade": false,
     "grade_id": "q33",
     "locked": true,
     "schema_version": 3,
     "solution": false,
     "task": false
    },
    "pycharm": {
     "name": "#%% md\n"
    }
   },
   "source": [
    "The issue with the validation set approach is that we're reducing the size of our training data,\n",
    " and the lower number of samples implies higher uncertainty.\n",
    "\n",
    "A work-around is to use *k-fold cross validation*.\n",
    "We start by partitioning the training data into k different and equally size partitions.\n",
    "Then for each of the k runs, we keep a different chunk for the validation while using the remaining k-1 for training.\n",
    "We note the validation accuracy during each of the k runs.\n",
    "\n",
    "After each of the k-folds has been used as a validation set, the average of the k recorded accuracies becomes the performance of our model.\n",
    "The k-fold cross validation method gives us a better estimate on how well the model would perform on new unseen data\n",
    " (test set) while allowing it to train on a larger portion of the dataset.\n",
    "- 3.3 [5 points] Complete `k_fold_cv`. Use the helper function `generate_folds` that generates the partition of indices to k different chunks."
   ]
  },
  {
   "cell_type": "code",
   "execution_count": 24,
   "metadata": {
    "deletable": false,
    "nbgrader": {
     "cell_type": "code",
     "checksum": "7788cecdea75335dade85bbc3b12cfbd",
     "grade": true,
     "grade_id": "a33",
     "locked": false,
     "points": 5,
     "schema_version": 3,
     "solution": true,
     "task": false
    },
    "pycharm": {
     "name": "#%%\n"
    },
    "scrolled": false
   },
   "outputs": [],
   "source": [
    "def generate_folds(size, k):\n",
    "    \"\"\"\n",
    "    Shuffles and partition range(size) to to k contiguous chunks then generates the train/valid indices for the k-fold\n",
    "    To use as a generator, for an example run:\n",
    "        for train_idx, valid_idx in generate_folds(10,3): print(train_idx, valid_idx)\n",
    "    :param size: size of the range that should be split\n",
    "    :param k: number of folds\n",
    "    :return: iterable of different k splits, each is a tuple (train_indices, valid_indices)\n",
    "             where len(valid_indices)~ size/k\n",
    "    \"\"\"\n",
    "    permutation = np.random.RandomState(seed=42).permutation(size)\n",
    "    split_sizes = [size//k + (i < (size % k)) for i in range(k)] # we split the remainder amongst the first folds\n",
    "    start = 0\n",
    "    for i in range(k):\n",
    "        # valid indices of i-th split for which start <= σ < start + size_split[i]\n",
    "        # for_valid is True in position where condition is true, False otherwise\n",
    "        for_valid = np.logical_and(start<= permutation, permutation< start + split_sizes[i])\n",
    "        start += split_sizes[i] # update the start of the fold\n",
    "        valid_indices = np.where(for_valid)[0]\n",
    "        # train indices of i-th split for which σ <start or  start + size_split[i] <= σ\n",
    "        # ~bool_array is negation of bool_array\n",
    "        train_indices = np.where(~for_valid)[0]\n",
    "        yield train_indices, valid_indices\n",
    "\n",
    "def k_fold_cv(classifier, k, X, y):\n",
    "    \"\"\"\n",
    "    This function performs k-fold cross validation\n",
    "    :param classifier: a classifier to be used\n",
    "    :param k: number of folds\n",
    "    :param X: all training data of shape (num_samples, num_features)\n",
    "    :param y: all labels of shape (num_samples)\n",
    "    :return: the average accuracy of the classifier in k-runs\n",
    "    \"\"\"\n",
    "    mean_accuracy = 0\n",
    "    #Workspace 3.3\n",
    "    #BEGIN\n",
    "    k_accuracies = []\n",
    "\n",
    "    for train_idx, valid_idx in generate_folds(X.shape[0], k):\n",
    "        k_minus_one_folds = train_idx \n",
    "        curr_kvalid_fold = valid_idx\n",
    "        \n",
    "        x_k_train = X[k_minus_one_folds]\n",
    "        y_k_train = y[k_minus_one_folds]\n",
    "        \n",
    "        x_k_valid = X[curr_kvalid_fold]\n",
    "        y_k_valid = y[curr_kvalid_fold]\n",
    "        \n",
    "        model = classifier.fit(x_k_train, y_k_train)\n",
    "        k_accuracies.append(model.score(x_k_valid, y_k_valid))  \n",
    "    mean_accuracy = np.mean(k_accuracies)\n",
    "    #END\n",
    "    return mean_accuracy"
   ]
  },
  {
   "cell_type": "markdown",
   "metadata": {
    "deletable": false,
    "editable": false,
    "nbgrader": {
     "cell_type": "markdown",
     "checksum": "c36dcc37598efc8e68ce38bf36f93a9f",
     "grade": false,
     "grade_id": "q34",
     "locked": true,
     "schema_version": 3,
     "solution": false,
     "task": false
    }
   },
   "source": [
    "- 3.4 [4 points] Consider depths from 1 to 10. Perform hyperparameter search by doing 8-fold cross validation for each depth. What is the best value of `max_depth` and what is the best cross validation accuracy you find over the validation splits?"
   ]
  },
  {
   "cell_type": "code",
   "execution_count": 25,
   "metadata": {
    "deletable": false,
    "nbgrader": {
     "cell_type": "code",
     "checksum": "aa2f1e4417169b3f8ce01f1ddd577f00",
     "grade": true,
     "grade_id": "a34",
     "locked": false,
     "points": 4,
     "schema_version": 3,
     "solution": true,
     "task": false
    },
    "pycharm": {
     "name": "#%%\n"
    }
   },
   "outputs": [
    {
     "name": "stdout",
     "output_type": "stream",
     "text": [
      "Cross validation accuracy for chosen best max_depth 3: 0.760274\n"
     ]
    }
   ],
   "source": [
    "np.random.seed(4)  # changing the seed might yield different results\n",
    "best_depth, best_accuracy = -1, 0\n",
    "\n",
    "#Workspace 3.4\n",
    "#TODO: \n",
    "#BEGIN \n",
    "for depth in range(1, 11):\n",
    "    ate_k_folds_acc = k_fold_cv(DecisionTreeClassifier(max_depth=depth, min_samples_split=2), 8, X_bike, y_bike)\n",
    "    if ate_k_folds_acc >=  best_accuracy:\n",
    "        best_accuracy = ate_k_folds_acc\n",
    "        best_depth = depth\n",
    "\n",
    "#END\n",
    "print(\"Cross validation accuracy for chosen best max_depth %d: %f\" % (best_depth, best_accuracy))"
   ]
  },
  {
   "cell_type": "markdown",
   "metadata": {
    "deletable": false,
    "editable": false,
    "nbgrader": {
     "cell_type": "markdown",
     "checksum": "a7b3f1f8db4e540dc42cf99c7e9f0c59",
     "grade": false,
     "grade_id": "q35",
     "locked": true,
     "schema_version": 3,
     "solution": false,
     "task": false
    },
    "pycharm": {
     "name": "#%% md\n"
    }
   },
   "source": [
    "- 3.5 [2 pts] Train a new model on the entire training set with the best `max_depth` you found above. Report the accuracy of the new model."
   ]
  },
  {
   "cell_type": "code",
   "execution_count": 26,
   "metadata": {
    "deletable": false,
    "nbgrader": {
     "cell_type": "code",
     "checksum": "80f577dd7355453cd0e1e2adae377d07",
     "grade": true,
     "grade_id": "a35",
     "locked": false,
     "points": 2,
     "schema_version": 3,
     "solution": true,
     "task": false
    },
    "pycharm": {
     "name": "#%%\n"
    }
   },
   "outputs": [
    {
     "name": "stdout",
     "output_type": "stream",
     "text": [
      "accuracy of the best model on the testing set 0.6802721088435374\n"
     ]
    }
   ],
   "source": [
    "test_accuracy = 0\n",
    "#Workspace 3.5\n",
    "#BEGIN \n",
    "dt_model = DecisionTreeClassifier(max_depth=best_depth, min_samples_split=2).fit(X_bike, y_bike)\n",
    "test_accuracy = dt_model.score(x_test, y_test)\n",
    "#END\n",
    "print (\"accuracy of the best model on the testing set\", test_accuracy)\n"
   ]
  },
  {
   "cell_type": "markdown",
   "metadata": {
    "deletable": false,
    "editable": false,
    "nbgrader": {
     "cell_type": "markdown",
     "checksum": "e761e0f37dc0f895c09d10c19bdb0b91",
     "grade": false,
     "grade_id": "p4_intro",
     "locked": true,
     "schema_version": 3,
     "solution": false,
     "task": false
    }
   },
   "source": [
    "Problem 4  - Decision Tree Ensembles: Bagging and Boosting [48 points]\n",
    "---\n",
    "We've seen that a DecisionTreeClassifier with depth = 3 is far from being the best performing on our bike sharing data.\n",
    "\n",
    "In this problem, we will introduce 3 ensemble methods to _boost_ the performance of this poor and underestimated weak learner.\n",
    "\n",
    "Whenever we need to generate a new instance of our weak learner, we'll have to call `get_weak_leaner`.\n",
    "You can see below that the weak learner achieves lower accuracy compared to the tree from the previous problem."
   ]
  },
  {
   "cell_type": "code",
   "execution_count": 27,
   "metadata": {
    "deletable": false,
    "editable": false,
    "nbgrader": {
     "cell_type": "code",
     "checksum": "33ca93589b8aa21fed36aff8be61a28d",
     "grade": false,
     "grade_id": "weak_learner",
     "locked": true,
     "schema_version": 3,
     "solution": false,
     "task": false
    },
    "pycharm": {
     "name": "#%%\n"
    }
   },
   "outputs": [],
   "source": [
    "def get_weak_learner():\n",
    "    \"\"\"Return a new instance of out chosen weak learner\"\"\"\n",
    "    return DecisionTreeClassifier(max_depth=3, min_samples_leaf=0.1)"
   ]
  },
  {
   "cell_type": "code",
   "execution_count": 28,
   "metadata": {
    "pycharm": {
     "name": "#%%\n"
    }
   },
   "outputs": [
    {
     "name": "stdout",
     "output_type": "stream",
     "text": [
      "Accuracy on the training set: 0.7722602739726028\n",
      "Accuracy on the test set:     0.6258503401360545\n"
     ]
    }
   ],
   "source": [
    "weak_clf = get_weak_learner().fit(bike_sharing.X_train, bike_sharing.y_train)\n",
    "print(\"Accuracy on the training set:\", weak_clf.score(bike_sharing.X_train,bike_sharing.y_train))\n",
    "print(\"Accuracy on the test set:    \", weak_clf.score(bike_sharing.X_test,bike_sharing.y_test))"
   ]
  },
  {
   "cell_type": "markdown",
   "metadata": {
    "deletable": false,
    "editable": false,
    "nbgrader": {
     "cell_type": "markdown",
     "checksum": "8bbf580a464d72c0c240e27d4a3a804c",
     "grade": false,
     "grade_id": "q41_42",
     "locked": true,
     "schema_version": 3,
     "solution": false,
     "task": false
    },
    "pycharm": {
     "name": "#%% md\n"
    }
   },
   "source": [
    "Start by completing the `EnsembleTest` class that we'll use to evaluate different ensemble methods.\n",
    "\n",
    "- 4.1 [5 points] Complete `evaluate_model` to fit the model received as parameter and store the metrics and running time.\n",
    "- 4.2 [4 points] Complete `plot_metric` to show and compare different statistics of each model in a bar chart.\n",
    "\n",
    "You can use [matplotlib](https://matplotlib.org/stable/api/_as_gen/matplotlib.pyplot.bar.html) for 4.2. For matplotlib,\n",
    "You'll need to use the first two arguments and `tick_label` to provide the bars labels. Feel free to use seaborn or any other\n",
    "mainstream packages. You can go back to Problem Set 1 and see how we displayed the scatter plots of binary data in the same figure.\n",
    "\n",
    "We have also imported `precision_score` from scikit-learn for you to use in this problem. Make sure to use the `weighted` argument for taking the average when using this. More information is available [here](https://scikit-learn.org/stable/modules/generated/sklearn.metrics.precision_score.html).\n"
   ]
  },
  {
   "cell_type": "code",
   "execution_count": 29,
   "metadata": {
    "deletable": false,
    "nbgrader": {
     "cell_type": "code",
     "checksum": "878f15397ed59ab46f37036ae7a696a7",
     "grade": true,
     "grade_id": "a41_42",
     "locked": false,
     "points": 9,
     "schema_version": 3,
     "solution": true,
     "task": false
    },
    "pycharm": {
     "name": "#%%\n"
    }
   },
   "outputs": [],
   "source": [
    "from time import time\n",
    "from sklearn.metrics import precision_score\n",
    "import pandas as pd\n",
    "\n",
    "class EnsembleTest:\n",
    "    \"\"\"\n",
    "        Test multiple model performance\n",
    "    \"\"\"\n",
    "\n",
    "    def __init__(self, dataset):\n",
    "        \"\"\"\n",
    "        initialize EnsembleTest\n",
    "        :param data: dataset containing Training and Test sets\n",
    "        \"\"\"\n",
    "        self.dataset = dataset\n",
    "        self.execution_time = {} # dictionary with key: model name, value: time taken to fit and score the model\n",
    "        self.metric = {} # dictionary with key: model name, value: accuracy\n",
    "        self.scores = {}# dictionary with key: model name, value: weighted average precision\n",
    "        self.score_name = 'Precision(weighted)'\n",
    "        self.metric_name = 'Mean accuracy'\n",
    "\n",
    "    def evaluate_model(self, model, name):\n",
    "        \"\"\"\n",
    "        Fit the model using the training data and save the evaluations metrics on the test set\n",
    "        :param model: classifier to evaluate\n",
    "        :param name: name of model\n",
    "        \"\"\"\n",
    "        start = time()\n",
    "        #Workspace 4.1\n",
    "        #TODO: Fit the model and get the predictions to compute the metric and the score\n",
    "        #BEGIN \n",
    "        fit_model = model.fit(self.dataset.X_train, self.dataset.y_train)\n",
    "        y_pred = fit_model.predict(self.dataset.X_test)\n",
    "        accuracy = len(self.dataset.y_test[y_pred == self.dataset.y_test])/len(self.dataset.y_test)\n",
    "        precision = precision_score(self.dataset.y_test, y_pred, average='weighted')\n",
    "        \n",
    "        self.metric[name] = accuracy\n",
    "        self.scores[name] = precision\n",
    "        #END\n",
    "        self.execution_time[name] = time() - start\n",
    "\n",
    "    def print_result(self):\n",
    "        \"\"\"\n",
    "            print results for all models trained and tested.\n",
    "        \"\"\"\n",
    "        models_cross = pd.DataFrame({\n",
    "            'Model': list(self.metric.keys()),\n",
    "            self.score_name: list(self.scores.values()),\n",
    "            self.metric_name: list(self.metric.values()),\n",
    "            'Execution time': list(self.execution_time.values())})\n",
    "        print(models_cross.sort_values(by=self.score_name, ascending=False))\n",
    "\n",
    "    def plot_metrics(self):\n",
    "        \"\"\"\n",
    "        Plot bar chart, one for each statistic (metric, score, running time)\n",
    "        \"\"\"\n",
    "        #Workspace 4.2\n",
    "        #TODO: plot each metric : time, metric, score\n",
    "        fig, axs = plt.subplots(1, 3)\n",
    "        fig.set_figheight(6), fig.set_figwidth(18)\n",
    "        #BEGIN \n",
    "        name = list(self.metric.keys())\n",
    "        metric = list(self.metric.values())\n",
    "        scores = list(self.scores.values())\n",
    "        time = list(self.execution_time.values())\n",
    "        axs[0].bar(name, metric)\n",
    "        axs[0].set_ylabel(\"Accuracy\")\n",
    "        axs[0].set_title('Metric')\n",
    "        axs[1].bar(name, scores)\n",
    "        axs[1].set_ylabel(\"Precision\")\n",
    "        axs[1].set_title('Scores')\n",
    "        axs[2].bar(name, time)\n",
    "        axs[2].set_ylabel(\"Time\")\n",
    "        axs[2].set_title('Execution Time')\n",
    "        #END\n",
    "        plt.show()"
   ]
  },
  {
   "cell_type": "markdown",
   "metadata": {
    "deletable": false,
    "editable": false,
    "nbgrader": {
     "cell_type": "markdown",
     "checksum": "95aefae4f2d3e697a3fda9a8139ffae0",
     "grade": false,
     "grade_id": "q43",
     "locked": true,
     "schema_version": 3,
     "solution": false,
     "task": false
    },
    "pycharm": {
     "name": "#%% md\n"
    }
   },
   "source": [
    "- 4.3 [2 points] Test `EnsembleTest` using our weak learner returned by `get_weak_learner`"
   ]
  },
  {
   "cell_type": "code",
   "execution_count": 106,
   "metadata": {
    "deletable": false,
    "nbgrader": {
     "cell_type": "code",
     "checksum": "6c4f8112df8cb829430db7165d988c00",
     "grade": true,
     "grade_id": "a43",
     "locked": false,
     "points": 2,
     "schema_version": 3,
     "solution": true,
     "task": false
    },
    "pycharm": {
     "name": "#%%\n"
    }
   },
   "outputs": [
    {
     "data": {
      "image/png": "[encoded data removed]",
      "text/plain": [
       "<Figure size 1800x600 with 3 Axes>"
      ]
     },
     "metadata": {},
     "output_type": "display_data"
    },
    {
     "name": "stdout",
     "output_type": "stream",
     "text": [
      "    Model  Precision(weighted)  Mean accuracy  Execution time\n",
      "1  Scikit             0.685739       0.680272        0.003513\n",
      "0      WL             0.639790       0.625850        0.004783\n"
     ]
    }
   ],
   "source": [
    "# create a handler for ensemble_test, use the created handler for fitting different models.\n",
    "ensemble_handler = EnsembleTest(bike_sharing)\n",
    "#Workspace 4.3\n",
    "#TODO: Initialize weak learner and evaluate it using evaluate_model\n",
    "#BEGIN \n",
    "ensemble_handler.evaluate_model(get_weak_learner(), 'WL')\n",
    "ensemble_handler.evaluate_model(DecisionTreeClassifier(max_depth=3, min_samples_split=2), 'Scikit')\n",
    "ensemble_handler.plot_metrics()\n",
    "#END\n",
    "ensemble_handler.print_result()"
   ]
  },
  {
   "cell_type": "markdown",
   "metadata": {
    "deletable": false,
    "editable": false,
    "nbgrader": {
     "cell_type": "markdown",
     "checksum": "8b7aee8bb8071199e88a8e1462b4caa7",
     "grade": false,
     "grade_id": "qbagging",
     "locked": true,
     "schema_version": 3,
     "solution": false,
     "task": false
    }
   },
   "source": [
    "**Bagging:**\n",
    "\n",
    "The first Ensemble technique we deal with is called _Bagging_ (Bootstrap AGGregatING).\n",
    "Bagging consists of training a number of weak learners using randomly sampled instances from our data (with replacement). We have to start\n",
    "by choosing the number of estimators we want to use. Then for each estimator, we sample a random subset of the data to fit the estimator.\n",
    "\n",
    "To compute the prediction, we sum the prediction probabilities of the estimators and return the label that has the highest\n",
    "accumulated probabilities.\n",
    "\n",
    "- 4.4 [3 points] First, complete `sample_data` to return a random sample of size `sample_ratio* len(X_train)` of features and labels\n",
    "\n",
    "- 4.5 [4 points] Complete `fit` by instantiating `n_estimators` of our weak leaner, each trained on random sample of the data\n",
    "\n",
    "- 4.6 [4 points] Complete `predict` method to return the most likely label by combining different estimators predictions.\n",
    "Instead of the majority vote used in KNNClassifier, you should use `predict_proba` method of DecisionTreeClassifier.\n",
    "[See Documentation](https://scikit-learn.org/stable/modules/generated/sklearn.tree.DecisionTreeClassifier.html#sklearn.tree.DecisionTreeClassifier.predict_proba)"
   ]
  },
  {
   "cell_type": "code",
   "execution_count": 107,
   "metadata": {},
   "outputs": [],
   "source": [
    "X = np.array([[   39, 38000,     0,     1],\n",
    "              [   48, 49000,     0,     0],\n",
    "              [   38, 41000,     0,     1],\n",
    "              [   38, 45000,     0,     0],])\n",
    "y = np.array([1,1,1, 0])"
   ]
  },
  {
   "cell_type": "code",
   "execution_count": 124,
   "metadata": {
    "deletable": false,
    "nbgrader": {
     "cell_type": "code",
     "checksum": "51ea23f426fd6ed1b0d6c9ccd3da038b",
     "grade": true,
     "grade_id": "abagging",
     "locked": false,
     "points": 11,
     "schema_version": 3,
     "solution": true,
     "task": false
    },
    "pycharm": {
     "name": "#%%\n"
    },
    "scrolled": false
   },
   "outputs": [],
   "source": [
    "class BaggingEnsemble(object):\n",
    "\n",
    "    def __init__(self, n_estimators, sample_ratio=1.0):\n",
    "        \"\"\"\n",
    "        Initialize BaggingEnsemble\n",
    "        :param n_estimators: number of estimators/weak learner to use\n",
    "        :param sample_ratio: ratio of the training data to sample\n",
    "        \"\"\"\n",
    "        self.n_estimators = n_estimators\n",
    "        self.sample_ratio = sample_ratio\n",
    "        self.estimators = [] # List used in fit method to store the trained estimators\n",
    "\n",
    "    def sample_data(self, X_train, y_train):\n",
    "        X_sample, y_sample = None, None\n",
    "        #Workspace 4.4\n",
    "        #TODO: sample random subset of size sample_ratio * len(X_train),\n",
    "        #     sampling with replacement (iid)\n",
    "        #BEGIN \n",
    "        x_int = np.random.choice(X_train.shape[0], int(self.sample_ratio* len(X_train)))\n",
    "        X_sample = X_train[x_int, :]\n",
    "        y_sample = y_train[x_int]\n",
    "        #END\n",
    "        return X_sample, y_sample\n",
    "\n",
    "    def fit(self, X_train, y_train):\n",
    "        \"\"\"\n",
    "        Train the different estimators on sampled data using provided training samples\n",
    "        :param X_train: training samples, shape (num_samples, num_features)\n",
    "        :param y_train: training labels, shape (num_samples)\n",
    "        :return: self\n",
    "        \"\"\"\n",
    "        np.random.seed(42) # Keep it to get consistent results across runs, you can change the seed value\n",
    "\n",
    "        for _ in range(self.n_estimators):\n",
    "            #Workspace 4.5\n",
    "            #BEGIN \n",
    "            X_sample, y_sample =  self.sample_data(X_train, y_train)\n",
    "            ith_weak_clf = get_weak_learner().fit(X_sample, y_sample)\n",
    "            self.estimators.append(ith_weak_clf)\n",
    "            #END\n",
    "        return self\n",
    "    def predict(self, X_test):\n",
    "        \"\"\"\n",
    "        Predict the labels of test samples\n",
    "        :param X_test: array of shape (num_points, num_features)\n",
    "        :return: 1-d array of shape (num_points)\n",
    "        \"\"\"\n",
    "        predicted_proba = 0\n",
    "        answer = 0\n",
    "        #Workspace 4.6\n",
    "    #TODO: go through the trained estimators and accumulate their predicted_proba\n",
    "    #      to get the mostly likely label\n",
    "        #BEGIN \n",
    "        nth_accu = []\n",
    "        most_likely_proba = []\n",
    "        # loop through all observations\n",
    "        for nth_obs in range(X_test.shape[0]):\n",
    "            # loop through each estimator \n",
    "            for model in self.estimators:\n",
    "                # get predictied proba of each estimator on X_test\n",
    "                predicted_proba = model.predict_proba(X_test)\n",
    "                # append calculated predicted proba of each estimator on the nth observation \n",
    "                nth_accu.append(predicted_proba[nth_obs])\n",
    "            # go through each estimator for nth observation and accumulate their predicted proba\n",
    "            accumulated_nth_proba = np.einsum('ij->j', nth_accu)\n",
    "            # append to list that contains the accumulated proba of nth observations \n",
    "            most_likely_proba.append(accumulated_nth_proba)\n",
    "            # reset to obtain next nth predicted proba \n",
    "            nth_accu = []\n",
    "        # get the most likely lable for each observation\n",
    "        answer = np.argmax(most_likely_proba, axis=1) \n",
    "        #END\n",
    "        return answer"
   ]
  },
  {
   "cell_type": "code",
   "execution_count": 125,
   "metadata": {
    "pycharm": {
     "name": "#%%\n"
    },
    "scrolled": false
   },
   "outputs": [
    {
     "name": "stdout",
     "output_type": "stream",
     "text": [
      "     Model  Precision(weighted)  Mean accuracy  Execution time\n",
      "1   Scikit             0.685739       0.680272        0.003513\n",
      "2  Bagging             0.659922       0.639456        0.073584\n",
      "0       WL             0.639790       0.625850        0.004783\n"
     ]
    },
    {
     "data": {
      "image/png": "[encoded data removed]",
      "text/plain": [
       "<Figure size 1800x600 with 3 Axes>"
      ]
     },
     "metadata": {},
     "output_type": "display_data"
    }
   ],
   "source": [
    "# This cell should run without errors\n",
    "ensemble_handler.evaluate_model(BaggingEnsemble(10, 0.9), 'Bagging')\n",
    "ensemble_handler.print_result()\n",
    "ensemble_handler.plot_metrics()"
   ]
  },
  {
   "cell_type": "markdown",
   "metadata": {
    "deletable": false,
    "editable": false,
    "nbgrader": {
     "cell_type": "markdown",
     "checksum": "baf75f9c5706d8d488ce868ad2ac828f",
     "grade": false,
     "grade_id": "qforest",
     "locked": true,
     "schema_version": 3,
     "solution": false,
     "task": false
    },
    "pycharm": {
     "name": "#%% md\n"
    }
   },
   "source": [
    "**Random Forest**\n",
    "\n",
    "Random Forest has an additional layer of randomness compared to Bagging: we also sample a random subset of the features (columns).\n",
    "The rest of the implementation should be similar if not exactly the same as Bagging. In addition to keeping track of the estimators \n",
    "(in `RandomForest.estimators`, we also have to store the features indices that are used by each estimator (in `RandomForest.features_indices`).\n",
    "\n",
    "\n",
    "- 4.7 [4 points] First, complete `sample_data` to return a random sample of size `sample_ratio* len(X_train)` of labels and `feature_ratio * num_features` of features\n",
    "\n",
    "- 4.8 [4 points] Complete `fit` by building `n_estimators` of DecisionTreeClassifier, each trained on random sample of the data.\n",
    "Make sure to keep track of the sampled features for each estimator to use them in the prediction step\n",
    "\n",
    "- 4.9 [4 points] Complete `predict` method to return the most likely label by combining different estimators predictions. Instead of the majority vote used in KNNClassifier, you should use `predict_proba` method DecisionTreeClassifier:\n",
    "[Documentation](https://scikit-learn.org/stable/modules/generated/sklearn.tree.DecisionTreeClassifier.html#sklearn.tree.DecisionTreeClassifier.predict_proba)\n"
   ]
  },
  {
   "cell_type": "code",
   "execution_count": 146,
   "metadata": {
    "deletable": false,
    "nbgrader": {
     "cell_type": "code",
     "checksum": "0e8742ff2833dd0e4749820747a33ce9",
     "grade": true,
     "grade_id": "aforest",
     "locked": false,
     "points": 12,
     "schema_version": 3,
     "solution": true,
     "task": false
    },
    "pycharm": {
     "name": "#%%\n"
    }
   },
   "outputs": [
    {
     "name": "stdout",
     "output_type": "stream",
     "text": [
      "0 observation:  [0.14393939 0.67424242 0.18181818 0.        ]\n",
      "0 observation:  [0.11764706 0.64705882 0.23529412 0.        ]\n",
      "most:  [[0.14393939393939395 0.6742424242424242 0.18181818181818182 0.0]\n",
      " [0.26158645276292336 1.321301247771836 0.41711229946524064 0.0]] \n",
      "\n",
      "1 observation:  [0.01666667 0.23333333 0.73333333 0.01666667]\n",
      "1 observation:  [0.        0.0990099 0.9009901 0.       ]\n",
      "most:  [[0.016666666666666666 0.23333333333333334 0.7333333333333333\n",
      "  0.016666666666666666]\n",
      " [0.016666666666666666 0.3323432343234324 1.6343234323432343\n",
      "  0.016666666666666666]] \n",
      "\n",
      "2 observation:  [0.01666667 0.23333333 0.73333333 0.01666667]\n",
      "2 observation:  [0.         0.35483871 0.64516129 0.        ]\n",
      "most:  [[0.016666666666666666 0.23333333333333334 0.7333333333333333\n",
      "  0.016666666666666666]\n",
      " [0.016666666666666666 0.5881720430107527 1.378494623655914\n",
      "  0.016666666666666666]] \n",
      "\n",
      "3 observation:  [0.01515152 0.03030303 0.28787879 0.66666667]\n",
      "3 observation:  [0.01492537 0.01492537 0.47761194 0.49253731]\n",
      "most:  [[0.015151515151515152 0.030303030303030304 0.2878787878787879\n",
      "  0.6666666666666666]\n",
      " [0.03007688828584351 0.045228403437358664 0.7654907281772954\n",
      "  1.1592039800995024]] \n",
      "\n",
      "4 observation:  [0.14393939 0.67424242 0.18181818 0.        ]\n",
      "4 observation:  [0.11764706 0.64705882 0.23529412 0.        ]\n",
      "most:  [[0.14393939393939395 0.6742424242424242 0.18181818181818182 0.0]\n",
      " [0.26158645276292336 1.321301247771836 0.41711229946524064 0.0]] \n",
      "\n",
      "5 observation:  [0.         0.11538462 0.88461538 0.        ]\n",
      "5 observation:  [0.        0.0990099 0.9009901 0.       ]\n",
      "most:  [[0.0 0.11538461538461539 0.8846153846153846 0.0]\n",
      " [0.0 0.2143945163747144 1.7856054836252855 0.0]] \n",
      "\n",
      "6 observation:  [0.01515152 0.03030303 0.28787879 0.66666667]\n",
      "6 observation:  [0.01492537 0.01492537 0.47761194 0.49253731]\n",
      "most:  [[0.015151515151515152 0.030303030303030304 0.2878787878787879\n",
      "  0.6666666666666666]\n",
      " [0.03007688828584351 0.045228403437358664 0.7654907281772954\n",
      "  1.1592039800995024]] \n",
      "\n",
      "7 observation:  [0.         0.11538462 0.88461538 0.        ]\n",
      "7 observation:  [0.         0.35483871 0.64516129 0.        ]\n",
      "most:  [[0.0 0.11538461538461539 0.8846153846153846 0.0]\n",
      " [0.0 0.4702233250620348 1.529776674937965 0.0]] \n",
      "\n",
      "8 observation:  [0.14393939 0.67424242 0.18181818 0.        ]\n",
      "8 observation:  [0.11764706 0.64705882 0.23529412 0.        ]\n",
      "most:  [[0.14393939393939395 0.6742424242424242 0.18181818181818182 0.0]\n",
      " [0.26158645276292336 1.321301247771836 0.41711229946524064 0.0]] \n",
      "\n",
      "9 observation:  [0.01515152 0.03030303 0.28787879 0.66666667]\n",
      "9 observation:  [0.01492537 0.01492537 0.47761194 0.49253731]\n",
      "most:  [[0.015151515151515152 0.030303030303030304 0.2878787878787879\n",
      "  0.6666666666666666]\n",
      " [0.03007688828584351 0.045228403437358664 0.7654907281772954\n",
      "  1.1592039800995024]] \n",
      "\n",
      "10 observation:  [0.14393939 0.67424242 0.18181818 0.        ]\n",
      "10 observation:  [0.11764706 0.64705882 0.23529412 0.        ]\n",
      "most:  [[0.14393939393939395 0.6742424242424242 0.18181818181818182 0.0]\n",
      " [0.26158645276292336 1.321301247771836 0.41711229946524064 0.0]] \n",
      "\n",
      "11 observation:  [0.14393939 0.67424242 0.18181818 0.        ]\n",
      "11 observation:  [0.11764706 0.64705882 0.23529412 0.        ]\n",
      "most:  [[0.14393939393939395 0.6742424242424242 0.18181818181818182 0.0]\n",
      " [0.26158645276292336 1.321301247771836 0.41711229946524064 0.0]] \n",
      "\n",
      "12 observation:  [0.88732394 0.11267606 0.         0.        ]\n",
      "12 observation:  [0.70967742 0.29032258 0.         0.        ]\n",
      "most:  [[0.8873239436619719 0.11267605633802817 0.0 0.0]\n",
      " [1.5970013630168105 0.4029986369831895 0.0 0.0]] \n",
      "\n",
      "13 observation:  [0.         0.11538462 0.88461538 0.        ]\n",
      "13 observation:  [0.        0.0990099 0.9009901 0.       ]\n",
      "most:  [[0.0 0.11538461538461539 0.8846153846153846 0.0]\n",
      " [0.0 0.2143945163747144 1.7856054836252855 0.0]] \n",
      "\n",
      "14 observation:  [0.88732394 0.11267606 0.         0.        ]\n",
      "14 observation:  [0.70967742 0.29032258 0.         0.        ]\n",
      "most:  [[0.8873239436619719 0.11267605633802817 0.0 0.0]\n",
      " [1.5970013630168105 0.4029986369831895 0.0 0.0]] \n",
      "\n",
      "15 observation:  [0.         0.         0.09401709 0.90598291]\n",
      "15 observation:  [0.         0.         0.09090909 0.90909091]\n",
      "most:  [[0.0 0.0 0.09401709401709402 0.905982905982906]\n",
      " [0.0 0.0 0.18492618492618493 1.815073815073815]] \n",
      "\n",
      "16 observation:  [0.13333333 0.16666667 0.68333333 0.01666667]\n",
      "16 observation:  [0.04761905 0.19047619 0.6984127  0.06349206]\n",
      "most:  [[0.13333333333333333 0.16666666666666666 0.6833333333333333\n",
      "  0.016666666666666666]\n",
      " [0.18095238095238095 0.3571428571428571 1.3817460317460317\n",
      "  0.08015873015873015]] \n",
      "\n",
      "17 observation:  [0.         0.         0.09401709 0.90598291]\n",
      "17 observation:  [0.         0.         0.09090909 0.90909091]\n",
      "most:  [[0.0 0.0 0.09401709401709402 0.905982905982906]\n",
      " [0.0 0.0 0.18492618492618493 1.815073815073815]] \n",
      "\n",
      "18 observation:  [0.88732394 0.11267606 0.         0.        ]\n",
      "18 observation:  [0.70967742 0.29032258 0.         0.        ]\n",
      "most:  [[0.8873239436619719 0.11267605633802817 0.0 0.0]\n",
      " [1.5970013630168105 0.4029986369831895 0.0 0.0]] \n",
      "\n",
      "19 observation:  [0.14393939 0.67424242 0.18181818 0.        ]\n",
      "19 observation:  [0.11764706 0.64705882 0.23529412 0.        ]\n",
      "most:  [[0.14393939393939395 0.6742424242424242 0.18181818181818182 0.0]\n",
      " [0.26158645276292336 1.321301247771836 0.41711229946524064 0.0]] \n",
      "\n",
      "20 observation:  [0.         0.11538462 0.88461538 0.        ]\n",
      "20 observation:  [0.         0.35483871 0.64516129 0.        ]\n",
      "most:  [[0.0 0.11538461538461539 0.8846153846153846 0.0]\n",
      " [0.0 0.4702233250620348 1.529776674937965 0.0]] \n",
      "\n",
      "21 observation:  [0.         0.         0.09401709 0.90598291]\n",
      "21 observation:  [0.         0.         0.09090909 0.90909091]\n",
      "most:  [[0.0 0.0 0.09401709401709402 0.905982905982906]\n",
      " [0.0 0.0 0.18492618492618493 1.815073815073815]] \n",
      "\n",
      "22 observation:  [0.88732394 0.11267606 0.         0.        ]\n",
      "22 observation:  [0.70967742 0.29032258 0.         0.        ]\n",
      "most:  [[0.8873239436619719 0.11267605633802817 0.0 0.0]\n",
      " [1.5970013630168105 0.4029986369831895 0.0 0.0]] \n",
      "\n",
      "23 observation:  [0.         0.11538462 0.88461538 0.        ]\n",
      "23 observation:  [0.         0.35483871 0.64516129 0.        ]\n",
      "most:  [[0.0 0.11538461538461539 0.8846153846153846 0.0]\n",
      " [0.0 0.4702233250620348 1.529776674937965 0.0]] \n",
      "\n",
      "24 observation:  [0.01515152 0.03030303 0.28787879 0.66666667]\n",
      "24 observation:  [0.         0.         0.09090909 0.90909091]\n",
      "most:  [[0.015151515151515152 0.030303030303030304 0.2878787878787879\n",
      "  0.6666666666666666]\n",
      " [0.015151515151515152 0.030303030303030304 0.3787878787878788\n",
      "  1.5757575757575757]] \n",
      "\n",
      "25 observation:  [0.         0.11538462 0.88461538 0.        ]\n",
      "25 observation:  [0.        0.0990099 0.9009901 0.       ]\n",
      "most:  [[0.0 0.11538461538461539 0.8846153846153846 0.0]\n",
      " [0.0 0.2143945163747144 1.7856054836252855 0.0]] \n",
      "\n",
      "26 observation:  [0.14393939 0.67424242 0.18181818 0.        ]\n",
      "26 observation:  [0.11764706 0.64705882 0.23529412 0.        ]\n",
      "most:  [[0.14393939393939395 0.6742424242424242 0.18181818181818182 0.0]\n",
      " [0.26158645276292336 1.321301247771836 0.41711229946524064 0.0]] \n",
      "\n",
      "27 observation:  [0.         0.         0.09401709 0.90598291]\n",
      "27 observation:  [0.         0.         0.09090909 0.90909091]\n",
      "most:  [[0.0 0.0 0.09401709401709402 0.905982905982906]\n",
      " [0.0 0.0 0.18492618492618493 1.815073815073815]] \n",
      "\n",
      "28 observation:  [0.88732394 0.11267606 0.         0.        ]\n",
      "28 observation:  [0.70967742 0.29032258 0.         0.        ]\n",
      "most:  [[0.8873239436619719 0.11267605633802817 0.0 0.0]\n",
      " [1.5970013630168105 0.4029986369831895 0.0 0.0]] \n",
      "\n",
      "29 observation:  [0.         0.11538462 0.88461538 0.        ]\n",
      "29 observation:  [0.        0.0990099 0.9009901 0.       ]\n",
      "most:  [[0.0 0.11538461538461539 0.8846153846153846 0.0]\n",
      " [0.0 0.2143945163747144 1.7856054836252855 0.0]] \n",
      "\n",
      "30 observation:  [0.         0.         0.09401709 0.90598291]\n",
      "30 observation:  [0.         0.         0.09090909 0.90909091]\n",
      "most:  [[0.0 0.0 0.09401709401709402 0.905982905982906]\n",
      " [0.0 0.0 0.18492618492618493 1.815073815073815]] \n",
      "\n",
      "31 observation:  [0.14393939 0.67424242 0.18181818 0.        ]\n",
      "31 observation:  [0.70967742 0.29032258 0.         0.        ]\n",
      "most:  [[0.14393939393939395 0.6742424242424242 0.18181818181818182 0.0]\n",
      " [0.8536168132942327 0.9645650048875856 0.18181818181818182 0.0]] \n",
      "\n",
      "32 observation:  [0.         0.         0.09401709 0.90598291]\n",
      "32 observation:  [0.         0.         0.09090909 0.90909091]\n",
      "most:  [[0.0 0.0 0.09401709401709402 0.905982905982906]\n",
      " [0.0 0.0 0.18492618492618493 1.815073815073815]] \n",
      "\n",
      "33 observation:  [0.88732394 0.11267606 0.         0.        ]\n",
      "33 observation:  [0.70967742 0.29032258 0.         0.        ]\n",
      "most:  [[0.8873239436619719 0.11267605633802817 0.0 0.0]\n",
      " [1.5970013630168105 0.4029986369831895 0.0 0.0]] \n",
      "\n",
      "34 observation:  [0.01515152 0.03030303 0.28787879 0.66666667]\n",
      "34 observation:  [0.         0.         0.09090909 0.90909091]\n",
      "most:  [[0.015151515151515152 0.030303030303030304 0.2878787878787879\n",
      "  0.6666666666666666]\n",
      " [0.015151515151515152 0.030303030303030304 0.3787878787878788\n",
      "  1.5757575757575757]] \n",
      "\n",
      "35 observation:  [0.01515152 0.03030303 0.28787879 0.66666667]\n",
      "35 observation:  [0.         0.         0.09090909 0.90909091]\n",
      "most:  [[0.015151515151515152 0.030303030303030304 0.2878787878787879\n",
      "  0.6666666666666666]\n",
      " [0.015151515151515152 0.030303030303030304 0.3787878787878788\n",
      "  1.5757575757575757]] \n",
      "\n",
      "36 observation:  [0.         0.         0.09401709 0.90598291]\n",
      "36 observation:  [0.         0.         0.09090909 0.90909091]\n",
      "most:  [[0.0 0.0 0.09401709401709402 0.905982905982906]\n",
      " [0.0 0.0 0.18492618492618493 1.815073815073815]] \n",
      "\n",
      "37 observation:  [0.14393939 0.67424242 0.18181818 0.        ]\n",
      "37 observation:  [0.11764706 0.64705882 0.23529412 0.        ]\n",
      "most:  [[0.14393939393939395 0.6742424242424242 0.18181818181818182 0.0]\n",
      " [0.26158645276292336 1.321301247771836 0.41711229946524064 0.0]] \n",
      "\n",
      "38 observation:  [0.14393939 0.67424242 0.18181818 0.        ]\n",
      "38 observation:  [0.11764706 0.64705882 0.23529412 0.        ]\n",
      "most:  [[0.14393939393939395 0.6742424242424242 0.18181818181818182 0.0]\n",
      " [0.26158645276292336 1.321301247771836 0.41711229946524064 0.0]] \n",
      "\n",
      "39 observation:  [0.         0.11538462 0.88461538 0.        ]\n",
      "39 observation:  [0.         0.35483871 0.64516129 0.        ]\n",
      "most:  [[0.0 0.11538461538461539 0.8846153846153846 0.0]\n",
      " [0.0 0.4702233250620348 1.529776674937965 0.0]] \n",
      "\n",
      "40 observation:  [0.         0.11538462 0.88461538 0.        ]\n",
      "40 observation:  [0.        0.0990099 0.9009901 0.       ]\n",
      "most:  [[0.0 0.11538461538461539 0.8846153846153846 0.0]\n",
      " [0.0 0.2143945163747144 1.7856054836252855 0.0]] \n",
      "\n",
      "41 observation:  [0.14393939 0.67424242 0.18181818 0.        ]\n",
      "41 observation:  [0.11764706 0.64705882 0.23529412 0.        ]\n",
      "most:  [[0.14393939393939395 0.6742424242424242 0.18181818181818182 0.0]\n",
      " [0.26158645276292336 1.321301247771836 0.41711229946524064 0.0]] \n",
      "\n",
      "42 observation:  [0.14393939 0.67424242 0.18181818 0.        ]\n",
      "42 observation:  [0.11764706 0.64705882 0.23529412 0.        ]\n",
      "most:  [[0.14393939393939395 0.6742424242424242 0.18181818181818182 0.0]\n",
      " [0.26158645276292336 1.321301247771836 0.41711229946524064 0.0]] \n",
      "\n",
      "43 observation:  [0.         0.11538462 0.88461538 0.        ]\n",
      "43 observation:  [0.        0.0990099 0.9009901 0.       ]\n",
      "most:  [[0.0 0.11538461538461539 0.8846153846153846 0.0]\n",
      " [0.0 0.2143945163747144 1.7856054836252855 0.0]] \n",
      "\n",
      "44 observation:  [0.01666667 0.23333333 0.73333333 0.01666667]\n",
      "44 observation:  [0.        0.0990099 0.9009901 0.       ]\n",
      "most:  [[0.016666666666666666 0.23333333333333334 0.7333333333333333\n",
      "  0.016666666666666666]\n",
      " [0.016666666666666666 0.3323432343234324 1.6343234323432343\n",
      "  0.016666666666666666]] \n",
      "\n",
      "45 observation:  [0.01515152 0.03030303 0.28787879 0.66666667]\n",
      "45 observation:  [0.         0.         0.09090909 0.90909091]\n",
      "most:  [[0.015151515151515152 0.030303030303030304 0.2878787878787879\n",
      "  0.6666666666666666]\n",
      " [0.015151515151515152 0.030303030303030304 0.3787878787878788\n",
      "  1.5757575757575757]] \n",
      "\n",
      "46 observation:  [0.14393939 0.67424242 0.18181818 0.        ]\n",
      "46 observation:  [0.11764706 0.64705882 0.23529412 0.        ]\n",
      "most:  [[0.14393939393939395 0.6742424242424242 0.18181818181818182 0.0]\n",
      " [0.26158645276292336 1.321301247771836 0.41711229946524064 0.0]] \n",
      "\n",
      "47 observation:  [0.14393939 0.67424242 0.18181818 0.        ]\n",
      "47 observation:  [0.11764706 0.64705882 0.23529412 0.        ]\n",
      "most:  [[0.14393939393939395 0.6742424242424242 0.18181818181818182 0.0]\n",
      " [0.26158645276292336 1.321301247771836 0.41711229946524064 0.0]] \n",
      "\n",
      "48 observation:  [0.01515152 0.03030303 0.28787879 0.66666667]\n",
      "48 observation:  [0.01492537 0.01492537 0.47761194 0.49253731]\n",
      "most:  [[0.015151515151515152 0.030303030303030304 0.2878787878787879\n",
      "  0.6666666666666666]\n",
      " [0.03007688828584351 0.045228403437358664 0.7654907281772954\n",
      "  1.1592039800995024]] \n",
      "\n",
      "49 observation:  [0.14393939 0.67424242 0.18181818 0.        ]\n",
      "49 observation:  [0.11764706 0.64705882 0.23529412 0.        ]\n",
      "most:  [[0.14393939393939395 0.6742424242424242 0.18181818181818182 0.0]\n",
      " [0.26158645276292336 1.321301247771836 0.41711229946524064 0.0]] \n",
      "\n",
      "50 observation:  [0.13333333 0.16666667 0.68333333 0.01666667]\n",
      "50 observation:  [0.04761905 0.19047619 0.6984127  0.06349206]\n",
      "most:  [[0.13333333333333333 0.16666666666666666 0.6833333333333333\n",
      "  0.016666666666666666]\n",
      " [0.18095238095238095 0.3571428571428571 1.3817460317460317\n",
      "  0.08015873015873015]] \n",
      "\n",
      "51 observation:  [0.         0.         0.09401709 0.90598291]\n",
      "51 observation:  [0.01492537 0.01492537 0.47761194 0.49253731]\n",
      "most:  [[0.0 0.0 0.09401709401709402 0.905982905982906]\n",
      " [0.014925373134328358 0.014925373134328358 0.5716290343156014\n",
      "  1.3985202194157418]] \n",
      "\n",
      "52 observation:  [0.         0.         0.09401709 0.90598291]\n",
      "52 observation:  [0.         0.         0.09090909 0.90909091]\n",
      "most:  [[0.0 0.0 0.09401709401709402 0.905982905982906]\n",
      " [0.0 0.0 0.18492618492618493 1.815073815073815]] \n",
      "\n",
      "53 observation:  [0.01666667 0.23333333 0.73333333 0.01666667]\n",
      "53 observation:  [0.         0.35483871 0.64516129 0.        ]\n",
      "most:  [[0.016666666666666666 0.23333333333333334 0.7333333333333333\n",
      "  0.016666666666666666]\n",
      " [0.016666666666666666 0.5881720430107527 1.378494623655914\n",
      "  0.016666666666666666]] \n",
      "\n",
      "54 observation:  [0.14393939 0.67424242 0.18181818 0.        ]\n",
      "54 observation:  [0.11764706 0.64705882 0.23529412 0.        ]\n",
      "most:  [[0.14393939393939395 0.6742424242424242 0.18181818181818182 0.0]\n",
      " [0.26158645276292336 1.321301247771836 0.41711229946524064 0.0]] \n",
      "\n",
      "55 observation:  [0.         0.         0.09401709 0.90598291]\n",
      "55 observation:  [0.01492537 0.01492537 0.47761194 0.49253731]\n",
      "most:  [[0.0 0.0 0.09401709401709402 0.905982905982906]\n",
      " [0.014925373134328358 0.014925373134328358 0.5716290343156014\n",
      "  1.3985202194157418]] \n",
      "\n",
      "56 observation:  [0.01515152 0.03030303 0.28787879 0.66666667]\n",
      "56 observation:  [0.         0.         0.09090909 0.90909091]\n",
      "most:  [[0.015151515151515152 0.030303030303030304 0.2878787878787879\n",
      "  0.6666666666666666]\n",
      " [0.015151515151515152 0.030303030303030304 0.3787878787878788\n",
      "  1.5757575757575757]] \n",
      "\n",
      "57 observation:  [0.         0.         0.09401709 0.90598291]\n",
      "57 observation:  [0.         0.         0.09090909 0.90909091]\n",
      "most:  [[0.0 0.0 0.09401709401709402 0.905982905982906]\n",
      " [0.0 0.0 0.18492618492618493 1.815073815073815]] \n",
      "\n",
      "58 observation:  [0.14393939 0.67424242 0.18181818 0.        ]\n",
      "58 observation:  [0.11764706 0.64705882 0.23529412 0.        ]\n",
      "most:  [[0.14393939393939395 0.6742424242424242 0.18181818181818182 0.0]\n",
      " [0.26158645276292336 1.321301247771836 0.41711229946524064 0.0]] \n",
      "\n",
      "59 observation:  [0.01666667 0.23333333 0.73333333 0.01666667]\n",
      "59 observation:  [0.         0.35483871 0.64516129 0.        ]\n",
      "most:  [[0.016666666666666666 0.23333333333333334 0.7333333333333333\n",
      "  0.016666666666666666]\n",
      " [0.016666666666666666 0.5881720430107527 1.378494623655914\n",
      "  0.016666666666666666]] \n",
      "\n",
      "60 observation:  [0.01666667 0.23333333 0.73333333 0.01666667]\n",
      "60 observation:  [0.         0.35483871 0.64516129 0.        ]\n",
      "most:  [[0.016666666666666666 0.23333333333333334 0.7333333333333333\n",
      "  0.016666666666666666]\n",
      " [0.016666666666666666 0.5881720430107527 1.378494623655914\n",
      "  0.016666666666666666]] \n",
      "\n",
      "61 observation:  [0.         0.         0.09401709 0.90598291]\n",
      "61 observation:  [0.04761905 0.19047619 0.6984127  0.06349206]\n",
      "most:  [[0.0 0.0 0.09401709401709402 0.905982905982906]\n",
      " [0.047619047619047616 0.19047619047619047 0.7924297924297924\n",
      "  0.9694749694749695]] \n",
      "\n",
      "62 observation:  [0.14393939 0.67424242 0.18181818 0.        ]\n",
      "62 observation:  [0.11764706 0.64705882 0.23529412 0.        ]\n",
      "most:  [[0.14393939393939395 0.6742424242424242 0.18181818181818182 0.0]\n",
      " [0.26158645276292336 1.321301247771836 0.41711229946524064 0.0]] \n",
      "\n",
      "63 observation:  [0.01666667 0.23333333 0.73333333 0.01666667]\n",
      "63 observation:  [0.        0.0990099 0.9009901 0.       ]\n",
      "most:  [[0.016666666666666666 0.23333333333333334 0.7333333333333333\n",
      "  0.016666666666666666]\n",
      " [0.016666666666666666 0.3323432343234324 1.6343234323432343\n",
      "  0.016666666666666666]] \n",
      "\n",
      "64 observation:  [0.         0.11538462 0.88461538 0.        ]\n",
      "64 observation:  [0.        0.0990099 0.9009901 0.       ]\n",
      "most:  [[0.0 0.11538461538461539 0.8846153846153846 0.0]\n",
      " [0.0 0.2143945163747144 1.7856054836252855 0.0]] \n",
      "\n",
      "65 observation:  [0.01515152 0.03030303 0.28787879 0.66666667]\n",
      "65 observation:  [0.         0.         0.09090909 0.90909091]\n",
      "most:  [[0.015151515151515152 0.030303030303030304 0.2878787878787879\n",
      "  0.6666666666666666]\n",
      " [0.015151515151515152 0.030303030303030304 0.3787878787878788\n",
      "  1.5757575757575757]] \n",
      "\n",
      "66 observation:  [0.         0.         0.09401709 0.90598291]\n",
      "66 observation:  [0.         0.         0.09090909 0.90909091]\n",
      "most:  [[0.0 0.0 0.09401709401709402 0.905982905982906]\n",
      " [0.0 0.0 0.18492618492618493 1.815073815073815]] \n",
      "\n",
      "67 observation:  [0.14393939 0.67424242 0.18181818 0.        ]\n",
      "67 observation:  [0.11764706 0.64705882 0.23529412 0.        ]\n",
      "most:  [[0.14393939393939395 0.6742424242424242 0.18181818181818182 0.0]\n",
      " [0.26158645276292336 1.321301247771836 0.41711229946524064 0.0]] \n",
      "\n",
      "68 observation:  [0.13333333 0.16666667 0.68333333 0.01666667]\n",
      "68 observation:  [0.04761905 0.19047619 0.6984127  0.06349206]\n",
      "most:  [[0.13333333333333333 0.16666666666666666 0.6833333333333333\n",
      "  0.016666666666666666]\n",
      " [0.18095238095238095 0.3571428571428571 1.3817460317460317\n",
      "  0.08015873015873015]] \n",
      "\n",
      "69 observation:  [0.         0.11538462 0.88461538 0.        ]\n",
      "69 observation:  [0.        0.0990099 0.9009901 0.       ]\n",
      "most:  [[0.0 0.11538461538461539 0.8846153846153846 0.0]\n",
      " [0.0 0.2143945163747144 1.7856054836252855 0.0]] \n",
      "\n",
      "70 observation:  [0.13333333 0.16666667 0.68333333 0.01666667]\n",
      "70 observation:  [0.04761905 0.19047619 0.6984127  0.06349206]\n",
      "most:  [[0.13333333333333333 0.16666666666666666 0.6833333333333333\n",
      "  0.016666666666666666]\n",
      " [0.18095238095238095 0.3571428571428571 1.3817460317460317\n",
      "  0.08015873015873015]] \n",
      "\n",
      "71 observation:  [0.13333333 0.16666667 0.68333333 0.01666667]\n",
      "71 observation:  [0.04761905 0.19047619 0.6984127  0.06349206]\n",
      "most:  [[0.13333333333333333 0.16666666666666666 0.6833333333333333\n",
      "  0.016666666666666666]\n",
      " [0.18095238095238095 0.3571428571428571 1.3817460317460317\n",
      "  0.08015873015873015]] \n",
      "\n",
      "72 observation:  [0.         0.         0.09401709 0.90598291]\n",
      "72 observation:  [0.01492537 0.01492537 0.47761194 0.49253731]\n",
      "most:  [[0.0 0.0 0.09401709401709402 0.905982905982906]\n",
      " [0.014925373134328358 0.014925373134328358 0.5716290343156014\n",
      "  1.3985202194157418]] \n",
      "\n",
      "73 observation:  [0.13333333 0.16666667 0.68333333 0.01666667]\n",
      "73 observation:  [0.04761905 0.19047619 0.6984127  0.06349206]\n",
      "most:  [[0.13333333333333333 0.16666666666666666 0.6833333333333333\n",
      "  0.016666666666666666]\n",
      " [0.18095238095238095 0.3571428571428571 1.3817460317460317\n",
      "  0.08015873015873015]] \n",
      "\n",
      "74 observation:  [0.         0.11538462 0.88461538 0.        ]\n",
      "74 observation:  [0.         0.35483871 0.64516129 0.        ]\n",
      "most:  [[0.0 0.11538461538461539 0.8846153846153846 0.0]\n",
      " [0.0 0.4702233250620348 1.529776674937965 0.0]] \n",
      "\n",
      "75 observation:  [0.         0.         0.09401709 0.90598291]\n",
      "75 observation:  [0.         0.         0.09090909 0.90909091]\n",
      "most:  [[0.0 0.0 0.09401709401709402 0.905982905982906]\n",
      " [0.0 0.0 0.18492618492618493 1.815073815073815]] \n",
      "\n",
      "76 observation:  [0.         0.         0.09401709 0.90598291]\n",
      "76 observation:  [0.         0.         0.09090909 0.90909091]\n",
      "most:  [[0.0 0.0 0.09401709401709402 0.905982905982906]\n",
      " [0.0 0.0 0.18492618492618493 1.815073815073815]] \n",
      "\n",
      "77 observation:  [0.01515152 0.03030303 0.28787879 0.66666667]\n",
      "77 observation:  [0.01492537 0.01492537 0.47761194 0.49253731]\n",
      "most:  [[0.015151515151515152 0.030303030303030304 0.2878787878787879\n",
      "  0.6666666666666666]\n",
      " [0.03007688828584351 0.045228403437358664 0.7654907281772954\n",
      "  1.1592039800995024]] \n",
      "\n",
      "78 observation:  [0.01515152 0.03030303 0.28787879 0.66666667]\n",
      "78 observation:  [0.01492537 0.01492537 0.47761194 0.49253731]\n",
      "most:  [[0.015151515151515152 0.030303030303030304 0.2878787878787879\n",
      "  0.6666666666666666]\n",
      " [0.03007688828584351 0.045228403437358664 0.7654907281772954\n",
      "  1.1592039800995024]] \n",
      "\n",
      "79 observation:  [0.01666667 0.23333333 0.73333333 0.01666667]\n",
      "79 observation:  [0.         0.35483871 0.64516129 0.        ]\n",
      "most:  [[0.016666666666666666 0.23333333333333334 0.7333333333333333\n",
      "  0.016666666666666666]\n",
      " [0.016666666666666666 0.5881720430107527 1.378494623655914\n",
      "  0.016666666666666666]] \n",
      "\n",
      "80 observation:  [0.13333333 0.16666667 0.68333333 0.01666667]\n",
      "80 observation:  [0.04761905 0.19047619 0.6984127  0.06349206]\n",
      "most:  [[0.13333333333333333 0.16666666666666666 0.6833333333333333\n",
      "  0.016666666666666666]\n",
      " [0.18095238095238095 0.3571428571428571 1.3817460317460317\n",
      "  0.08015873015873015]] \n",
      "\n",
      "81 observation:  [0.         0.         0.09401709 0.90598291]\n",
      "81 observation:  [0.         0.         0.09090909 0.90909091]\n",
      "most:  [[0.0 0.0 0.09401709401709402 0.905982905982906]\n",
      " [0.0 0.0 0.18492618492618493 1.815073815073815]] \n",
      "\n",
      "82 observation:  [0.01666667 0.23333333 0.73333333 0.01666667]\n",
      "82 observation:  [0.         0.35483871 0.64516129 0.        ]\n",
      "most:  [[0.016666666666666666 0.23333333333333334 0.7333333333333333\n",
      "  0.016666666666666666]\n",
      " [0.016666666666666666 0.5881720430107527 1.378494623655914\n",
      "  0.016666666666666666]] \n",
      "\n",
      "83 observation:  [0.14393939 0.67424242 0.18181818 0.        ]\n",
      "83 observation:  [0.11764706 0.64705882 0.23529412 0.        ]\n",
      "most:  [[0.14393939393939395 0.6742424242424242 0.18181818181818182 0.0]\n",
      " [0.26158645276292336 1.321301247771836 0.41711229946524064 0.0]] \n",
      "\n",
      "84 observation:  [0.14393939 0.67424242 0.18181818 0.        ]\n",
      "84 observation:  [0.11764706 0.64705882 0.23529412 0.        ]\n",
      "most:  [[0.14393939393939395 0.6742424242424242 0.18181818181818182 0.0]\n",
      " [0.26158645276292336 1.321301247771836 0.41711229946524064 0.0]] \n",
      "\n",
      "85 observation:  [0.88732394 0.11267606 0.         0.        ]\n",
      "85 observation:  [0.70967742 0.29032258 0.         0.        ]\n",
      "most:  [[0.8873239436619719 0.11267605633802817 0.0 0.0]\n",
      " [1.5970013630168105 0.4029986369831895 0.0 0.0]] \n",
      "\n",
      "86 observation:  [0.13333333 0.16666667 0.68333333 0.01666667]\n",
      "86 observation:  [0.04761905 0.19047619 0.6984127  0.06349206]\n",
      "most:  [[0.13333333333333333 0.16666666666666666 0.6833333333333333\n",
      "  0.016666666666666666]\n",
      " [0.18095238095238095 0.3571428571428571 1.3817460317460317\n",
      "  0.08015873015873015]] \n",
      "\n",
      "87 observation:  [0.88732394 0.11267606 0.         0.        ]\n",
      "87 observation:  [0.70967742 0.29032258 0.         0.        ]\n",
      "most:  [[0.8873239436619719 0.11267605633802817 0.0 0.0]\n",
      " [1.5970013630168105 0.4029986369831895 0.0 0.0]] \n",
      "\n",
      "88 observation:  [0.         0.         0.09401709 0.90598291]\n",
      "88 observation:  [0.         0.         0.09090909 0.90909091]\n",
      "most:  [[0.0 0.0 0.09401709401709402 0.905982905982906]\n",
      " [0.0 0.0 0.18492618492618493 1.815073815073815]] \n",
      "\n",
      "89 observation:  [0.         0.11538462 0.88461538 0.        ]\n",
      "89 observation:  [0.        0.0990099 0.9009901 0.       ]\n",
      "most:  [[0.0 0.11538461538461539 0.8846153846153846 0.0]\n",
      " [0.0 0.2143945163747144 1.7856054836252855 0.0]] \n",
      "\n",
      "90 observation:  [0.         0.         0.09401709 0.90598291]\n",
      "90 observation:  [0.         0.         0.09090909 0.90909091]\n",
      "most:  [[0.0 0.0 0.09401709401709402 0.905982905982906]\n",
      " [0.0 0.0 0.18492618492618493 1.815073815073815]] \n",
      "\n",
      "91 observation:  [0.01666667 0.23333333 0.73333333 0.01666667]\n",
      "91 observation:  [0.         0.35483871 0.64516129 0.        ]\n",
      "most:  [[0.016666666666666666 0.23333333333333334 0.7333333333333333\n",
      "  0.016666666666666666]\n",
      " [0.016666666666666666 0.5881720430107527 1.378494623655914\n",
      "  0.016666666666666666]] \n",
      "\n",
      "92 observation:  [0.01515152 0.03030303 0.28787879 0.66666667]\n",
      "92 observation:  [0.01492537 0.01492537 0.47761194 0.49253731]\n",
      "most:  [[0.015151515151515152 0.030303030303030304 0.2878787878787879\n",
      "  0.6666666666666666]\n",
      " [0.03007688828584351 0.045228403437358664 0.7654907281772954\n",
      "  1.1592039800995024]] \n",
      "\n",
      "93 observation:  [0.14393939 0.67424242 0.18181818 0.        ]\n",
      "93 observation:  [0.11764706 0.64705882 0.23529412 0.        ]\n",
      "most:  [[0.14393939393939395 0.6742424242424242 0.18181818181818182 0.0]\n",
      " [0.26158645276292336 1.321301247771836 0.41711229946524064 0.0]] \n",
      "\n",
      "94 observation:  [0.01666667 0.23333333 0.73333333 0.01666667]\n",
      "94 observation:  [0.        0.0990099 0.9009901 0.       ]\n",
      "most:  [[0.016666666666666666 0.23333333333333334 0.7333333333333333\n",
      "  0.016666666666666666]\n",
      " [0.016666666666666666 0.3323432343234324 1.6343234323432343\n",
      "  0.016666666666666666]] \n",
      "\n",
      "95 observation:  [0.01666667 0.23333333 0.73333333 0.01666667]\n",
      "95 observation:  [0.        0.0990099 0.9009901 0.       ]\n",
      "most:  [[0.016666666666666666 0.23333333333333334 0.7333333333333333\n",
      "  0.016666666666666666]\n",
      " [0.016666666666666666 0.3323432343234324 1.6343234323432343\n",
      "  0.016666666666666666]] \n",
      "\n",
      "96 observation:  [0.         0.         0.09401709 0.90598291]\n",
      "96 observation:  [0.         0.         0.09090909 0.90909091]\n",
      "most:  [[0.0 0.0 0.09401709401709402 0.905982905982906]\n",
      " [0.0 0.0 0.18492618492618493 1.815073815073815]] \n",
      "\n",
      "97 observation:  [0.01515152 0.03030303 0.28787879 0.66666667]\n",
      "97 observation:  [0.         0.         0.09090909 0.90909091]\n",
      "most:  [[0.015151515151515152 0.030303030303030304 0.2878787878787879\n",
      "  0.6666666666666666]\n",
      " [0.015151515151515152 0.030303030303030304 0.3787878787878788\n",
      "  1.5757575757575757]] \n",
      "\n",
      "98 observation:  [0.         0.         0.09401709 0.90598291]\n",
      "98 observation:  [0.01492537 0.01492537 0.47761194 0.49253731]\n",
      "most:  [[0.0 0.0 0.09401709401709402 0.905982905982906]\n",
      " [0.014925373134328358 0.014925373134328358 0.5716290343156014\n",
      "  1.3985202194157418]] \n",
      "\n",
      "99 observation:  [0.         0.         0.09401709 0.90598291]\n",
      "99 observation:  [0.04761905 0.19047619 0.6984127  0.06349206]\n",
      "most:  [[0.0 0.0 0.09401709401709402 0.905982905982906]\n",
      " [0.047619047619047616 0.19047619047619047 0.7924297924297924\n",
      "  0.9694749694749695]] \n",
      "\n",
      "100 observation:  [0.14393939 0.67424242 0.18181818 0.        ]\n",
      "100 observation:  [0.11764706 0.64705882 0.23529412 0.        ]\n",
      "most:  [[0.14393939393939395 0.6742424242424242 0.18181818181818182 0.0]\n",
      " [0.26158645276292336 1.321301247771836 0.41711229946524064 0.0]] \n",
      "\n",
      "101 observation:  [0.14393939 0.67424242 0.18181818 0.        ]\n",
      "101 observation:  [0.11764706 0.64705882 0.23529412 0.        ]\n",
      "most:  [[0.14393939393939395 0.6742424242424242 0.18181818181818182 0.0]\n",
      " [0.26158645276292336 1.321301247771836 0.41711229946524064 0.0]] \n",
      "\n",
      "102 observation:  [0.01666667 0.23333333 0.73333333 0.01666667]\n",
      "102 observation:  [0.         0.35483871 0.64516129 0.        ]\n",
      "most:  [[0.016666666666666666 0.23333333333333334 0.7333333333333333\n",
      "  0.016666666666666666]\n",
      " [0.016666666666666666 0.5881720430107527 1.378494623655914\n",
      "  0.016666666666666666]] \n",
      "\n",
      "103 observation:  [0.14393939 0.67424242 0.18181818 0.        ]\n",
      "103 observation:  [0.11764706 0.64705882 0.23529412 0.        ]\n",
      "most:  [[0.14393939393939395 0.6742424242424242 0.18181818181818182 0.0]\n",
      " [0.26158645276292336 1.321301247771836 0.41711229946524064 0.0]] \n",
      "\n",
      "104 observation:  [0.         0.11538462 0.88461538 0.        ]\n",
      "104 observation:  [0.        0.0990099 0.9009901 0.       ]\n",
      "most:  [[0.0 0.11538461538461539 0.8846153846153846 0.0]\n",
      " [0.0 0.2143945163747144 1.7856054836252855 0.0]] \n",
      "\n",
      "105 observation:  [0.01666667 0.23333333 0.73333333 0.01666667]\n",
      "105 observation:  [0.        0.0990099 0.9009901 0.       ]\n",
      "most:  [[0.016666666666666666 0.23333333333333334 0.7333333333333333\n",
      "  0.016666666666666666]\n",
      " [0.016666666666666666 0.3323432343234324 1.6343234323432343\n",
      "  0.016666666666666666]] \n",
      "\n",
      "106 observation:  [0.         0.         0.09401709 0.90598291]\n",
      "106 observation:  [0.         0.         0.09090909 0.90909091]\n",
      "most:  [[0.0 0.0 0.09401709401709402 0.905982905982906]\n",
      " [0.0 0.0 0.18492618492618493 1.815073815073815]] \n",
      "\n",
      "107 observation:  [0.         0.11538462 0.88461538 0.        ]\n",
      "107 observation:  [0.        0.0990099 0.9009901 0.       ]\n",
      "most:  [[0.0 0.11538461538461539 0.8846153846153846 0.0]\n",
      " [0.0 0.2143945163747144 1.7856054836252855 0.0]] \n",
      "\n",
      "108 observation:  [0.         0.         0.09401709 0.90598291]\n",
      "108 observation:  [0.         0.         0.09090909 0.90909091]\n",
      "most:  [[0.0 0.0 0.09401709401709402 0.905982905982906]\n",
      " [0.0 0.0 0.18492618492618493 1.815073815073815]] \n",
      "\n",
      "109 observation:  [0.         0.11538462 0.88461538 0.        ]\n",
      "109 observation:  [0.        0.0990099 0.9009901 0.       ]\n",
      "most:  [[0.0 0.11538461538461539 0.8846153846153846 0.0]\n",
      " [0.0 0.2143945163747144 1.7856054836252855 0.0]] \n",
      "\n",
      "110 observation:  [0.14393939 0.67424242 0.18181818 0.        ]\n",
      "110 observation:  [0.11764706 0.64705882 0.23529412 0.        ]\n",
      "most:  [[0.14393939393939395 0.6742424242424242 0.18181818181818182 0.0]\n",
      " [0.26158645276292336 1.321301247771836 0.41711229946524064 0.0]] \n",
      "\n",
      "111 observation:  [0.         0.11538462 0.88461538 0.        ]\n",
      "111 observation:  [0.        0.0990099 0.9009901 0.       ]\n",
      "most:  [[0.0 0.11538461538461539 0.8846153846153846 0.0]\n",
      " [0.0 0.2143945163747144 1.7856054836252855 0.0]] \n",
      "\n",
      "112 observation:  [0.01515152 0.03030303 0.28787879 0.66666667]\n",
      "112 observation:  [0.01492537 0.01492537 0.47761194 0.49253731]\n",
      "most:  [[0.015151515151515152 0.030303030303030304 0.2878787878787879\n",
      "  0.6666666666666666]\n",
      " [0.03007688828584351 0.045228403437358664 0.7654907281772954\n",
      "  1.1592039800995024]] \n",
      "\n",
      "113 observation:  [0.14393939 0.67424242 0.18181818 0.        ]\n",
      "113 observation:  [0.11764706 0.64705882 0.23529412 0.        ]\n",
      "most:  [[0.14393939393939395 0.6742424242424242 0.18181818181818182 0.0]\n",
      " [0.26158645276292336 1.321301247771836 0.41711229946524064 0.0]] \n",
      "\n",
      "114 observation:  [0.         0.11538462 0.88461538 0.        ]\n",
      "114 observation:  [0.         0.35483871 0.64516129 0.        ]\n",
      "most:  [[0.0 0.11538461538461539 0.8846153846153846 0.0]\n",
      " [0.0 0.4702233250620348 1.529776674937965 0.0]] \n",
      "\n",
      "115 observation:  [0.         0.         0.09401709 0.90598291]\n",
      "115 observation:  [0.         0.         0.09090909 0.90909091]\n",
      "most:  [[0.0 0.0 0.09401709401709402 0.905982905982906]\n",
      " [0.0 0.0 0.18492618492618493 1.815073815073815]] \n",
      "\n",
      "116 observation:  [0.14393939 0.67424242 0.18181818 0.        ]\n",
      "116 observation:  [0.70967742 0.29032258 0.         0.        ]\n",
      "most:  [[0.14393939393939395 0.6742424242424242 0.18181818181818182 0.0]\n",
      " [0.8536168132942327 0.9645650048875856 0.18181818181818182 0.0]] \n",
      "\n",
      "117 observation:  [0.         0.11538462 0.88461538 0.        ]\n",
      "117 observation:  [0.        0.0990099 0.9009901 0.       ]\n",
      "most:  [[0.0 0.11538461538461539 0.8846153846153846 0.0]\n",
      " [0.0 0.2143945163747144 1.7856054836252855 0.0]] \n",
      "\n",
      "118 observation:  [0.13333333 0.16666667 0.68333333 0.01666667]\n",
      "118 observation:  [0.04761905 0.19047619 0.6984127  0.06349206]\n",
      "most:  [[0.13333333333333333 0.16666666666666666 0.6833333333333333\n",
      "  0.016666666666666666]\n",
      " [0.18095238095238095 0.3571428571428571 1.3817460317460317\n",
      "  0.08015873015873015]] \n",
      "\n",
      "119 observation:  [0.01666667 0.23333333 0.73333333 0.01666667]\n",
      "119 observation:  [0.         0.35483871 0.64516129 0.        ]\n",
      "most:  [[0.016666666666666666 0.23333333333333334 0.7333333333333333\n",
      "  0.016666666666666666]\n",
      " [0.016666666666666666 0.5881720430107527 1.378494623655914\n",
      "  0.016666666666666666]] \n",
      "\n",
      "120 observation:  [0.         0.         0.09401709 0.90598291]\n",
      "120 observation:  [0.         0.         0.09090909 0.90909091]\n",
      "most:  [[0.0 0.0 0.09401709401709402 0.905982905982906]\n",
      " [0.0 0.0 0.18492618492618493 1.815073815073815]] \n",
      "\n",
      "121 observation:  [0.88732394 0.11267606 0.         0.        ]\n",
      "121 observation:  [0.70967742 0.29032258 0.         0.        ]\n",
      "most:  [[0.8873239436619719 0.11267605633802817 0.0 0.0]\n",
      " [1.5970013630168105 0.4029986369831895 0.0 0.0]] \n",
      "\n",
      "122 observation:  [0.14393939 0.67424242 0.18181818 0.        ]\n",
      "122 observation:  [0.11764706 0.64705882 0.23529412 0.        ]\n",
      "most:  [[0.14393939393939395 0.6742424242424242 0.18181818181818182 0.0]\n",
      " [0.26158645276292336 1.321301247771836 0.41711229946524064 0.0]] \n",
      "\n",
      "123 observation:  [0.88732394 0.11267606 0.         0.        ]\n",
      "123 observation:  [0.70967742 0.29032258 0.         0.        ]\n",
      "most:  [[0.8873239436619719 0.11267605633802817 0.0 0.0]\n",
      " [1.5970013630168105 0.4029986369831895 0.0 0.0]] \n",
      "\n",
      "124 observation:  [0.13333333 0.16666667 0.68333333 0.01666667]\n",
      "124 observation:  [0.04761905 0.19047619 0.6984127  0.06349206]\n",
      "most:  [[0.13333333333333333 0.16666666666666666 0.6833333333333333\n",
      "  0.016666666666666666]\n",
      " [0.18095238095238095 0.3571428571428571 1.3817460317460317\n",
      "  0.08015873015873015]] \n",
      "\n",
      "125 observation:  [0.01515152 0.03030303 0.28787879 0.66666667]\n",
      "125 observation:  [0.01492537 0.01492537 0.47761194 0.49253731]\n",
      "most:  [[0.015151515151515152 0.030303030303030304 0.2878787878787879\n",
      "  0.6666666666666666]\n",
      " [0.03007688828584351 0.045228403437358664 0.7654907281772954\n",
      "  1.1592039800995024]] \n",
      "\n",
      "126 observation:  [0.         0.11538462 0.88461538 0.        ]\n",
      "126 observation:  [0.         0.35483871 0.64516129 0.        ]\n",
      "most:  [[0.0 0.11538461538461539 0.8846153846153846 0.0]\n",
      " [0.0 0.4702233250620348 1.529776674937965 0.0]] \n",
      "\n",
      "127 observation:  [0.         0.         0.09401709 0.90598291]\n",
      "127 observation:  [0.         0.         0.09090909 0.90909091]\n",
      "most:  [[0.0 0.0 0.09401709401709402 0.905982905982906]\n",
      " [0.0 0.0 0.18492618492618493 1.815073815073815]] \n",
      "\n",
      "128 observation:  [0.         0.11538462 0.88461538 0.        ]\n",
      "128 observation:  [0.        0.0990099 0.9009901 0.       ]\n",
      "most:  [[0.0 0.11538461538461539 0.8846153846153846 0.0]\n",
      " [0.0 0.2143945163747144 1.7856054836252855 0.0]] \n",
      "\n",
      "129 observation:  [0.14393939 0.67424242 0.18181818 0.        ]\n",
      "129 observation:  [0.11764706 0.64705882 0.23529412 0.        ]\n",
      "most:  [[0.14393939393939395 0.6742424242424242 0.18181818181818182 0.0]\n",
      " [0.26158645276292336 1.321301247771836 0.41711229946524064 0.0]] \n",
      "\n",
      "130 observation:  [0.         0.         0.09401709 0.90598291]\n",
      "130 observation:  [0.         0.         0.09090909 0.90909091]\n",
      "most:  [[0.0 0.0 0.09401709401709402 0.905982905982906]\n",
      " [0.0 0.0 0.18492618492618493 1.815073815073815]] \n",
      "\n",
      "131 observation:  [0.14393939 0.67424242 0.18181818 0.        ]\n",
      "131 observation:  [0.11764706 0.64705882 0.23529412 0.        ]\n",
      "most:  [[0.14393939393939395 0.6742424242424242 0.18181818181818182 0.0]\n",
      " [0.26158645276292336 1.321301247771836 0.41711229946524064 0.0]] \n",
      "\n",
      "132 observation:  [0.01515152 0.03030303 0.28787879 0.66666667]\n",
      "132 observation:  [0.01492537 0.01492537 0.47761194 0.49253731]\n",
      "most:  [[0.015151515151515152 0.030303030303030304 0.2878787878787879\n",
      "  0.6666666666666666]\n",
      " [0.03007688828584351 0.045228403437358664 0.7654907281772954\n",
      "  1.1592039800995024]] \n",
      "\n",
      "133 observation:  [0.14393939 0.67424242 0.18181818 0.        ]\n",
      "133 observation:  [0.11764706 0.64705882 0.23529412 0.        ]\n",
      "most:  [[0.14393939393939395 0.6742424242424242 0.18181818181818182 0.0]\n",
      " [0.26158645276292336 1.321301247771836 0.41711229946524064 0.0]] \n",
      "\n",
      "134 observation:  [0.         0.         0.09401709 0.90598291]\n",
      "134 observation:  [0.         0.         0.09090909 0.90909091]\n",
      "most:  [[0.0 0.0 0.09401709401709402 0.905982905982906]\n",
      " [0.0 0.0 0.18492618492618493 1.815073815073815]] \n",
      "\n",
      "135 observation:  [0.         0.11538462 0.88461538 0.        ]\n",
      "135 observation:  [0.        0.0990099 0.9009901 0.       ]\n",
      "most:  [[0.0 0.11538461538461539 0.8846153846153846 0.0]\n",
      " [0.0 0.2143945163747144 1.7856054836252855 0.0]] \n",
      "\n",
      "136 observation:  [0.88732394 0.11267606 0.         0.        ]\n",
      "136 observation:  [0.70967742 0.29032258 0.         0.        ]\n",
      "most:  [[0.8873239436619719 0.11267605633802817 0.0 0.0]\n",
      " [1.5970013630168105 0.4029986369831895 0.0 0.0]] \n",
      "\n",
      "137 observation:  [0.         0.11538462 0.88461538 0.        ]\n",
      "137 observation:  [0.        0.0990099 0.9009901 0.       ]\n",
      "most:  [[0.0 0.11538461538461539 0.8846153846153846 0.0]\n",
      " [0.0 0.2143945163747144 1.7856054836252855 0.0]] \n",
      "\n",
      "138 observation:  [0.88732394 0.11267606 0.         0.        ]\n",
      "138 observation:  [0.70967742 0.29032258 0.         0.        ]\n",
      "most:  [[0.8873239436619719 0.11267605633802817 0.0 0.0]\n",
      " [1.5970013630168105 0.4029986369831895 0.0 0.0]] \n",
      "\n",
      "139 observation:  [0.         0.11538462 0.88461538 0.        ]\n",
      "139 observation:  [0.        0.0990099 0.9009901 0.       ]\n",
      "most:  [[0.0 0.11538461538461539 0.8846153846153846 0.0]\n",
      " [0.0 0.2143945163747144 1.7856054836252855 0.0]] \n",
      "\n",
      "140 observation:  [0.01515152 0.03030303 0.28787879 0.66666667]\n",
      "140 observation:  [0.01492537 0.01492537 0.47761194 0.49253731]\n",
      "most:  [[0.015151515151515152 0.030303030303030304 0.2878787878787879\n",
      "  0.6666666666666666]\n",
      " [0.03007688828584351 0.045228403437358664 0.7654907281772954\n",
      "  1.1592039800995024]] \n",
      "\n",
      "141 observation:  [0.14393939 0.67424242 0.18181818 0.        ]\n",
      "141 observation:  [0.11764706 0.64705882 0.23529412 0.        ]\n",
      "most:  [[0.14393939393939395 0.6742424242424242 0.18181818181818182 0.0]\n",
      " [0.26158645276292336 1.321301247771836 0.41711229946524064 0.0]] \n",
      "\n",
      "142 observation:  [0.         0.11538462 0.88461538 0.        ]\n",
      "142 observation:  [0.        0.0990099 0.9009901 0.       ]\n",
      "most:  [[0.0 0.11538461538461539 0.8846153846153846 0.0]\n",
      " [0.0 0.2143945163747144 1.7856054836252855 0.0]] \n",
      "\n",
      "143 observation:  [0.14393939 0.67424242 0.18181818 0.        ]\n",
      "143 observation:  [0.11764706 0.64705882 0.23529412 0.        ]\n",
      "most:  [[0.14393939393939395 0.6742424242424242 0.18181818181818182 0.0]\n",
      " [0.26158645276292336 1.321301247771836 0.41711229946524064 0.0]] \n",
      "\n",
      "144 observation:  [0.14393939 0.67424242 0.18181818 0.        ]\n",
      "144 observation:  [0.11764706 0.64705882 0.23529412 0.        ]\n",
      "most:  [[0.14393939393939395 0.6742424242424242 0.18181818181818182 0.0]\n",
      " [0.26158645276292336 1.321301247771836 0.41711229946524064 0.0]] \n",
      "\n",
      "145 observation:  [0.01515152 0.03030303 0.28787879 0.66666667]\n",
      "145 observation:  [0.01492537 0.01492537 0.47761194 0.49253731]\n",
      "most:  [[0.015151515151515152 0.030303030303030304 0.2878787878787879\n",
      "  0.6666666666666666]\n",
      " [0.03007688828584351 0.045228403437358664 0.7654907281772954\n",
      "  1.1592039800995024]] \n",
      "\n",
      "146 observation:  [0.         0.11538462 0.88461538 0.        ]\n",
      "146 observation:  [0.        0.0990099 0.9009901 0.       ]\n",
      "most:  [[0.0 0.11538461538461539 0.8846153846153846 0.0]\n",
      " [0.0 0.2143945163747144 1.7856054836252855 0.0]] \n",
      "\n"
     ]
    },
    {
     "data": {
      "text/plain": [
       "0"
      ]
     },
     "execution_count": 146,
     "metadata": {},
     "output_type": "execute_result"
    }
   ],
   "source": [
    "class RandomForest(object):\n",
    "\n",
    "    def __init__(self, n_estimators, sample_ratio=1.0, features_ratio=1.0):\n",
    "        self.n_estimators = n_estimators\n",
    "        self.sample_ratio = sample_ratio\n",
    "        self.features_ratio = features_ratio\n",
    "        self.estimators = [] # to store the estimator\n",
    "        self.features_indices = [] # to store the feature indices used by each estimator\n",
    "\n",
    "    def sample_data(self, X_train, y_train):\n",
    "        X_sample, y_sample, features_indices = None, None, None\n",
    "        #Workspace 4.7\n",
    "        #TODO: sample random subset of size sample_ratio * len(X_train) and subset of features of size\n",
    "        #         features_ratio * num_features\n",
    "        #BEGIN \n",
    "        x_int = np.random.choice(X_train.shape[0], int(self.sample_ratio * len(X_train)))\n",
    "        X_sample = X_train[x_int, :]\n",
    "        y_sample = y_train[x_int]\n",
    "        features_indices = np.random.choice(X_train.shape[0], int(self.features_ratio * X_train.shape[1]))\n",
    "        #END\n",
    "        return X_sample, y_sample, features_indices\n",
    "\n",
    "    def fit(self, X_train, y_train):\n",
    "        np.random.seed(42) # keep to have consistent results across run, you can change the value\n",
    "        for _ in range(self.n_estimators):\n",
    "            #Workspace 4.8\n",
    "            #TODO: sample data with random subset of rows and features using sample_data\n",
    "            #Hint: keep track of the features indices in features_indices to use in predict\n",
    "            #BEGIN \n",
    "            X_sample, y_sample, features_indices =  self.sample_data(X_train, y_train)\n",
    "            ith_weak_clf = get_weak_learner().fit(X_sample, y_sample)\n",
    "            self.estimators.append(ith_weak_clf)\n",
    "            self.features_indices.append(features_indices)\n",
    "            #END\n",
    "\n",
    "    def predict(self, X_test):\n",
    "        predicted_proba = 0\n",
    "        answer = 0\n",
    "        #Workspace 4.9\n",
    "        #TODO: compute cumulative sum of predict proba from estimators and return the labels with highest likelihood\n",
    "        #BEGIN \n",
    "        nth_accu = []\n",
    "        for nth_obs in range(X_test.shape[0]):\n",
    "            for model in self.estimators:\n",
    "                predicted_proba = model.predict_proba(X_test)\n",
    "                nth_accu.append(predicted_proba[nth_obs])\n",
    "                print(nth_obs, 'observation: ', predicted_proba[nth_obs])\n",
    "            most_likely = np.cumsum(nth_accu, axis=0, dtype = object)\n",
    "            print('most: ', most_likely, '\\n')\n",
    "            nth_accu = []\n",
    "        #END\n",
    "        return answer\n",
    "rf = RandomForest(2)\n",
    "rf.fit(X_bike, y_bike)\n",
    "rf.predict(x_test)"
   ]
  },
  {
   "cell_type": "code",
   "execution_count": null,
   "metadata": {
    "pycharm": {
     "name": "#%%\n"
    }
   },
   "outputs": [],
   "source": [
    "# This cell should run without errors\n",
    "ensemble_handler.evaluate_model(RandomForest(200, sample_ratio=0.7, features_ratio=0.1), 'RandomForest')\n",
    "ensemble_handler.print_result()"
   ]
  },
  {
   "cell_type": "markdown",
   "metadata": {
    "deletable": false,
    "editable": false,
    "nbgrader": {
     "cell_type": "markdown",
     "checksum": "fc8bad9492e27f8b3082e9657ad879ec",
     "grade": false,
     "grade_id": "qboosting",
     "locked": true,
     "schema_version": 3,
     "solution": false,
     "task": false
    }
   },
   "source": [
    "**Boosting**\n",
    "\n",
    "There are different methods of boosting, but we'll focus in this problem on Adaptive Boosting (AdaBoost).\n",
    "The logic of AdaBoost is to \"push\" each new learner to give more importance to previously misclassified data. We present\n",
    "below the multiclass variant of AdaBoost [SAMME](https://web.stanford.edu/~hastie/Papers/samme.pdf). We denote $K$ the number of classes.\n",
    "\n",
    "AdaBosst is performed by increasing the weights of misclassified simple after each iteration:\n",
    "- Input: m samples $(X_i, y_i)_{i\\in [m]}$, number of boosting rounds $N$\n",
    "- Start with equal samples weights $W = (w_i), $ where   $w_i = \\frac{1}{\\texttt{n_samples}}$\n",
    "- at round j:\n",
    "    - Train estimator $h_j$ using current weights $W$\n",
    "    - Get the predicted $(\\hat{y}_i)$ on the training data using $h_j$\n",
    "    - Find the weighted error rate $\\epsilon_j$ using $W$: $\\epsilon_j=\\frac{\\sum_i w_i \\Delta(\\hat{y}_i, y_i)}{\\sum_i w_i}$\n",
    "    - Choose $\\alpha_j = \\log \\frac{1-\\epsilon_j}{\\epsilon_j} + \\log(K-1)$\n",
    "    - Update $W$ using: $w_i \\leftarrow w_i \\exp(\\alpha_j \\Delta(\\hat{y_i}, y_i)) $\n",
    "    - Normalize $W$ to have sum 1\n",
    "- Global estimator is $H = \\sum_j \\alpha_j h_j$,\n",
    "\n",
    "the $\\Delta$ function equals to 1 when the two argument are different, 0 otherwise.\n",
    "\n",
    "To understand how we implement $H$, imaging we have two classes, and we boosted for 3 rounds to get $(h_1, h_2, h_3)$,\n",
    "with weights $(\\alpha_1, \\alpha_2, \\alpha_3)$. When we want to predict the label of sample $x$, we get $(h_1(x), h_2(x), h_3(x)) = (0,1,0)$.\n",
    "\n",
    "In this case, label $0$ gets a weight $\\alpha_1+\\alpha_2$, while class $1$ get weight $\\alpha_2$. The predicted class is the one with\n",
    "the largest weight (1 if $\\alpha_2 > \\alpha_1 + \\alpha_3$, 0 otherwise)\n",
    "\n",
    "\n",
    "- 4.10 [6pts] Complete `fit` by building `n_estimators` of DecisionTreeClassifier, each trained on the same data but with different samples weights as detailed in the algorithm. Keep track of $(\\alpha_i)$\n",
    "\n",
    "_Hint: our weak learner (DecisionTreeClassifier) can take an argument `sample_weight` when calling the `fit` method, you'll have to use it to provide the weights $W$_\n",
    "\n",
    "- 4.11  [4 pts] Complete `predict` method to return the predicted label using the global estimator $H$. \n",
    "\n",
    "_Hint: use one hot encoding of the predicted labels from the weak learners and cumulate the prediction with weights $\\alpha_j$, a dictionary will also work_\n",
    "\n",
    "Notice that if the estimator is consistent (0 error rate on the training set), AdaBoost $\\alpha_j$ are no longer defined. That's why this method requires a **weak** learner."
   ]
  },
  {
   "cell_type": "code",
   "execution_count": null,
   "metadata": {
    "deletable": false,
    "nbgrader": {
     "cell_type": "code",
     "checksum": "cc82033d238e3e9764c37a6e7dbf8bec",
     "grade": true,
     "grade_id": "aboosting",
     "locked": false,
     "points": 10,
     "schema_version": 3,
     "solution": true,
     "task": false
    },
    "pycharm": {
     "name": "#%%\n"
    }
   },
   "outputs": [],
   "source": [
    "class AdaBoost(object):\n",
    "\n",
    "    def __init__(self, n_estimators):\n",
    "        \"\"\"\n",
    "        :param n_estimators: number of estimators/ boosting rounds\n",
    "        \"\"\"\n",
    "        self.n_estimators = n_estimators\n",
    "        self.num_classes = None\n",
    "        self.estimators = []\n",
    "        self.alphas = np.zeros(n_estimators)\n",
    "\n",
    "\n",
    "    def fit(self, X_train, y_train):\n",
    "\n",
    "        self.num_classes = np.unique(y_train).shape[0] # K in the algorithm\n",
    "        weights = np.ones(len(X_train)) / len(X_train) # W in the algorithm\n",
    "        # Workspace 4.10\n",
    "        #TODO: Implement Multiclass Adaboost and keep track of the alpha_j\n",
    "        #BEGIN \n",
    "        # code here\n",
    "        #END\n",
    "\n",
    "    def predict(self, X_test):\n",
    "        answer = 0\n",
    "        # Workspace 4.11\n",
    "        #TODO: get the labels returned by the global estimator defined as H\n",
    "        #Hint: Use one-hot format to accumulate alphas for different classes, or a dictionary\n",
    "        # The predicted label is the one that accumulates the largest sum of alphas\n",
    "        #Hint: We don't need predict_proba for this one\n",
    "        #BEGIN \n",
    "        # code here\n",
    "        #END\n",
    "        return answer\n"
   ]
  },
  {
   "cell_type": "code",
   "execution_count": null,
   "metadata": {
    "pycharm": {
     "name": "#%%\n"
    }
   },
   "outputs": [],
   "source": [
    "ensemble_handler.evaluate_model(RandomForest(100, sample_ratio=0.8, features_ratio=0.8), 'RandomForest')\n",
    "ensemble_handler.evaluate_model(AdaBoost(40), 'AdaBoost')\n",
    "ensemble_handler.print_result()"
   ]
  },
  {
   "cell_type": "markdown",
   "metadata": {
    "deletable": false,
    "editable": false,
    "nbgrader": {
     "cell_type": "markdown",
     "checksum": "ff8b19b88620b8f625418ce00bd913c9",
     "grade": false,
     "grade_id": "q412",
     "locked": true,
     "schema_version": 3,
     "solution": false,
     "task": false
    }
   },
   "source": [
    "**Comparison**\n",
    "\n",
    "- 4.12 [4 points] Add different ensemble methods to the handler (try different parameters), plot, show, and compare them.\n",
    "What's the best weighted average precision we can get? What's the best accuracy? Which ensemble method achieves each of them?\n",
    "You can also compare to our best decision tree found in Problem 3."
   ]
  },
  {
   "cell_type": "code",
   "execution_count": null,
   "metadata": {
    "deletable": false,
    "nbgrader": {
     "cell_type": "code",
     "checksum": "803f91849b205987b919ea2138210a16",
     "grade": true,
     "grade_id": "a412a",
     "locked": false,
     "points": 2,
     "schema_version": 3,
     "solution": true,
     "task": false
    },
    "pycharm": {
     "name": "#%%\n"
    }
   },
   "outputs": [],
   "source": [
    "# create a handler for ensemble_test, use the created handler for fitting different models.\n",
    "ensemble_handler = EnsembleTest(bike_sharing)\n",
    "ensemble_handler.evaluate_model(get_weak_learner(), 'weak_learner')\n",
    "#Workspace 4.12.a\n",
    "#TODO Add multiple instances of the ensemble methods. Plot and compare their performance\n",
    "#YOu can also add best tree from problem 3\n",
    "#BEGIN \n",
    "# code here\n",
    "#END"
   ]
  },
  {
   "cell_type": "markdown",
   "metadata": {
    "deletable": false,
    "nbgrader": {
     "cell_type": "markdown",
     "checksum": "6e67b7db837971f9c35f4cb8350852fe",
     "grade": true,
     "grade_id": "a412b",
     "locked": false,
     "points": 2,
     "schema_version": 3,
     "solution": true,
     "task": false
    }
   },
   "source": [
    "#### Write-up 4.12.b\n",
    "%BEGIN\n",
    "\n",
    "% YOUR ANSWER HERE\n",
    "\n",
    "%END"
   ]
  },
  {
   "cell_type": "code",
   "execution_count": null,
   "metadata": {},
   "outputs": [],
   "source": []
  }
 ],
 "metadata": {
  "kernelspec": {
   "display_name": "Python 3 (ipykernel)",
   "language": "python",
   "name": "python3"
  },
  "language_info": {
   "codemirror_mode": {
    "name": "ipython",
    "version": 3
   },
   "file_extension": ".py",
   "mimetype": "text/x-python",
   "name": "python",
   "nbconvert_exporter": "python",
   "pygments_lexer": "ipython3",
   "version": "3.10.6"
  }
 },
 "nbformat": 4,
 "nbformat_minor": 4
}
