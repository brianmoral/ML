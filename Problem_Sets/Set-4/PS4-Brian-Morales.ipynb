{
 "cells": [
  {
   "cell_type": "markdown",
   "metadata": {},
   "source": [
    "## Installations"
   ]
  },
  {
   "cell_type": "code",
   "execution_count": 2,
   "metadata": {},
   "outputs": [],
   "source": [
    "import sklearn.neighbors as skn \n",
    "import numpy as np\n",
    "import matplotlib as plt \n",
    "import pandas as pd "
   ]
  },
  {
   "cell_type": "markdown",
   "metadata": {},
   "source": [
    "## Data Processing"
   ]
  },
  {
   "cell_type": "code",
   "execution_count": 23,
   "metadata": {},
   "outputs": [
    {
     "data": {
      "text/html": [
       "<div>\n",
       "<style scoped>\n",
       "    .dataframe tbody tr th:only-of-type {\n",
       "        vertical-align: middle;\n",
       "    }\n",
       "\n",
       "    .dataframe tbody tr th {\n",
       "        vertical-align: top;\n",
       "    }\n",
       "\n",
       "    .dataframe thead th {\n",
       "        text-align: right;\n",
       "    }\n",
       "</style>\n",
       "<table border=\"1\" class=\"dataframe\">\n",
       "  <thead>\n",
       "    <tr style=\"text-align: right;\">\n",
       "      <th></th>\n",
       "      <th>Index</th>\n",
       "      <th>Month</th>\n",
       "      <th>Hour</th>\n",
       "      <th>Temperature(�C)</th>\n",
       "      <th>Humidity(%)</th>\n",
       "      <th>Wind speed (m/s)</th>\n",
       "      <th>Visibility (10m)</th>\n",
       "      <th>Dew point temperature(�C)</th>\n",
       "      <th>Solar Radiation (MJ/m2)</th>\n",
       "      <th>Rainfall(mm)</th>\n",
       "      <th>Snowfall (cm)</th>\n",
       "      <th>Seasons</th>\n",
       "      <th>Holiday</th>\n",
       "      <th>Functioning Day</th>\n",
       "    </tr>\n",
       "  </thead>\n",
       "  <tbody>\n",
       "    <tr>\n",
       "      <th>0</th>\n",
       "      <td>0</td>\n",
       "      <td>4</td>\n",
       "      <td>5</td>\n",
       "      <td>10.2</td>\n",
       "      <td>73</td>\n",
       "      <td>0.8</td>\n",
       "      <td>1137</td>\n",
       "      <td>5.5</td>\n",
       "      <td>0.00</td>\n",
       "      <td>0.0</td>\n",
       "      <td>0.0</td>\n",
       "      <td>1</td>\n",
       "      <td>1</td>\n",
       "      <td>1</td>\n",
       "    </tr>\n",
       "    <tr>\n",
       "      <th>1</th>\n",
       "      <td>1</td>\n",
       "      <td>4</td>\n",
       "      <td>7</td>\n",
       "      <td>15.1</td>\n",
       "      <td>80</td>\n",
       "      <td>1.0</td>\n",
       "      <td>623</td>\n",
       "      <td>11.6</td>\n",
       "      <td>0.01</td>\n",
       "      <td>0.0</td>\n",
       "      <td>0.0</td>\n",
       "      <td>1</td>\n",
       "      <td>1</td>\n",
       "      <td>1</td>\n",
       "    </tr>\n",
       "    <tr>\n",
       "      <th>2</th>\n",
       "      <td>2</td>\n",
       "      <td>5</td>\n",
       "      <td>8</td>\n",
       "      <td>17.1</td>\n",
       "      <td>57</td>\n",
       "      <td>1.7</td>\n",
       "      <td>792</td>\n",
       "      <td>8.5</td>\n",
       "      <td>1.21</td>\n",
       "      <td>0.0</td>\n",
       "      <td>0.0</td>\n",
       "      <td>1</td>\n",
       "      <td>1</td>\n",
       "      <td>1</td>\n",
       "    </tr>\n",
       "    <tr>\n",
       "      <th>3</th>\n",
       "      <td>3</td>\n",
       "      <td>4</td>\n",
       "      <td>22</td>\n",
       "      <td>2.7</td>\n",
       "      <td>88</td>\n",
       "      <td>2.0</td>\n",
       "      <td>621</td>\n",
       "      <td>0.9</td>\n",
       "      <td>0.00</td>\n",
       "      <td>0.0</td>\n",
       "      <td>0.0</td>\n",
       "      <td>1</td>\n",
       "      <td>1</td>\n",
       "      <td>1</td>\n",
       "    </tr>\n",
       "    <tr>\n",
       "      <th>4</th>\n",
       "      <td>4</td>\n",
       "      <td>4</td>\n",
       "      <td>17</td>\n",
       "      <td>6.3</td>\n",
       "      <td>50</td>\n",
       "      <td>4.4</td>\n",
       "      <td>707</td>\n",
       "      <td>-3.3</td>\n",
       "      <td>0.64</td>\n",
       "      <td>0.0</td>\n",
       "      <td>0.0</td>\n",
       "      <td>1</td>\n",
       "      <td>1</td>\n",
       "      <td>1</td>\n",
       "    </tr>\n",
       "  </tbody>\n",
       "</table>\n",
       "</div>"
      ],
      "text/plain": [
       "   Index  Month  Hour  Temperature(�C)  Humidity(%)  Wind speed (m/s)  \\\n",
       "0      0      4     5             10.2           73               0.8   \n",
       "1      1      4     7             15.1           80               1.0   \n",
       "2      2      5     8             17.1           57               1.7   \n",
       "3      3      4    22              2.7           88               2.0   \n",
       "4      4      4    17              6.3           50               4.4   \n",
       "\n",
       "   Visibility (10m)  Dew point temperature(�C)  Solar Radiation (MJ/m2)  \\\n",
       "0              1137                        5.5                     0.00   \n",
       "1               623                       11.6                     0.01   \n",
       "2               792                        8.5                     1.21   \n",
       "3               621                        0.9                     0.00   \n",
       "4               707                       -3.3                     0.64   \n",
       "\n",
       "   Rainfall(mm)  Snowfall (cm)  Seasons  Holiday  Functioning Day  \n",
       "0           0.0            0.0        1        1                1  \n",
       "1           0.0            0.0        1        1                1  \n",
       "2           0.0            0.0        1        1                1  \n",
       "3           0.0            0.0        1        1                1  \n",
       "4           0.0            0.0        1        1                1  "
      ]
     },
     "execution_count": 23,
     "metadata": {},
     "output_type": "execute_result"
    }
   ],
   "source": [
    "bike_Xtrain = pd.read_csv('XTrain.csv')\n",
    "bike_Xtrain['Date'] = pd.to_datetime(bike_Xtrain['Date'], infer_datetime_format=True).dt.month\n",
    "bike_Xtrain = bike_Xtrain.rename(columns={'Date': 'Month'})\n",
    "seasons = pd.Categorical(bike_Xtrain['Seasons'])\n",
    "bike_Xtrain['Seasons'] = seasons.codes\n",
    "holidays = pd.Categorical(bike_Xtrain['Holiday'])\n",
    "bike_Xtrain['Holiday'] = holidays.codes\n",
    "func_day = pd.Categorical(bike_Xtrain['Functioning Day'])\n",
    "bike_Xtrain['Functioning Day'] = func_day.codes\n",
    "bike_Xtrain.head()"
   ]
  },
  {
   "cell_type": "code",
   "execution_count": 24,
   "metadata": {},
   "outputs": [],
   "source": [
    "\n",
    "bike_Ytrain = pd.read_csv('yTrain.csv')\n",
    "bike_Xtest = pd.read_csv('XTest.csv')\n"
   ]
  },
  {
   "cell_type": "code",
   "execution_count": 25,
   "metadata": {},
   "outputs": [
    {
     "data": {
      "text/plain": [
       "KNeighborsClassifier()"
      ]
     },
     "execution_count": 25,
     "metadata": {},
     "output_type": "execute_result"
    }
   ],
   "source": [
    "skn.KNeighborsClassifier().fit(bike_Xtrain, bike_Ytrain)"
   ]
  }
 ],
 "metadata": {
  "kernelspec": {
   "display_name": "Python 3.9.12 ('base')",
   "language": "python",
   "name": "python3"
  },
  "language_info": {
   "codemirror_mode": {
    "name": "ipython",
    "version": 3
   },
   "file_extension": ".py",
   "mimetype": "text/x-python",
   "name": "python",
   "nbconvert_exporter": "python",
   "pygments_lexer": "ipython3",
   "version": "3.9.12"
  },
  "orig_nbformat": 4,
  "vscode": {
   "interpreter": {
    "hash": "40d3a090f54c6569ab1632332b64b2c03c39dcf918b08424e98f38b5ae0af88f"
   }
  }
 },
 "nbformat": 4,
 "nbformat_minor": 2
}
